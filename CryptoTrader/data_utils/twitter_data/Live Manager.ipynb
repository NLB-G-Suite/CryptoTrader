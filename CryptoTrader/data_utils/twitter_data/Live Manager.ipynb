{
 "cells": [
  {
   "cell_type": "code",
   "execution_count": 65,
   "metadata": {},
   "outputs": [],
   "source": [
    "import os\n",
    "import pandas as pd\n",
    "from glob import glob\n",
    "import numpy as np"
   ]
  },
  {
   "cell_type": "code",
   "execution_count": 2,
   "metadata": {},
   "outputs": [],
   "source": [
    "currpath = os.getcwd()"
   ]
  },
  {
   "cell_type": "code",
   "execution_count": 97,
   "metadata": {},
   "outputs": [],
   "source": [
    "fulldf = None\n",
    "\n",
    "for file in glob(currpath + \"/data/live/*\"):\n",
    "    if \"debug\" not in file:\n",
    "        df = pd.read_csv(file, engine=\"python\")\n",
    "        \n",
    "        if fulldf is None:\n",
    "            fulldf=df[:0]\n",
    "            \n",
    "        fulldf = pd.concat([fulldf, df])"
   ]
  },
  {
   "cell_type": "code",
   "execution_count": 99,
   "metadata": {},
   "outputs": [],
   "source": [
    "fulldf['Time'] = pd.to_datetime(fulldf['Time'], errors='coerce')"
   ]
  },
  {
   "cell_type": "code",
   "execution_count": 101,
   "metadata": {
    "scrolled": false
   },
   "outputs": [],
   "source": [
    "fulldf = fulldf.sort_values('Time').dropna(subset=['Time']).drop('Unnamed: 0', axis=1).reset_index(drop=True) #subset='time' is there because for tweets, in response to is NaN"
   ]
  },
  {
   "cell_type": "code",
   "execution_count": 108,
   "metadata": {},
   "outputs": [
    {
     "data": {
      "text/html": [
       "<div>\n",
       "<style scoped>\n",
       "    .dataframe tbody tr th:only-of-type {\n",
       "        vertical-align: middle;\n",
       "    }\n",
       "\n",
       "    .dataframe tbody tr th {\n",
       "        vertical-align: top;\n",
       "    }\n",
       "\n",
       "    .dataframe thead th {\n",
       "        text-align: right;\n",
       "    }\n",
       "</style>\n",
       "<table border=\"1\" class=\"dataframe\">\n",
       "  <thead>\n",
       "    <tr style=\"text-align: right;\">\n",
       "      <th></th>\n",
       "      <th>ID</th>\n",
       "      <th>Tweet</th>\n",
       "      <th>Time</th>\n",
       "      <th>User</th>\n",
       "      <th>Likes</th>\n",
       "      <th>Replies</th>\n",
       "      <th>Retweets</th>\n",
       "      <th>in_response_to</th>\n",
       "      <th>coinname</th>\n",
       "    </tr>\n",
       "    <tr>\n",
       "      <th>response_type</th>\n",
       "      <th></th>\n",
       "      <th></th>\n",
       "      <th></th>\n",
       "      <th></th>\n",
       "      <th></th>\n",
       "      <th></th>\n",
       "      <th></th>\n",
       "      <th></th>\n",
       "      <th></th>\n",
       "    </tr>\n",
       "  </thead>\n",
       "  <tbody>\n",
       "    <tr>\n",
       "      <th>quoted_retweet</th>\n",
       "      <td>9438</td>\n",
       "      <td>9438</td>\n",
       "      <td>9438</td>\n",
       "      <td>9438</td>\n",
       "      <td>9438</td>\n",
       "      <td>9438</td>\n",
       "      <td>9438</td>\n",
       "      <td>9438</td>\n",
       "      <td>9438</td>\n",
       "    </tr>\n",
       "    <tr>\n",
       "      <th>reply</th>\n",
       "      <td>11196</td>\n",
       "      <td>11196</td>\n",
       "      <td>11196</td>\n",
       "      <td>11196</td>\n",
       "      <td>11196</td>\n",
       "      <td>11196</td>\n",
       "      <td>11196</td>\n",
       "      <td>11196</td>\n",
       "      <td>11196</td>\n",
       "    </tr>\n",
       "    <tr>\n",
       "      <th>retweet</th>\n",
       "      <td>111417</td>\n",
       "      <td>111417</td>\n",
       "      <td>111417</td>\n",
       "      <td>111417</td>\n",
       "      <td>111417</td>\n",
       "      <td>111417</td>\n",
       "      <td>111417</td>\n",
       "      <td>111417</td>\n",
       "      <td>111417</td>\n",
       "    </tr>\n",
       "    <tr>\n",
       "      <th>tweet</th>\n",
       "      <td>79157</td>\n",
       "      <td>79157</td>\n",
       "      <td>79157</td>\n",
       "      <td>79157</td>\n",
       "      <td>79157</td>\n",
       "      <td>79157</td>\n",
       "      <td>79157</td>\n",
       "      <td>0</td>\n",
       "      <td>79157</td>\n",
       "    </tr>\n",
       "  </tbody>\n",
       "</table>\n",
       "</div>"
      ],
      "text/plain": [
       "                    ID   Tweet    Time    User   Likes  Replies  Retweets  \\\n",
       "response_type                                                               \n",
       "quoted_retweet    9438    9438    9438    9438    9438     9438      9438   \n",
       "reply            11196   11196   11196   11196   11196    11196     11196   \n",
       "retweet         111417  111417  111417  111417  111417   111417    111417   \n",
       "tweet            79157   79157   79157   79157   79157    79157     79157   \n",
       "\n",
       "                in_response_to  coinname  \n",
       "response_type                             \n",
       "quoted_retweet            9438      9438  \n",
       "reply                    11196     11196  \n",
       "retweet                 111417    111417  \n",
       "tweet                        0     79157  "
      ]
     },
     "execution_count": 108,
     "metadata": {},
     "output_type": "execute_result"
    }
   ],
   "source": [
    "fulldf.groupby('response_type').count()"
   ]
  },
  {
   "cell_type": "code",
   "execution_count": null,
   "metadata": {},
   "outputs": [],
   "source": []
  }
 ],
 "metadata": {
  "kernelspec": {
   "display_name": "Python 3",
   "language": "python",
   "name": "python3"
  },
  "language_info": {
   "codemirror_mode": {
    "name": "ipython",
    "version": 3
   },
   "file_extension": ".py",
   "mimetype": "text/x-python",
   "name": "python",
   "nbconvert_exporter": "python",
   "pygments_lexer": "ipython3",
   "version": "3.5.2"
  }
 },
 "nbformat": 4,
 "nbformat_minor": 2
}
