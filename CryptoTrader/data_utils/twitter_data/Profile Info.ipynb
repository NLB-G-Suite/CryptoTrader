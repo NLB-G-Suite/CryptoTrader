{
 "cells": [
  {
   "cell_type": "code",
   "execution_count": 115,
   "metadata": {},
   "outputs": [],
   "source": [
    "from multiprocessing.pool import Pool\n",
    "import requests\n",
    "import json\n",
    "import random\n",
    "import logging\n",
    "\n",
    "from datetime import datetime\n",
    "from bs4 import BeautifulSoup\n",
    "\n",
    "from datetime import datetime"
   ]
  },
  {
   "cell_type": "code",
   "execution_count": 4,
   "metadata": {},
   "outputs": [],
   "source": [
    "HEADERS_LIST = ['Mozilla/5.0 (Windows NT 10.0; Win64; x64) AppleWebKit/537.36 (KHTML, like Gecko) Chrome/67.0.3396.79 Safari/537.36', 'Mozilla/5.0 (Windows NT 10.0; Win64; x64; rv:60.0) Gecko/20100101 Firefox/60.0', 'Mozilla/5.0 (X11; Linux x86_64; rv:58.0) Gecko/20100101 Firefox/58.0']"
   ]
  },
  {
   "cell_type": "code",
   "execution_count": 188,
   "metadata": {},
   "outputs": [],
   "source": [
    "def get_profile_data(soup):\n",
    "    sideBar = soup.find('div', 'ProfileHeaderCard')\n",
    "    \n",
    "    location = sideBar.find('div', 'ProfileHeaderCard-location').get_text().strip() or 0\n",
    "    print(location)\n",
    "    \n",
    "    joined = sideBar.find('span', 'ProfileHeaderCard-joinDateText')['title']\n",
    "    \n",
    "    try:\n",
    "        age = (datetime.now() - datetime.strptime(joined, \"%I:%M %p - %d %b %Y\")).days\n",
    "    except:\n",
    "        age = 0\n",
    "        \n",
    "    print(age)\n",
    "    \n",
    "    verified = 0 if sideBar.find('span', 'Icon--verified') == None else 1\n",
    "    print(verified)\n",
    "    \n",
    "    topBar = soup.find('ul',  'ProfileNav-list')\n",
    "    \n",
    "    tweets = topBar.find('li', 'ProfileNav-item--tweets').find('span', 'ProfileNav-value')['data-count']\n",
    "    print(tweets)\n",
    "    \n",
    "    following = topBar.find('li', 'ProfileNav-item--following').find('span', 'ProfileNav-value')['data-count']\n",
    "    print(following)\n",
    "    \n",
    "    followers = topBar.find('li', 'ProfileNav-item--followers').find('span', 'ProfileNav-value')['data-count']\n",
    "    print(followers)\n",
    "    \n",
    "    likes = topBar.find('li', 'ProfileNav-item--favorites').find('span', 'ProfileNav-value')['data-count']\n",
    "    print(likes)\n",
    "    \n",
    "    #also ProfileNav-item--moments\n",
    "    \n",
    "    try:\n",
    "        listCount = topBar.find('li', 'ProfileNav-item--lists').find('span', 'ProfileNav-value')['data-count']\n",
    "    except:\n",
    "        listCount = 0\n",
    "        \n",
    "    print(listCount)\n",
    "    \n",
    "    has_avatar = 0 if 'default_profile_images' in soup.find('img', 'ProfileAvatar-image')['src'] else 1\n",
    "    print(has_avatar)\n",
    "    \n",
    "    try:\n",
    "        soup.find('div', 'ProfileCanopy-headerBg').find('img')['src']\n",
    "        has_background = 1\n",
    "    except:\n",
    "        has_background = 0\n",
    "    \n",
    "    print(has_background)\n",
    "    \n",
    "    try:\n",
    "        a = soup.find('h2', 'ProtectedTimeline-heading')\n",
    "        protected = 1\n",
    "    except:\n",
    "        protected = 0\n",
    "        \n",
    "    print(protected)\n",
    "    \n",
    "    modified = 1 if has_background == 1 or has_avatar == 1 or location != 0 else 0\n",
    "    \n",
    "    print(modified)"
   ]
  },
  {
   "cell_type": "code",
   "execution_count": 189,
   "metadata": {},
   "outputs": [],
   "source": [
    "def get_soup(username):\n",
    "    url = \"https://twitter.com/{}\"\n",
    "    headers = {'User-Agent': random.choice(HEADERS_LIST)}\n",
    "    response = requests.get(url.format(username), headers=headers)\n",
    "\n",
    "    html = response.text\n",
    "    soup = BeautifulSoup(html, \"lxml\")\n",
    "    return soup"
   ]
  },
  {
   "cell_type": "code",
   "execution_count": 181,
   "metadata": {},
   "outputs": [],
   "source": [
    "soup = get_soup('elonmusk')"
   ]
  },
  {
   "cell_type": "code",
   "execution_count": 190,
   "metadata": {
    "scrolled": true
   },
   "outputs": [
    {
     "name": "stdout",
     "output_type": "stream",
     "text": [
      "0\n",
      "3296\n",
      "1\n",
      "4652\n",
      "54\n",
      "21943125\n",
      "1089\n",
      "0\n",
      "1\n",
      "1\n",
      "1\n",
      "1\n"
     ]
    }
   ],
   "source": [
    "joined = get_profile_data(soup)"
   ]
  },
  {
   "cell_type": "code",
   "execution_count": 72,
   "metadata": {},
   "outputs": [],
   "source": [
    "#default profile settings or customized?"
   ]
  }
 ],
 "metadata": {
  "kernelspec": {
   "display_name": "Python 3",
   "language": "python",
   "name": "python3"
  },
  "language_info": {
   "codemirror_mode": {
    "name": "ipython",
    "version": 3
   },
   "file_extension": ".py",
   "mimetype": "text/x-python",
   "name": "python",
   "nbconvert_exporter": "python",
   "pygments_lexer": "ipython3",
   "version": "3.6.5"
  }
 },
 "nbformat": 4,
 "nbformat_minor": 2
}
