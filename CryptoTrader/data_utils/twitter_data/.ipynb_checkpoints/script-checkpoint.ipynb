{
 "cells": [
  {
   "cell_type": "code",
   "execution_count": 1,
   "metadata": {},
   "outputs": [],
   "source": [
    "from twitterscraper import query_tweets\n",
    "from datetime import datetime, date, timedelta\n",
    "from dateutil.rrule import rrule, DAILY\n",
    "\n",
    "import pandas as pd\n",
    "import time"
   ]
  },
  {
   "cell_type": "code",
   "execution_count": 21,
   "metadata": {},
   "outputs": [],
   "source": [
    "def scrape(start_date, end_date, keyword=\"Bitcoin\"):\n",
    "    \n",
    "    for dt in rrule(DAILY, dtstart=start_date, until=end_date):\n",
    "        df = pd.DataFrame(columns=['ID', 'Tweet', 'Time', 'User', 'Likes', 'Replies', 'Retweet'])\n",
    "        \n",
    "        yesterday = dt - timedelta(days=1)\n",
    "        tomorrow = dt + timedelta(days=1)\n",
    "        \n",
    "        begin = yesterday.date()\n",
    "        end = tomorrow.date()\n",
    "        \n",
    "        print(\"{} {}\".format(begin, end))\n",
    "        list_of_tweets = query_tweets(\"Bitcoin\", 1000, begindate=begin, enddate=end)\n",
    "\n",
    "        for tweet in list_of_tweets:\n",
    "            df = df.append({'ID': tweet.id, 'Tweet': tweet.text, 'Time': tweet.timestamp, 'User': tweet.user, 'Likes': tweet.likes, 'Replies': tweet.replies, 'Retweet': tweet.retweets}, ignore_index=True)\n",
    "\n",
    "        df.to_csv(\"{}\\extracted\\{}.csv\".format(keyword.lower(), dt.strftime('%Y-%m-%d'), index=False))"
   ]
  },
  {
   "cell_type": "code",
   "execution_count": 43,
   "metadata": {},
   "outputs": [],
   "source": [
    "detailsList = []\n",
    "\n",
    "coinDetails = {}\n",
    "coinDetails['name'] = 'Bitcoin'\n",
    "coinDetails['start'] = date(2013, 1, 1)\n",
    "coinDetails['end'] = date(2018, 5, 12)\n",
    "detailsList.append(coinDetails)\n",
    "\n",
    "coinDetails = {}\n",
    "coinDetails['name'] = 'Dashpay'\n",
    "coinDetails['start'] = date(2013, 12, 15)\n",
    "coinDetails['end'] = date(2018, 5, 12)\n",
    "detailsList.append(coinDetails)\n",
    "\n",
    "coinDetails = {}\n",
    "coinDetails['name'] = 'Dogecoin'\n",
    "coinDetails['start'] = date(2013, 1, 1)\n",
    "coinDetails['end'] = date(2018, 5, 12)\n",
    "detailsList.append(coinDetails)\n",
    "\n",
    "coinDetails = {}\n",
    "coinDetails['name'] = 'Ethereum'\n",
    "coinDetails['start'] = date(2015, 8, 8)\n",
    "coinDetails['end'] = date(2018, 5, 12)\n",
    "detailsList.append(coinDetails)\n",
    "\n",
    "coinDetails = {}\n",
    "coinDetails['name'] = 'Litecoin'\n",
    "coinDetails['start'] = date(2013, 5, 5)\n",
    "coinDetails['end'] = date(2018, 5, 12)\n",
    "detailsList.append(coinDetails)\n",
    "\n",
    "coinDetails = {}\n",
    "coinDetails['name'] = 'Monero'\n",
    "coinDetails['start'] = date(2014, 5, 21)\n",
    "coinDetails['end'] = date(2018, 5, 12)\n",
    "detailsList.append(coinDetails)\n",
    "\n",
    "coinDetails = {}\n",
    "coinDetails['name'] = 'Ripple'\n",
    "coinDetails['start'] = date(2013, 8, 5)\n",
    "coinDetails['end'] = date(2018, 5, 12)\n",
    "detailsList.append(coinDetails)\n",
    "\n",
    "coinDetails = {}\n",
    "coinDetails['name'] = 'Stellar'\n",
    "coinDetails['start'] = date(2014, 8, 5)\n",
    "coinDetails['end'] = date(2018, 5, 12)\n",
    "detailsList.append(coinDetails)"
   ]
  },
  {
   "cell_type": "code",
   "execution_count": 45,
   "metadata": {},
   "outputs": [
    {
     "name": "stdout",
     "output_type": "stream",
     "text": [
      "Scraping Bitcoin Data\n",
      "Starting Year: 2013 Ending Year: 2018\n",
      "Scraping Dashpay Data\n",
      "Starting Year: 2013 Ending Year: 2018\n",
      "Scraping Dogecoin Data\n",
      "Starting Year: 2013 Ending Year: 2018\n",
      "Scraping Ethereum Data\n",
      "Starting Year: 2015 Ending Year: 2018\n",
      "Scraping Litecoin Data\n",
      "Starting Year: 2013 Ending Year: 2018\n",
      "Scraping Monero Data\n",
      "Starting Year: 2014 Ending Year: 2018\n",
      "Scraping Ripple Data\n",
      "Starting Year: 2013 Ending Year: 2018\n",
      "Scraping Stellar Data\n",
      "Starting Year: 2014 Ending Year: 2018\n"
     ]
    }
   ],
   "source": [
    "for coinDetail in detailsList:\n",
    "    print(\"Scraping {} Data\".format(coinDetail['name']))\n",
    "    print(\"Starting Year: {} Ending Year: {}\".format(coinDetail['start'].year, coinDetail['end'].year))\n",
    "    \n",
    "    for d in range(coinDetail['start'].year, coinDetail['end'].year):\n",
    "        scrape(date(d,1,1), date(d, 12, 31), keyword=coinDetail['name'])"
   ]
  }
 ],
 "metadata": {
  "kernelspec": {
   "display_name": "Python 3",
   "language": "python",
   "name": "python3"
  },
  "language_info": {
   "codemirror_mode": {
    "name": "ipython",
    "version": 3
   },
   "file_extension": ".py",
   "mimetype": "text/x-python",
   "name": "python",
   "nbconvert_exporter": "python",
   "pygments_lexer": "ipython3",
   "version": "3.6.1"
  }
 },
 "nbformat": 4,
 "nbformat_minor": 2
}
