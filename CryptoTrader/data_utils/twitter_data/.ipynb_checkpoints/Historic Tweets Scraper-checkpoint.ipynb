{
 "cells": [
  {
   "cell_type": "code",
   "execution_count": 28,
   "metadata": {},
   "outputs": [
    {
     "name": "stdout",
     "output_type": "stream",
     "text": [
      "The autoreload extension is already loaded. To reload it, use:\n",
      "  %reload_ext autoreload\n"
     ]
    }
   ],
   "source": [
    "from historic_utils import historicDownloader, historicUtils\n",
    "from datetime import date, datetime\n",
    "import logging\n",
    "\n",
    "%load_ext autoreload\n",
    "%autoreload 2"
   ]
  },
  {
   "cell_type": "code",
   "execution_count": 29,
   "metadata": {},
   "outputs": [],
   "source": [
    "logger = logging.getLogger()\n",
    "logger.setLevel(logging.INFO)"
   ]
  },
  {
   "cell_type": "code",
   "execution_count": 30,
   "metadata": {},
   "outputs": [],
   "source": [
    "keywords = {'bitcoin': ['bitcoin', 'BTC'], 'dashcoin': ['dashcoin', 'DASH', 'darkcoin'], 'dogecoin': ['dogecoin', 'DOGE'], 'ethereum': ['ethereum', 'ETH'], 'litecoin': ['litecoin', 'LTC'], 'ripple': ['ripple', 'XRP'], 'monero': ['monero', 'XMR'], 'stellar': ['stellar', 'STR']}\n",
    "\n",
    "keywordsAll = [value for key, values in keywords.items()\n",
    "                       for value in values]\n",
    "\n",
    "today = date(datetime.now().year, datetime.now().month, datetime.now().day)\n",
    "\n",
    "detailsList = []\n",
    "\n",
    "for key, values in keywords.items():\n",
    "    \n",
    "    start = {\n",
    "        'bitcoin': date(2015, 1, 1),\n",
    "        'dashcoin': date(2015, 5, 1),\n",
    "        'dogecoin': date(2015, 1, 1),\n",
    "        'ethereum': date(2015, 12, 1),\n",
    "        'litecoin': date(2015, 1, 1),\n",
    "        'monero': date(2015, 1, 1),\n",
    "        'ripple': date(2015, 1, 1),\n",
    "        'stellar': date(2015, 1, 1)\n",
    "    }[key]\n",
    "    \n",
    "    detailsList.append({'keyword': ' OR '.join(values), 'coinname': key, 'start': start, 'end': today})"
   ]
  },
  {
   "cell_type": "code",
   "execution_count": 35,
   "metadata": {},
   "outputs": [
    {
     "name": "stdout",
     "output_type": "stream",
     "text": [
      "{'dashcoin': 'dashcoin OR DASH OR darkcoin', 'bitcoin': 'bitcoin OR BTC', 'ethereum': 'ethereum OR ETH', 'ripple': 'ripple OR XRP', 'litecoin': 'litecoin OR LTC', 'monero': 'monero OR XMR', 'dogecoin': 'dogecoin OR DOGE', 'stellar': 'stellar OR STR'}\n"
     ]
    }
   ],
   "source": [
    "hd = historicDownloader(detailsList, logger=logger)\n",
    "hu = historicUtils(detailsList)"
   ]
  },
  {
   "cell_type": "code",
   "execution_count": null,
   "metadata": {},
   "outputs": [],
   "source": [
    "#Series of code to download, merge, clean, fill missing, merge and clean until got all. Then move it to interpreted and clean the raw folder"
   ]
  }
 ],
 "metadata": {
  "kernelspec": {
   "display_name": "Python 3",
   "language": "python",
   "name": "python3"
  },
  "language_info": {
   "codemirror_mode": {
    "name": "ipython",
    "version": 3
   },
   "file_extension": ".py",
   "mimetype": "text/x-python",
   "name": "python",
   "nbconvert_exporter": "python",
   "pygments_lexer": "ipython3",
   "version": "3.5.2"
  }
 },
 "nbformat": 4,
 "nbformat_minor": 2
}
