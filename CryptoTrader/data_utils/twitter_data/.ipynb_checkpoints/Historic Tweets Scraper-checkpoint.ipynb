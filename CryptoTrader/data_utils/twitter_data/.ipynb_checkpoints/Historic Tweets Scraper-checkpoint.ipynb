{
 "cells": [
  {
   "cell_type": "code",
   "execution_count": 1,
   "metadata": {},
   "outputs": [],
   "source": [
    "from twitterscraper import query_tweets\n",
    "\n",
    "from dateutil.relativedelta import relativedelta\n",
    "from dateutil.rrule import rrule, MONTHLY\n",
    "from datetime import datetime, date, timedelta\n",
    "\n",
    "from proxy_utils import proxy_dict, get_proxies\n",
    "\n",
    "import pandas as pd\n",
    "import time\n",
    "\n",
    "import os\n",
    "\n",
    "import requests\n",
    "\n",
    "from glob import glob\n",
    "\n",
    "import logging\n",
    "logger = logging.getLogger()\n",
    "logger.setLevel(logging.INFO)\n",
    "\n",
    "%load_ext autoreload\n",
    "%autoreload 2"
   ]
  },
  {
   "cell_type": "code",
   "execution_count": 2,
   "metadata": {
    "scrolled": true
   },
   "outputs": [
    {
     "name": "stderr",
     "output_type": "stream",
     "text": [
      "INFO:root:Querying Bitcoin since:2018-04-01 until:2018-04-02\n",
      "INFO:root:Querying Bitcoin since:2018-04-03 until:2018-04-04\n",
      "INFO:root:Querying Bitcoin since:2018-04-02 until:2018-04-03\n",
      "INFO:root:Querying Bitcoin since:2018-04-04 until:2018-04-05\n",
      "ERROR:root:Failed to parse JSON \"Expecting value: line 1 column 1 (char 0)\" while requesting \"https://twitter.com/i/search/timeline?vertical=default&include_available_features=1&include_entities=1&reset_error_state=false&src=typd&max_position=TWEET-980587316925419520-980594113174294528&q=Bitcoin%20since%3A2018-04-01%20until%3A2018-04-02&l=\".\n",
      "Traceback (most recent call last):\n",
      "  File \"/home/shresthanikesh23/jupyter/CryptoTraderRemote/CryptoTrader/data_utils/twitter_data/twitterscraper/query.py\", line 54, in query_single_page\n",
      "    json_resp = json.loads(response.text)\n",
      "  File \"/usr/lib/python3.5/json/__init__.py\", line 319, in loads\n",
      "    return _default_decoder.decode(s)\n",
      "  File \"/usr/lib/python3.5/json/decoder.py\", line 339, in decode\n",
      "    obj, end = self.raw_decode(s, idx=_w(s, 0).end())\n",
      "  File \"/usr/lib/python3.5/json/decoder.py\", line 357, in raw_decode\n",
      "    raise JSONDecodeError(\"Expecting value\", s, err.value) from None\n",
      "json.decoder.JSONDecodeError: Expecting value: line 1 column 1 (char 0)\n",
      "INFO:root:Retrying... (Attempts left: 10)\n",
      "ERROR:root:Failed to parse JSON \"Expecting value: line 1 column 1 (char 0)\" while requesting \"https://twitter.com/i/search/timeline?vertical=default&include_available_features=1&include_entities=1&reset_error_state=false&src=typd&max_position=TWEET-981565905334390784-981675807738179585-BD1UO2FFu9QAAAAAAAAVfAAAAAcAAABWAAAAAAAAAAAAAAAAAAAAAAAAAAAAAAAAAAAAAAAAAAAAAAAAAAAAAAAAAAAAAAAAAAAAAAAAAAAAAAAAAAAAAAAAAAAAAAAAAAAAAAAAAAAAAAAAAAAAAAAAAAAAAAAAAAAAAAAAAAAAAAAAAAAAAAAAAAAAAAAAAAAAAAAAAAAAAAAAAAAAAAAAAAAAAAAAAAAAAAAAAAAAAAAAAAAAAAAAAAAAAAAAAAAAAAAAAAAAAAAAAAAAAAAAAAAAAAAAAAAAAAAAAAAAAAAAAAAAAAAAAAAAAAAAAAAAAAAAAAAAAAAAAAAAAAAAAAAAAAAAAAAAAAAAAAAAAAAAAAAAAAAAAAAAAAAAAAAAAAAAAAAAAAAAAAAAAAAAAAAAAAAAAAAAAAAAAAAAAAAAAAAAAAAAAAAAAAAAAAAAAAAAAAAAAAAAAAAAAAAAAAAAAAAAAAAAAAAAAAAAAAAAAAAAAAAAAAAAAAAAAAAAAAAAAAAAAAAAAAAAAAAAAAAAAAAAAAAAAAAAAAAAAAAAAAAAAAAAAAAAAAAAAAAAAAAAAAAAAAAAAAAAAAAAAAAAAAAAAAAAAAAAAAAAAAAAAAAAAAAAAAAAAAAAAAAAAAAAAAAAAAAAAAAAAAAAAAAAAAAAAAAAAAAAAAAAAAAAAAAAAAAAAAAAAAAAAAAAAAAAAAAAAAAAAAAAAAAAAAAAAAAAAAAAAAAAAAAAAAAAAAAAAAAAAAAAAAAAAAAAAAAAAAAAAAAAAAAAAAAAAAAAAAAAAAAAAAAAAAAAAAAAAAAAAAAAAAAAAAAAAAAAAAAAAAAAAAAAAAAAAAAAAAAAAAAAAAAAAAAAAAAAAAAAAAAAAAAAAAAAAAAAAAAAAAAAAAAAAAAAAAAAAAAAAAAAAAAAAAAAAAAAAAAAAAAAAAAAAA==-T-0-12&q=Bitcoin%20since%3A2018-04-04%20until%3A2018-04-05&l=\".\n",
      "Traceback (most recent call last):\n",
      "  File \"/home/shresthanikesh23/jupyter/CryptoTraderRemote/CryptoTrader/data_utils/twitter_data/twitterscraper/query.py\", line 54, in query_single_page\n",
      "    json_resp = json.loads(response.text)\n",
      "  File \"/usr/lib/python3.5/json/__init__.py\", line 319, in loads\n",
      "    return _default_decoder.decode(s)\n",
      "  File \"/usr/lib/python3.5/json/decoder.py\", line 339, in decode\n",
      "    obj, end = self.raw_decode(s, idx=_w(s, 0).end())\n",
      "  File \"/usr/lib/python3.5/json/decoder.py\", line 357, in raw_decode\n",
      "    raise JSONDecodeError(\"Expecting value\", s, err.value) from None\n",
      "json.decoder.JSONDecodeError: Expecting value: line 1 column 1 (char 0)\n",
      "INFO:root:Retrying... (Attempts left: 10)\n",
      "ERROR:root:Failed to parse JSON \"Expecting value: line 1 column 1 (char 0)\" while requesting \"https://twitter.com/i/search/timeline?vertical=default&include_available_features=1&include_entities=1&reset_error_state=false&src=typd&max_position=TWEET-981098112507961344-981320201424818176-BD1UO2FFu9QAAAAAAAAVfAAAAAcAAABWAAAAAAAAAAAAAAAAAAAAAAAAAAAAAAAAAAAAAAAAAAAAAAAAAAAAAAAAAAAAAAAAAAAAAAAAAAAAAAAAAAAAAAAAAAAAAAAAAAAAAAAAAAAAAAAAAAAAAAAAAAAAAAAAAAAAAAAAAAAAAAAAAAAAAAAAAAAAAAAAAAAAAAAAAAAAAAAAAAAAAAAAAAAAAAAAAAAAAAAAAAAAAAAAAAAAAAAAAAAAAAAAAAAAAAAAAAAAAAAAAAAAAAAAAAAAAAAAAAAAAAAAAAAAAAAAAAAAAAAAAAAAAAAAAAAAAAAAAAAAAAAAAAAAAAAAAAAAAAAAAAAAAAAAAAAAAAAAAAAAAAAAAAAAAAAAAAAAAAAAAAAAAAAAAAAAAAAAAAAAAAAAAAAAAAAAAAAAAAAAAAAAAAAAAAAAAAAAAAAAAAAAAAAAAAAAAAAAAAAAAAAAAAAAAAAAAAAAAAAAAAAAAAAAAAAAAAAAAAAAAAAAAAAAAAAAAAAAAAAAAAAAAAAAAAAAAAAAAAAAAAAAAAAAAAAAAAAAAAAAAAAAAAAAAAAAAAAAAAAAAAAAAAAAAAAAAAAAAAAAAAAAAAAAAAAAAAAAAAAAAAAAAAAAAAAAAAAAAAAAAAAAAAAAAAAAAAAAAAAAAAAAAAAAAAAAAAAAAAAAAAAAAAAAAAAAAAAAAAAAAAAAAAAAAAAAAAAAAAAAAAAAAAAAAAAAAAAAAAAAAAAAAAAAAAAAAAAAAAAAAAAAAAAAAAAAAAAAAAAAAAAAAAAAAAAAAAAAAAAAAAAAAAAAAAAAAAAAAAAAAAAAAAAAAAAAAAAAAAAAAAAAAAAAAAAAAAAAAAAAAAAAAAAAAAAAAAAAAAAAAAAAAAAAAAAAAAAAAAAAAAAAAAAAAAAAAAAAAAAAAAAAAAAAAAAAAAAAAA==-T-0-25&q=Bitcoin%20since%3A2018-04-03%20until%3A2018-04-04&l=\".\n",
      "Traceback (most recent call last):\n",
      "  File \"/home/shresthanikesh23/jupyter/CryptoTraderRemote/CryptoTrader/data_utils/twitter_data/twitterscraper/query.py\", line 54, in query_single_page\n",
      "    json_resp = json.loads(response.text)\n",
      "  File \"/usr/lib/python3.5/json/__init__.py\", line 319, in loads\n",
      "    return _default_decoder.decode(s)\n",
      "  File \"/usr/lib/python3.5/json/decoder.py\", line 339, in decode\n",
      "    obj, end = self.raw_decode(s, idx=_w(s, 0).end())\n",
      "  File \"/usr/lib/python3.5/json/decoder.py\", line 357, in raw_decode\n",
      "    raise JSONDecodeError(\"Expecting value\", s, err.value) from None\n",
      "json.decoder.JSONDecodeError: Expecting value: line 1 column 1 (char 0)\n",
      "INFO:root:Retrying... (Attempts left: 10)\n",
      "INFO:root:Got 695 tweets for Bitcoin%20since%3A2018-04-01%20until%3A2018-04-02.\n",
      "INFO:root:Got 695 tweets (695 new).\n",
      "INFO:root:Got 812 tweets for Bitcoin%20since%3A2018-04-04%20until%3A2018-04-05.\n",
      "INFO:root:Got 1507 tweets (812 new).\n",
      "INFO:root:Got 834 tweets for Bitcoin%20since%3A2018-04-03%20until%3A2018-04-04.\n",
      "INFO:root:Got 2341 tweets (834 new).\n",
      "INFO:root:Got 841 tweets for Bitcoin%20since%3A2018-04-02%20until%3A2018-04-03.\n",
      "INFO:root:Got 3182 tweets (841 new).\n"
     ]
    }
   ],
   "source": [
    "tweets = query_tweets(\"Bitcoin\", limit=10000, begindate=date(2018,4,1), enddate=date(2018, 4, 5))"
   ]
  },
  {
   "cell_type": "code",
   "execution_count": null,
   "metadata": {},
   "outputs": [],
   "source": [
    "def scrape(start_date, end_date, proxy, keyword=\"Bitcoin\"):\n",
    "    \n",
    "    \n",
    "    \n",
    "    for dt in rrule(MONTHLY, dtstart=start_date, until=end_date):\n",
    "        \n",
    "        fname = \"{}/extracted/{}.csv\".format(keyword.lower(), dt.strftime('%Y-%m-%d'))\n",
    "        current_directory = os.getcwd()\n",
    "        final_directory = os.path.join(current_directory, fname)                                     \n",
    "        \n",
    "        #do if file dosen't exisst\n",
    "        if not os.path.exists(final_directory):           \n",
    "            df = pd.DataFrame(columns=['ID', 'Tweet', 'Time', 'User', 'Likes', 'Replies', 'Retweet', 'in_response_to', 'response_type'])\n",
    "\n",
    "            begin = dt.date() - relativedelta(months=1) - relativedelta(days=1)\n",
    "            end = dt.date()\n",
    "\n",
    "            print(\"{} {}\".format(begin, end))\n",
    "\n",
    "            selectedDays = (end - begin).days\n",
    "\n",
    "            list_of_tweets = query_tweets(keyword, 10000 * selectedDays, begindate=begin, enddate=end, poolsize=selectedDays, proxies=proxy)\n",
    "\n",
    "            for tweet in list_of_tweets:\n",
    "                res_type = tweet.response_type\n",
    "                \n",
    "                if (tweet.reply_to_id == '0'):\n",
    "                    res_type='tweet'\n",
    "                    \n",
    "                df = df.append({'ID': tweet.id, 'Tweet': tweet.text, 'Time': tweet.timestamp, 'User': tweet.user, 'Likes': tweet.likes, 'Replies': tweet.replies, 'Retweet': tweet.retweets, 'in_response_to': tweet.reply_to_id, 'response_type': tweet.response_type}, ignore_index=True)\n",
    "\n",
    "            df.to_csv(fname, index=False)"
   ]
  },
  {
   "cell_type": "code",
   "execution_count": 140,
   "metadata": {},
   "outputs": [],
   "source": [
    "detailsList = []\n",
    "\n",
    "today = date(datetime.now().year, datetime.now().month, datetime.now().day)\n",
    "\n",
    "coinDetails = {}\n",
    "coinDetails['name'] = 'Bitcoin'\n",
    "coinDetails['start'] = date(2015, 1, 1)\n",
    "coinDetails['end'] = today\n",
    "detailsList.append(coinDetails)\n",
    "\n",
    "coinDetails = {}\n",
    "coinDetails['name'] = 'Dash'\n",
    "coinDetails['start'] = date(2015, 5, 1)\n",
    "coinDetails['end'] = today\n",
    "detailsList.append(coinDetails)\n",
    "\n",
    "coinDetails = {}\n",
    "coinDetails['name'] = 'Dogecoin'\n",
    "coinDetails['start'] = date(2015, 1, 1)\n",
    "coinDetails['end'] = today\n",
    "detailsList.append(coinDetails)\n",
    "\n",
    "coinDetails = {}\n",
    "coinDetails['name'] = 'Ethereum'\n",
    "coinDetails['start'] = date(2015, 12, 1)\n",
    "coinDetails['end'] = today\n",
    "detailsList.append(coinDetails)\n",
    "\n",
    "coinDetails = {}\n",
    "coinDetails['name'] = 'Litecoin'\n",
    "coinDetails['start'] = date(2015, 1, 1)\n",
    "coinDetails['end'] = today\n",
    "detailsList.append(coinDetails)\n",
    "\n",
    "coinDetails = {}\n",
    "coinDetails['name'] = 'Monero'\n",
    "coinDetails['start'] = date(2015, 1, 1)\n",
    "coinDetails['end'] = today\n",
    "detailsList.append(coinDetails)\n",
    "\n",
    "coinDetails = {}\n",
    "coinDetails['name'] = 'Ripple'\n",
    "coinDetails['start'] = date(2015, 1, 1)\n",
    "coinDetails['end'] = today\n",
    "detailsList.append(coinDetails)\n",
    "\n",
    "coinDetails = {}\n",
    "coinDetails['name'] = 'Stellar'\n",
    "coinDetails['start'] = date(2015, 1, 1)\n",
    "coinDetails['end'] = today\n",
    "detailsList.append(coinDetails)"
   ]
  },
  {
   "cell_type": "code",
   "execution_count": 136,
   "metadata": {},
   "outputs": [],
   "source": [
    "def fix_paths():\n",
    "    for coinDetail in detailsList:\n",
    "\n",
    "        current_directory = os.getcwd()\n",
    "        final_directory = os.path.join(current_directory, coinDetail['name'].lower())\n",
    "\n",
    "        if not os.path.exists(final_directory):\n",
    "            os.makedirs(final_directory)\n",
    "\n",
    "        if not os.path.exists(final_directory + \"/extracted\"):\n",
    "            os.makedirs(final_directory + \"/extracted\")\n",
    "            \n",
    "#fix_paths()"
   ]
  },
  {
   "cell_type": "code",
   "execution_count": 137,
   "metadata": {},
   "outputs": [],
   "source": [
    "def delete_files():\n",
    "    for coinDetail in detailsList:\n",
    "        current_directory = os.getcwd()\n",
    "        final_directory = os.path.join(current_directory, coinDetail['name'].lower()) + \"/extracted/*\"\n",
    "        \n",
    "        for f in glob(final_directory):\n",
    "            print(\"Deleting {}\".format(f))\n",
    "            os.remove(f)\n",
    "            \n",
    "            \n",
    "#delete_files()"
   ]
  },
  {
   "cell_type": "code",
   "execution_count": null,
   "metadata": {},
   "outputs": [],
   "source": [
    "proxies = get_proxies()\n",
    "proxySize = len(proxies)\n",
    "\n",
    "for coinDetail in detailsList:\n",
    "    print(\"Scraping {} Data\".format(coinDetail['name']))\n",
    "    print(\"Starting Year: {} Ending Year: {}\".format(coinDetail['start'].year, coinDetail['end'].year))\n",
    "    count = 0\n",
    "    \n",
    "    proxy = proxies[count]\n",
    "    \n",
    "    for d in range(coinDetail['start'].year, coinDetail['end'].year + 1):\n",
    "        \n",
    "        if d == 2018:\n",
    "            scrape(date(d, 1, 1), coinDetail['end'], proxy=proxy, keyword=coinDetail['name'])\n",
    "        else:\n",
    "            if count == 0:\n",
    "                scrape(coinDetail['start'], date(d, 12, 31), proxy=proxy, keyword=coinDetail['name'])\n",
    "            else:\n",
    "                scrape(date(d, 1, 1), date(d, 12, 31), proxy=proxy, keyword=coinDetail['name'])\n",
    "            \n",
    "        count +=1\n",
    "        \n",
    "        if (count >= proxySize):\n",
    "            count = 0"
   ]
  },
  {
   "cell_type": "code",
   "execution_count": 145,
   "metadata": {},
   "outputs": [],
   "source": [
    "import numpy as np"
   ]
  },
  {
   "cell_type": "code",
   "execution_count": 146,
   "metadata": {},
   "outputs": [],
   "source": [
    "%matplotlib inline"
   ]
  },
  {
   "cell_type": "code",
   "execution_count": 213,
   "metadata": {},
   "outputs": [],
   "source": [
    "def get_paths():\n",
    "    dirs = glob(\"{}/*/\".format(os.getcwd()))\n",
    "    validPath = []\n",
    "\n",
    "    for directory in dirs:\n",
    "        fullPath = directory + \"extracted\"\n",
    "\n",
    "        if (os.path.exists(fullPath)):\n",
    "            validPath.append(fullPath)\n",
    "            \n",
    "    return validPath"
   ]
  },
  {
   "cell_type": "code",
   "execution_count": 235,
   "metadata": {},
   "outputs": [],
   "source": [
    "def clean_data(fullDf):\n",
    "    fullDf = fullDf.reset_index(drop=True)\n",
    "    fullDf = fullDf.replace(np.inf, np.nan)\n",
    "    fullDf = fullDf.fillna(method='ffill')\n",
    "\n",
    "    fullDf['Time'] = pd.to_datetime(fullDf['Time'], errors='coerce')\n",
    "    fullDf = fullDf.dropna(subset=['Time'])\n",
    "    fullDf = fullDf.sort_values(by='Time')\n",
    "    fullDf = fullDf.drop_duplicates()\n",
    "    \n",
    "    return fullDf"
   ]
  },
  {
   "cell_type": "code",
   "execution_count": 210,
   "metadata": {},
   "outputs": [],
   "source": [
    "def merge_data():\n",
    "    for fullPath in get_paths():\n",
    "        coinName = fullPath.split(\"/\")[-2]\n",
    "        print(coinName)\n",
    "\n",
    "        fullDf = pd.DataFrame(columns=['ID', 'Tweet', 'Time', 'User', 'Likes', 'Replies', 'Retweet', 'in_response_to'])\n",
    "        writeFile = fullPath + \"/\" + \"combined.csv\"\n",
    "\n",
    "        if (os.path.isfile(writeFile)):\n",
    "            os.remove(writeFile)\n",
    "\n",
    "        for file in os.listdir(fullPath):\n",
    "            csv = fullPath + \"/\" + file\n",
    "\n",
    "            if (\".csv\" in csv):\n",
    "                df = pd.read_csv(csv, engine='python')\n",
    "                print(file)\n",
    "                fullDf = pd.concat([fullDf, df[['ID', 'Tweet', 'Time', 'User', 'Likes', 'Replies', 'Retweet', 'in_response_to']]])\n",
    "        \n",
    "        fullDf = clean_data(fullDf)\n",
    "        fullDf.to_csv(writeFile, index=False)"
   ]
  },
  {
   "cell_type": "code",
   "execution_count": 158,
   "metadata": {},
   "outputs": [
    {
     "name": "stdout",
     "output_type": "stream",
     "text": [
      "ripple\n",
      "2017-11-01.csv\n",
      "2015-09-01.csv\n",
      "2016-03-01.csv\n",
      "2015-11-01.csv\n",
      "2016-02-01.csv\n",
      "2016-05-01.csv\n",
      "2016-09-01.csv\n",
      "2016-04-01.csv\n",
      "2016-12-01.csv\n",
      "2017-01-01.csv\n",
      "2018-04-01.csv\n",
      "2016-11-01.csv\n",
      "2017-09-01.csv\n",
      "2015-08-01.csv\n",
      "2018-03-01.csv\n",
      "2017-06-01.csv\n",
      "2018-02-01.csv\n",
      "2018-01-01.csv\n",
      "2015-05-01.csv\n",
      "2017-03-01.csv\n",
      "2018-05-01.csv\n",
      "2017-02-01.csv\n",
      "2016-10-01.csv\n",
      "2016-01-01.csv\n",
      "2017-12-01.csv\n",
      "2017-04-01.csv\n",
      "2017-07-01.csv\n",
      "2018-06-01.csv\n",
      "2017-05-01.csv\n",
      "2015-10-01.csv\n",
      "2015-02-01.csv\n",
      "2015-03-01.csv\n",
      "2017-10-01.csv\n",
      "2015-06-01.csv\n",
      "2017-08-01.csv\n",
      "2015-01-01.csv\n",
      "2015-04-01.csv\n",
      "2016-07-01.csv\n",
      "2016-06-01.csv\n",
      "2016-08-01.csv\n",
      "2015-12-01.csv\n",
      "2015-07-01.csv\n",
      "dogecoin\n",
      "2017-11-01.csv\n",
      "2015-09-01.csv\n",
      "2016-03-01.csv\n",
      "2015-11-01.csv\n",
      "2016-02-01.csv\n",
      "2016-05-01.csv\n",
      "2016-09-01.csv\n",
      "2016-04-01.csv\n",
      "2016-12-01.csv\n",
      "2017-01-01.csv\n",
      "2018-04-01.csv\n",
      "2016-11-01.csv\n",
      "2017-09-01.csv\n",
      "2015-08-01.csv\n",
      "2018-03-01.csv\n",
      "2017-06-01.csv\n",
      "2018-02-01.csv\n",
      "2018-01-01.csv\n",
      "2015-05-01.csv\n",
      "2017-03-01.csv\n",
      "2018-05-01.csv\n",
      "2017-02-01.csv\n",
      "2016-10-01.csv\n",
      "2016-01-01.csv\n",
      "2017-12-01.csv\n",
      "2017-04-01.csv\n",
      "2017-07-01.csv\n",
      "2018-06-01.csv\n",
      "2017-05-01.csv\n",
      "2015-10-01.csv\n",
      "2015-02-01.csv\n",
      "2015-03-01.csv\n",
      "2017-10-01.csv\n",
      "2015-06-01.csv\n",
      "2017-08-01.csv\n",
      "2015-01-01.csv\n",
      "2015-04-01.csv\n",
      "2016-07-01.csv\n",
      "2016-06-01.csv\n",
      "2016-08-01.csv\n",
      "2015-12-01.csv\n",
      "2015-07-01.csv\n",
      "monero\n",
      "2017-11-01.csv\n",
      "2015-09-01.csv\n",
      "2016-03-01.csv\n",
      "2015-11-01.csv\n",
      "2016-02-01.csv\n",
      "2016-05-01.csv\n",
      "2016-09-01.csv\n",
      "2016-04-01.csv\n",
      "2016-12-01.csv\n",
      "2017-01-01.csv\n",
      "2018-04-01.csv\n",
      "2016-11-01.csv\n",
      "2017-09-01.csv\n",
      "2015-08-01.csv\n",
      "2018-03-01.csv\n",
      "2017-06-01.csv\n",
      "2018-02-01.csv\n",
      "2018-01-01.csv\n",
      "2015-05-01.csv\n",
      "2017-03-01.csv\n",
      "2018-05-01.csv\n",
      "2017-02-01.csv\n",
      "2016-10-01.csv\n",
      "2016-01-01.csv\n",
      "2017-12-01.csv\n",
      "2017-04-01.csv\n",
      "2017-07-01.csv\n",
      "2018-06-01.csv\n",
      "2017-05-01.csv\n",
      "2015-10-01.csv\n",
      "2015-02-01.csv\n",
      "2015-03-01.csv\n",
      "2017-10-01.csv\n",
      "2015-06-01.csv\n",
      "2017-08-01.csv\n",
      "2015-01-01.csv\n",
      "2015-04-01.csv\n",
      "2016-07-01.csv\n",
      "2016-06-01.csv\n",
      "2016-08-01.csv\n",
      "2015-12-01.csv\n",
      "2015-07-01.csv\n",
      "stellar\n",
      "2017-11-01.csv\n",
      "2015-09-01.csv\n",
      "2016-03-01.csv\n",
      "2015-11-01.csv\n",
      "2016-02-01.csv\n",
      "2016-05-01.csv\n",
      "2016-09-01.csv\n",
      "2016-04-01.csv\n",
      "2016-12-01.csv\n",
      "2017-01-01.csv\n",
      "2018-04-01.csv\n",
      "2016-11-01.csv\n",
      "2017-09-01.csv\n",
      "2015-08-01.csv\n",
      "2018-03-01.csv\n",
      "2017-06-01.csv\n",
      "2018-02-01.csv\n",
      "2018-01-01.csv\n",
      "2015-05-01.csv\n",
      "2017-03-01.csv\n",
      "2018-05-01.csv\n",
      "2017-02-01.csv\n",
      "2016-10-01.csv\n",
      "2016-01-01.csv\n",
      "2017-12-01.csv\n",
      "2017-04-01.csv\n",
      "2017-07-01.csv\n",
      "2018-06-01.csv\n",
      "2017-05-01.csv\n",
      "2015-10-01.csv\n",
      "2015-02-01.csv\n",
      "2015-03-01.csv\n",
      "2017-10-01.csv\n",
      "2015-06-01.csv\n",
      "2017-08-01.csv\n",
      "2015-01-01.csv\n",
      "2015-04-01.csv\n",
      "2016-07-01.csv\n",
      "2016-06-01.csv\n",
      "2016-08-01.csv\n",
      "2015-12-01.csv\n",
      "2015-07-01.csv\n",
      "litecoin\n",
      "2017-11-01.csv\n",
      "2015-09-01.csv\n",
      "2016-03-01.csv\n",
      "2015-11-01.csv\n",
      "2016-02-01.csv\n",
      "2016-05-01.csv\n",
      "2016-09-01.csv\n",
      "2016-04-01.csv\n",
      "2016-12-01.csv\n",
      "2017-01-01.csv\n",
      "2018-04-01.csv\n",
      "2016-11-01.csv\n",
      "2017-09-01.csv\n",
      "2015-08-01.csv\n",
      "2018-03-01.csv\n",
      "2017-06-01.csv\n",
      "2018-02-01.csv\n",
      "2018-01-01.csv\n",
      "2015-05-01.csv\n",
      "2017-03-01.csv\n",
      "2018-05-01.csv\n",
      "2017-02-01.csv\n",
      "2016-10-01.csv\n",
      "2016-01-01.csv\n",
      "2017-12-01.csv\n",
      "2017-04-01.csv\n",
      "2017-07-01.csv\n",
      "2018-06-01.csv\n",
      "2017-05-01.csv\n",
      "2015-10-01.csv\n",
      "2015-02-01.csv\n",
      "2015-03-01.csv\n",
      "2017-10-01.csv\n",
      "2015-06-01.csv\n",
      "2017-08-01.csv\n",
      "2015-01-01.csv\n",
      "2015-04-01.csv\n",
      "2016-07-01.csv\n",
      "2016-06-01.csv\n",
      "2016-08-01.csv\n",
      "2015-12-01.csv\n",
      "2015-07-01.csv\n",
      "ethereum\n",
      "2017-11-01.csv\n",
      "2016-03-01.csv\n",
      "2016-02-01.csv\n",
      "2016-05-01.csv\n",
      "2016-09-01.csv\n",
      "2016-04-01.csv\n",
      "2016-12-01.csv\n",
      "2017-01-01.csv\n",
      "2018-04-01.csv\n",
      "2016-11-01.csv\n",
      "2017-09-01.csv\n",
      "2018-03-01.csv\n",
      "2017-06-01.csv\n",
      "2018-02-01.csv\n",
      "2018-01-01.csv\n",
      "2017-03-01.csv\n",
      "2018-05-01.csv\n",
      "2017-02-01.csv\n",
      "2016-10-01.csv\n",
      "2016-01-01.csv\n",
      "2017-12-01.csv\n",
      "2017-04-01.csv\n",
      "2017-07-01.csv\n",
      "2018-06-01.csv\n",
      "2017-05-01.csv\n",
      "2017-10-01.csv\n",
      "2017-08-01.csv\n",
      "2016-07-01.csv\n",
      "2016-06-01.csv\n",
      "2016-08-01.csv\n",
      "2015-12-01.csv\n",
      "dash\n",
      "2017-11-01.csv\n",
      "2015-09-01.csv\n",
      "2016-03-01.csv\n",
      "2015-11-01.csv\n",
      "2016-02-01.csv\n",
      "2016-05-01.csv\n",
      "2016-09-01.csv\n",
      "2016-04-01.csv\n",
      "2016-12-01.csv\n",
      "2017-01-01.csv\n",
      "2018-04-01.csv\n",
      "2016-11-01.csv\n",
      "2017-09-01.csv\n",
      "2015-08-01.csv\n",
      "2018-03-01.csv\n",
      "2017-06-01.csv\n",
      "2018-02-01.csv\n",
      "2018-01-01.csv\n",
      "2015-05-01.csv\n",
      "2017-03-01.csv\n",
      "2018-05-01.csv\n",
      "2017-02-01.csv\n",
      "2016-10-01.csv\n",
      "2016-01-01.csv\n",
      "2017-12-01.csv\n",
      "2017-04-01.csv\n",
      "2017-07-01.csv\n",
      "2018-06-01.csv\n",
      "2017-05-01.csv\n",
      "2015-10-01.csv\n",
      "2017-10-01.csv\n",
      "2015-06-01.csv\n",
      "2017-08-01.csv\n",
      "2016-07-01.csv\n",
      "2016-06-01.csv\n",
      "2016-08-01.csv\n",
      "2015-12-01.csv\n",
      "2015-07-01.csv\n",
      "bitcoin\n",
      "2017-11-01.csv\n",
      "2015-09-01.csv\n",
      "2016-03-01.csv\n",
      "2015-11-01.csv\n",
      "2016-02-01.csv\n",
      "2016-05-01.csv\n",
      "2016-09-01.csv\n",
      "2016-04-01.csv\n",
      "2016-12-01.csv\n",
      "2017-01-01.csv\n",
      "2018-04-01.csv\n",
      "2016-11-01.csv\n",
      "2017-09-01.csv\n",
      "2015-08-01.csv\n",
      "2018-03-01.csv\n",
      "2017-06-01.csv\n",
      "2018-02-01.csv\n",
      "2018-01-01.csv\n",
      "2015-05-01.csv\n",
      "2017-03-01.csv\n",
      "2018-05-01.csv\n",
      "2017-02-01.csv\n",
      "2016-10-01.csv\n",
      "2016-01-01.csv\n",
      "2017-12-01.csv\n",
      "2017-04-01.csv\n",
      "2017-07-01.csv\n",
      "2018-06-01.csv\n",
      "2017-05-01.csv\n",
      "2015-10-01.csv\n",
      "2015-02-01.csv\n",
      "2015-03-01.csv\n",
      "2017-10-01.csv\n",
      "2015-06-01.csv\n",
      "2017-08-01.csv\n",
      "2015-01-01.csv\n",
      "2015-04-01.csv\n",
      "2016-07-01.csv\n",
      "2016-06-01.csv\n",
      "2016-08-01.csv\n",
      "2015-12-01.csv\n",
      "2015-07-01.csv\n"
     ]
    }
   ],
   "source": [
    "merge_data()"
   ]
  },
  {
   "cell_type": "code",
   "execution_count": 252,
   "metadata": {},
   "outputs": [],
   "source": [
    "def get_missing_days(df, freq=24):\n",
    "    df['Time'] = pd.to_datetime(df['Time'])\n",
    "\n",
    "    new = pd.DataFrame(columns=['Time', 'Frequency'])\n",
    "\n",
    "    new['Time'] = df['Time']\n",
    "    new['Frequency'] = 1\n",
    "\n",
    "    new.set_index('Time', inplace = True)\n",
    "    per_24 = new['Frequency'].resample('{}H'.format(freq)).sum().fillna(0)\n",
    "    miss_dates = per_24[per_24 == 0].index\n",
    "    return miss_dates\n",
    "        \n",
    "def fill_missing_days():\n",
    "    for fullPath in get_paths():\n",
    "        coinName = fullPath.split(\"/\")[-2]\n",
    "        print(coinName)\n",
    "        \n",
    "        df = pd.read_csv('{}/combined.csv'.format(fullPath))\n",
    "        miss_dates = get_missing_days(miss_dates)\n",
    "        \n",
    "        tweetDf = pd.DataFrame(columns=['ID', 'Tweet', 'Time', 'User', 'Likes', 'Replies', 'Retweet', 'in_response_to', 'response_type'])\n",
    "        \n",
    "        for dates in miss_dates:\n",
    "            date_from = dates - pd.DateOffset(days=2) #might wanna make it 2\n",
    "            date_to = dates + pd.DateOffset(days=2)\n",
    "\n",
    "            print(\"{} to {}\".format(date_from.date(), date_to.date()))\n",
    "\n",
    "            list_of_tweets = query_tweets(coinName, 10000, begindate=date_from.date(), enddate=date_to.date(), poolsize=4)\n",
    "\n",
    "            for tweet in list_of_tweets:\n",
    "                tweetDf = tweetDf.append({'ID': tweet.id, 'Tweet': tweet.text, 'Time': tweet.timestamp, 'User': tweet.user, 'Likes': tweet.likes, 'Replies': tweet.replies, 'Retweet': tweet.retweets, 'in_response_to': tweet.reply_to_id. 'response_type': tweet.response_type}, ignore_index=True)\n",
    "                \n",
    "        tweetDf.to_csv(\"{}/missing.csv\".format(fullPath), index=False)"
   ]
  },
  {
   "cell_type": "code",
   "execution_count": 221,
   "metadata": {},
   "outputs": [
    {
     "name": "stdout",
     "output_type": "stream",
     "text": [
      "ripple\n",
      "2015-06-15 to 2015-06-19\n"
     ]
    },
    {
     "name": "stderr",
     "output_type": "stream",
     "text": [
      "INFO:root:Querying ripple since:2015-06-16 until:2015-06-17\n",
      "INFO:root:Querying ripple since:2015-06-18 until:2015-06-19\n",
      "INFO:root:Querying ripple since:2015-06-15 until:2015-06-16\n",
      "INFO:root:Querying ripple since:2015-06-17 until:2015-06-18\n",
      "INFO:root:Got 55 tweets for ripple%20since%3A2015-06-16%20until%3A2015-06-17.\n",
      "INFO:root:Got 55 tweets (55 new).\n",
      "INFO:root:Got 48 tweets for ripple%20since%3A2015-06-18%20until%3A2015-06-19.\n",
      "INFO:root:Got 103 tweets (48 new).\n",
      "INFO:root:Got 60 tweets for ripple%20since%3A2015-06-15%20until%3A2015-06-16.\n",
      "INFO:root:Got 163 tweets (60 new).\n",
      "INFO:root:Got 61 tweets for ripple%20since%3A2015-06-17%20until%3A2015-06-18.\n",
      "INFO:root:Got 224 tweets (61 new).\n"
     ]
    },
    {
     "name": "stdout",
     "output_type": "stream",
     "text": [
      "2016-01-24 to 2016-01-28\n"
     ]
    },
    {
     "name": "stderr",
     "output_type": "stream",
     "text": [
      "INFO:root:Querying ripple since:2016-01-25 until:2016-01-26\n",
      "INFO:root:Querying ripple since:2016-01-26 until:2016-01-27\n",
      "INFO:root:Querying ripple since:2016-01-24 until:2016-01-25\n",
      "INFO:root:Querying ripple since:2016-01-27 until:2016-01-28\n",
      "INFO:root:Got 45 tweets for ripple%20since%3A2016-01-25%20until%3A2016-01-26.\n",
      "INFO:root:Got 45 tweets (45 new).\n",
      "INFO:root:Got 69 tweets for ripple%20since%3A2016-01-26%20until%3A2016-01-27.\n",
      "INFO:root:Got 114 tweets (69 new).\n",
      "INFO:root:Got 61 tweets for ripple%20since%3A2016-01-27%20until%3A2016-01-28.\n",
      "INFO:root:Got 175 tweets (61 new).\n",
      "INFO:root:Got 60 tweets for ripple%20since%3A2016-01-24%20until%3A2016-01-25.\n",
      "INFO:root:Got 235 tweets (60 new).\n"
     ]
    },
    {
     "name": "stdout",
     "output_type": "stream",
     "text": [
      "2016-02-04 to 2016-02-08\n"
     ]
    },
    {
     "name": "stderr",
     "output_type": "stream",
     "text": [
      "INFO:root:Querying ripple since:2016-02-04 until:2016-02-05\n",
      "INFO:root:Querying ripple since:2016-02-06 until:2016-02-07\n",
      "INFO:root:Querying ripple since:2016-02-07 until:2016-02-08\n",
      "INFO:root:Querying ripple since:2016-02-05 until:2016-02-06\n",
      "INFO:root:Got 40 tweets for ripple%20since%3A2016-02-07%20until%3A2016-02-08.\n",
      "INFO:root:Got 40 tweets (40 new).\n",
      "INFO:root:Got 53 tweets for ripple%20since%3A2016-02-06%20until%3A2016-02-07.\n",
      "INFO:root:Got 93 tweets (53 new).\n",
      "INFO:root:Got 64 tweets for ripple%20since%3A2016-02-05%20until%3A2016-02-06.\n",
      "INFO:root:Got 157 tweets (64 new).\n",
      "ERROR:root:Failed to parse JSON \"Expecting value: line 1 column 1 (char 0)\" while requesting \"https://twitter.com/i/search/timeline?vertical=default&include_available_features=1&include_entities=1&reset_error_state=false&src=typd&max_position=TWEET-695034035781963777-695284988510609409-BD1UO2FFu9QAAAAAAAAVfAAAAAcAAABWAAAAAAAAAAAAAAAAAAAAAAAAAAAAAAAAAAAAAAAAAAAAAAAAAAAAAAAAAAAAAAAAAAAAAAAAAAAAAAAAAAAAAAAAAAAAAAAAAAAAAAAAAAAAAAAAAAAAAAAAAAAAAAAAAAAAAAAAAAAAAAAAAAAAAAAAAAAAAAAAAAAAAAAAAAAAAAAAAAAAAAAAAAAAAAAAAAAAAAAAAAAAAAAAAAAAAAAAAAAAAAAAAAAAAAAAAAAAAAAAAAAAAAAAAAAAAAAAAAAAAAAAAAAAAAAAAAAAAAAAAAAAAAAAAAAAAAAAAAAAAAAAAAAAAAAAAAAAAAAAAAAAAAAAAAAAAAAAAAAAAAAAAAAAAAAAAAAAAAAAAAAAAAAAAAAAAAAAAAAAAAAAAAAAAAAAAAAAAAAAAAAAAAAAAAAAAAAAAAAAAAAAAAAAAAAAAAAAAAAAAAAAAAAAAAAAAAAAAAAAAAAAAAAAAAAAAAAAAAAAAAAAAAAAAAAAAAAAAAAAAAAAAAAAAAAAAAAAAAAAAAAAAAAAAAAAAAAAAAAAAAAAAAAAAAAAAAAAAAAAAAAAAAAAAAAAAAAAAAAAAAAAAAAAAAAAAAAAAAAAAAAAAAAAAAAAAAAAAAAAAAAAAAAAAAAAAAAAAAAAAAAAAAAAAAAAAAAAAAAAAAAAAAAAAAAAAAAAAAAAAAAAAAAAAAAAAAAAAAAAAAAAAAAAAAAAAAAAAAAAAAAAAAAAAAAAAAAAAAAAAAAAAAAAAAAAAAAAAAAAAAAAAAAAAAAAAAAAAAAAAAAAAAAAAAAAAAAAAAAAAAAAAAAAAAAAAAAAAAAAAAAAAAAAAAAAAAAAAAAAAAAAAAAAAAAAAAAAAAAAAAAAAAAAAAAAAAAAAAAAAAAAAAAAAAAAAAAAAAAAAAAAAAAAAAAAAAAAAA==-T-0-2&q=ripple%20since%3A2016-02-04%20until%3A2016-02-05&l=\".\n",
      "Traceback (most recent call last):\n",
      "  File \"/home/shresthanikesh23/jupyter/CryptoTraderRemote/CryptoTrader/data_utils/twitter_data/twitterscraper/query.py\", line 54, in query_single_page\n",
      "    json_resp = json.loads(response.text)\n",
      "  File \"/usr/lib/python3.5/json/__init__.py\", line 319, in loads\n",
      "    return _default_decoder.decode(s)\n",
      "  File \"/usr/lib/python3.5/json/decoder.py\", line 339, in decode\n",
      "    obj, end = self.raw_decode(s, idx=_w(s, 0).end())\n",
      "  File \"/usr/lib/python3.5/json/decoder.py\", line 357, in raw_decode\n",
      "    raise JSONDecodeError(\"Expecting value\", s, err.value) from None\n",
      "json.decoder.JSONDecodeError: Expecting value: line 1 column 1 (char 0)\n",
      "INFO:root:Retrying... (Attempts left: 10)\n",
      "INFO:root:Got 61 tweets for ripple%20since%3A2016-02-04%20until%3A2016-02-05.\n",
      "INFO:root:Got 218 tweets (61 new).\n"
     ]
    },
    {
     "name": "stdout",
     "output_type": "stream",
     "text": [
      "2016-02-25 to 2016-02-29\n"
     ]
    },
    {
     "name": "stderr",
     "output_type": "stream",
     "text": [
      "INFO:root:Querying ripple since:2016-02-25 until:2016-02-26\n",
      "INFO:root:Querying ripple since:2016-02-27 until:2016-02-28\n",
      "INFO:root:Querying ripple since:2016-02-26 until:2016-02-27\n",
      "INFO:root:Querying ripple since:2016-02-28 until:2016-02-29\n",
      "INFO:root:Got 57 tweets for ripple%20since%3A2016-02-27%20until%3A2016-02-28.\n",
      "INFO:root:Got 57 tweets (57 new).\n",
      "INFO:root:Got 52 tweets for ripple%20since%3A2016-02-28%20until%3A2016-02-29.\n",
      "INFO:root:Got 109 tweets (52 new).\n",
      "INFO:root:Got 64 tweets for ripple%20since%3A2016-02-25%20until%3A2016-02-26.\n",
      "INFO:root:Got 173 tweets (64 new).\n",
      "INFO:root:Got 66 tweets for ripple%20since%3A2016-02-26%20until%3A2016-02-27.\n",
      "INFO:root:Got 239 tweets (66 new).\n"
     ]
    },
    {
     "name": "stdout",
     "output_type": "stream",
     "text": [
      "2016-04-06 to 2016-04-10\n"
     ]
    },
    {
     "name": "stderr",
     "output_type": "stream",
     "text": [
      "INFO:root:Querying ripple since:2016-04-06 until:2016-04-07\n",
      "INFO:root:Querying ripple since:2016-04-07 until:2016-04-08\n",
      "INFO:root:Querying ripple since:2016-04-09 until:2016-04-10\n",
      "INFO:root:Querying ripple since:2016-04-08 until:2016-04-09\n",
      "INFO:root:Got 57 tweets for ripple%20since%3A2016-04-06%20until%3A2016-04-07.\n",
      "INFO:root:Got 57 tweets (57 new).\n",
      "INFO:root:Got 63 tweets for ripple%20since%3A2016-04-07%20until%3A2016-04-08.\n",
      "INFO:root:Got 120 tweets (63 new).\n",
      "INFO:root:Got 60 tweets for ripple%20since%3A2016-04-08%20until%3A2016-04-09.\n",
      "INFO:root:Got 180 tweets (60 new).\n",
      "INFO:root:Got 62 tweets for ripple%20since%3A2016-04-09%20until%3A2016-04-10.\n",
      "INFO:root:Got 242 tweets (62 new).\n"
     ]
    },
    {
     "name": "stdout",
     "output_type": "stream",
     "text": [
      "2017-04-08 to 2017-04-12\n"
     ]
    },
    {
     "name": "stderr",
     "output_type": "stream",
     "text": [
      "INFO:root:Querying ripple since:2017-04-08 until:2017-04-09\n",
      "INFO:root:Querying ripple since:2017-04-10 until:2017-04-11\n",
      "INFO:root:Querying ripple since:2017-04-09 until:2017-04-10\n",
      "INFO:root:Querying ripple since:2017-04-11 until:2017-04-12\n",
      "ERROR:root:Failed to parse JSON \"Expecting value: line 1 column 1 (char 0)\" while requesting \"https://twitter.com/i/search/timeline?vertical=default&include_available_features=1&include_entities=1&reset_error_state=false&src=typd&max_position=TWEET-850506672871100418-850717053493415937-BD1UO2FFu9QAAAAAAAAVfAAAAAcAAABWAAAAAAAAAAAAAAAAAAAAAAAAAAAAAAAAAAAAAAAAAAAAAAAAAAAAAAAAAAAAAAAAAAAAAAAAAAAAAAAAAAAAAAAAAAAAAAAAAAAAAAAAAAAAAAAAAAAAAAAAAAAAAAAAAAAAAAAAAAAAAAAAAAAAAAAAAAAAAAAAAAAAAAAAAAAAAAAAAAAAAAAAAAAAAAAAAAAAAAAAAAAAAAAAAAAAAAAAAAAAAAAAAAAAAAAAAAAAAAAAAAAAAAAAAAAAAAAAAAAAAAAAAAAAAAAAAAAAAAAAAAAAAAAAAAAAAAAAAAAAAAAAAAAAAAAAAAAAAAAAAAAAAAAAAAAAAAAAAAAAAAAAAAAAAAAAAAAAAAAAAAAAAAAAAAAAAAAAAAAAAAAAAAAAAAAAAAAAAAAAAAAAAAAAAAAAAAAAAAAAAAAAAAAAAAAAAAAAAAAAAAAAAAAAAAAAAAAAAAAAAAAAAAAAAAAAAAAAAAAAAAAAAAAAAAAAAAAAAAAAAAAAAAAAAAAAAAAAAAAAAAAAAAAAAAAAAAAAAAAAAAAAAAAAAAAAAAAAAAAAAAAAAAAAAAAAAAAAAAAAAAAAAAAAAAAAAAAAAAAAAAAAAAAAAAAAAAAAAAAAAAAAAAAAAAAAAAAAAAAAAAAAAAAAAAAAAAAAAAAAAAAAAAAAAAAAAAAAAAAAAAAAAAAAAAAAAAAAAAAAAAAAAAAAAAAAAAAAAAAAAAAAAAAAAAAAAAAAAAAAAAAAAAAAAAAAAAAAAAAAAAAAAAAAAAAAAAAAAAAAAAAAAAAAAAAAAAAAAAAAAAAAAAAAAAAAAAAAAAAAAAAAAAAAAAAAAAAAAAAAAAAAAAAAAAAAAAAAAAAAAAAAAAAAAAAAAAAAAAAAAAAAAAAAAAAAAAAAAAAAAAAAAAAAAAAAAAAAAA==-T-0-0&q=ripple%20since%3A2017-04-08%20until%3A2017-04-09&l=\".\n",
      "Traceback (most recent call last):\n",
      "  File \"/home/shresthanikesh23/jupyter/CryptoTraderRemote/CryptoTrader/data_utils/twitter_data/twitterscraper/query.py\", line 54, in query_single_page\n",
      "    json_resp = json.loads(response.text)\n",
      "  File \"/usr/lib/python3.5/json/__init__.py\", line 319, in loads\n",
      "    return _default_decoder.decode(s)\n",
      "  File \"/usr/lib/python3.5/json/decoder.py\", line 339, in decode\n",
      "    obj, end = self.raw_decode(s, idx=_w(s, 0).end())\n",
      "  File \"/usr/lib/python3.5/json/decoder.py\", line 357, in raw_decode\n",
      "    raise JSONDecodeError(\"Expecting value\", s, err.value) from None\n",
      "json.decoder.JSONDecodeError: Expecting value: line 1 column 1 (char 0)\n",
      "INFO:root:Retrying... (Attempts left: 10)\n",
      "INFO:root:Got 60 tweets for ripple%20since%3A2017-04-11%20until%3A2017-04-12.\n",
      "INFO:root:Got 60 tweets (60 new).\n",
      "INFO:root:Got 45 tweets for ripple%20since%3A2017-04-09%20until%3A2017-04-10.\n",
      "INFO:root:Got 105 tweets (45 new).\n",
      "INFO:root:Got 60 tweets for ripple%20since%3A2017-04-08%20until%3A2017-04-09.\n",
      "INFO:root:Got 165 tweets (60 new).\n",
      "INFO:root:Got 62 tweets for ripple%20since%3A2017-04-10%20until%3A2017-04-11.\n",
      "INFO:root:Got 227 tweets (62 new).\n"
     ]
    },
    {
     "name": "stdout",
     "output_type": "stream",
     "text": [
      "2017-10-14 to 2017-10-18\n"
     ]
    },
    {
     "name": "stderr",
     "output_type": "stream",
     "text": [
      "INFO:root:Querying ripple since:2017-10-15 until:2017-10-16\n",
      "INFO:root:Querying ripple since:2017-10-16 until:2017-10-17\n",
      "INFO:root:Querying ripple since:2017-10-14 until:2017-10-15\n",
      "INFO:root:Querying ripple since:2017-10-17 until:2017-10-18\n",
      "INFO:root:Got 80 tweets for ripple%20since%3A2017-10-15%20until%3A2017-10-16.\n",
      "INFO:root:Got 80 tweets (80 new).\n",
      "INFO:root:Got 89 tweets for ripple%20since%3A2017-10-14%20until%3A2017-10-15.\n",
      "INFO:root:Got 169 tweets (89 new).\n",
      "INFO:root:Got 120 tweets for ripple%20since%3A2017-10-17%20until%3A2017-10-18.\n",
      "INFO:root:Got 289 tweets (120 new).\n",
      "INFO:root:Got 120 tweets for ripple%20since%3A2017-10-16%20until%3A2017-10-17.\n",
      "INFO:root:Got 409 tweets (120 new).\n"
     ]
    },
    {
     "name": "stdout",
     "output_type": "stream",
     "text": [
      "2018-01-10 to 2018-01-14\n"
     ]
    },
    {
     "name": "stderr",
     "output_type": "stream",
     "text": [
      "INFO:root:Querying ripple since:2018-01-13 until:2018-01-14\n",
      "INFO:root:Querying ripple since:2018-01-10 until:2018-01-11\n",
      "INFO:root:Querying ripple since:2018-01-11 until:2018-01-12\n",
      "INFO:root:Querying ripple since:2018-01-12 until:2018-01-13\n",
      "INFO:root:Got 177 tweets for ripple%20since%3A2018-01-13%20until%3A2018-01-14.\n",
      "INFO:root:Got 177 tweets (177 new).\n",
      "INFO:root:Got 223 tweets for ripple%20since%3A2018-01-12%20until%3A2018-01-13.\n",
      "INFO:root:Got 400 tweets (223 new).\n",
      "INFO:root:Got 276 tweets for ripple%20since%3A2018-01-10%20until%3A2018-01-11.\n",
      "INFO:root:Got 676 tweets (276 new).\n",
      "INFO:root:Got 375 tweets for ripple%20since%3A2018-01-11%20until%3A2018-01-12.\n",
      "INFO:root:Got 1051 tweets (375 new).\n"
     ]
    },
    {
     "name": "stdout",
     "output_type": "stream",
     "text": [
      "2018-04-07 to 2018-04-11\n"
     ]
    },
    {
     "name": "stderr",
     "output_type": "stream",
     "text": [
      "INFO:root:Querying ripple since:2018-04-07 until:2018-04-08\n",
      "INFO:root:Querying ripple since:2018-04-10 until:2018-04-11\n",
      "INFO:root:Querying ripple since:2018-04-09 until:2018-04-10\n",
      "INFO:root:Querying ripple since:2018-04-08 until:2018-04-09\n",
      "INFO:root:Got 118 tweets for ripple%20since%3A2018-04-08%20until%3A2018-04-09.\n",
      "INFO:root:Got 118 tweets (118 new).\n",
      "INFO:root:Got 121 tweets for ripple%20since%3A2018-04-07%20until%3A2018-04-08.\n",
      "INFO:root:Got 239 tweets (121 new).\n",
      "INFO:root:Got 120 tweets for ripple%20since%3A2018-04-10%20until%3A2018-04-11.\n",
      "INFO:root:Got 359 tweets (120 new).\n",
      "INFO:root:Got 151 tweets for ripple%20since%3A2018-04-09%20until%3A2018-04-10.\n",
      "INFO:root:Got 510 tweets (151 new).\n"
     ]
    },
    {
     "name": "stdout",
     "output_type": "stream",
     "text": [
      "dogecoin\n",
      "2015-01-07 to 2015-01-11\n"
     ]
    },
    {
     "name": "stderr",
     "output_type": "stream",
     "text": [
      "INFO:root:Querying dogecoin since:2015-01-09 until:2015-01-10\n",
      "INFO:root:Querying dogecoin since:2015-01-10 until:2015-01-11\n",
      "INFO:root:Querying dogecoin since:2015-01-07 until:2015-01-08\n",
      "INFO:root:Querying dogecoin since:2015-01-08 until:2015-01-09\n",
      "INFO:root:Got 0 tweets for dogecoin%20since%3A2015-01-08%20until%3A2015-01-09.\n",
      "INFO:root:Got 0 tweets (0 new).\n",
      "ERROR:root:Failed to parse JSON \"Expecting value: line 1 column 1 (char 0)\" while requesting \"https://twitter.com/i/search/timeline?vertical=default&include_available_features=1&include_entities=1&reset_error_state=false&src=typd&max_position=TWEET-553340635848003584-553562591898120193-BD1UO2FFu9QAAAAAAAAVfAAAAAcAAABWAAAAAAAAAAAAAAAAAAAAAAAAAAAAAAAAAAAAAAAAAAAAAAAAAAAAAAAAAAAAAAAAAAAAAAAAAAAAAAAAAAAAAAAAAAAAAAAAAAAAAAAAAAAAAAAAAAAAAAAAAAAAAAAAAAAAAAAAAAAAAAAAAAAAAAAAAAAAAAAAAAAAAAAAAAAAAAAAAAAAAAAAAAAAAAAAAAAAAAAAAAAAAAAAAAAAAAAAAAAAAAAAAAAAAAAAAAAAAAAAAAAAAAAAAAAAAAAAAAAAAAAAAAAAAAAAAAAAAAAAAAAAAAAAAAAAAAAAAAAAAAAAAAAAAAAAAAAAAAAAAAAAAAAAAAAAAAAAAAAAAAAAAAAAAAAAAAAAAAAAAAAAAAAAAAAAAAAAAAAAAAAAAAAAAAAAAAAAAAAAAAAAAAAAAAAAAAAAAAAAAAAAAAAAAAAAAAAAAAAAAAAAAAAAAAAAAAAAAAAAAAAAAAAAAAAAAAAAAAAAAAAAAAAAAAAAAAAAAAAAAAAAAAAAAAAAAAAAAAAAAAAAAAAAAAAAAAAAAAAAAAAAAAAAAAAAAAAAAAAAAAAAAAAAAAAAAAAAAAAAAAAAAAAAAAAAAAAAAAAAAAAAAAAAAAAAAAAAAAAAAAAAAAAAAAAAAAAAAAAAAAAAAAAAAAAAAAAAAAAAAAAAAAAAAAAAAAAAAAAAAAAAAAAAAAAAAAAAAAAAAAAAAAAAAAAAAAAAAAAAAAAAAAAAAAAAAAAAAAAAAAAAAAAAAAAAAAAAAAAAAAAAAAAAAAAAAAAAAAAAAAAAAAAAAAAAAAAAAAAAAAAAAAAAAAAAAAAAAAAAAAAAAAAAAAAAAAAAAAAAAAAAAAAAAAAAAAAAAAAAAAAAAAAAAAAAAAAAAAAAAAAAAAAAAAAAAAAAAAAAAAAAAAAAAAAAAAAAAA==-T-0-1&q=dogecoin%20since%3A2015-01-09%20until%3A2015-01-10&l=\".\n",
      "Traceback (most recent call last):\n",
      "  File \"/home/shresthanikesh23/jupyter/CryptoTraderRemote/CryptoTrader/data_utils/twitter_data/twitterscraper/query.py\", line 54, in query_single_page\n",
      "    json_resp = json.loads(response.text)\n",
      "  File \"/usr/lib/python3.5/json/__init__.py\", line 319, in loads\n",
      "    return _default_decoder.decode(s)\n",
      "  File \"/usr/lib/python3.5/json/decoder.py\", line 339, in decode\n",
      "    obj, end = self.raw_decode(s, idx=_w(s, 0).end())\n",
      "  File \"/usr/lib/python3.5/json/decoder.py\", line 357, in raw_decode\n",
      "    raise JSONDecodeError(\"Expecting value\", s, err.value) from None\n",
      "json.decoder.JSONDecodeError: Expecting value: line 1 column 1 (char 0)INFO:root:Retrying... (Attempts left: 10)\n",
      "\n",
      "INFO:root:Got 56 tweets for dogecoin%20since%3A2015-01-07%20until%3A2015-01-08.\n",
      "INFO:root:Got 56 tweets (56 new).\n",
      "INFO:root:Got 49 tweets for dogecoin%20since%3A2015-01-09%20until%3A2015-01-10.\n",
      "INFO:root:Got 105 tweets (49 new).\n",
      "INFO:root:Got 51 tweets for dogecoin%20since%3A2015-01-10%20until%3A2015-01-11.\n",
      "INFO:root:Got 156 tweets (51 new).\n"
     ]
    },
    {
     "name": "stdout",
     "output_type": "stream",
     "text": [
      "2015-01-10 to 2015-01-14\n"
     ]
    },
    {
     "name": "stderr",
     "output_type": "stream",
     "text": [
      "INFO:root:Querying dogecoin since:2015-01-11 until:2015-01-12\n",
      "INFO:root:Querying dogecoin since:2015-01-10 until:2015-01-11\n",
      "INFO:root:Querying dogecoin since:2015-01-12 until:2015-01-13\n",
      "INFO:root:Querying dogecoin since:2015-01-13 until:2015-01-14\n",
      "INFO:root:Got 44 tweets for dogecoin%20since%3A2015-01-11%20until%3A2015-01-12.\n",
      "INFO:root:Got 44 tweets (44 new).\n",
      "INFO:root:Got 44 tweets for dogecoin%20since%3A2015-01-13%20until%3A2015-01-14.\n",
      "INFO:root:Got 88 tweets (44 new).\n",
      "INFO:root:Got 51 tweets for dogecoin%20since%3A2015-01-10%20until%3A2015-01-11.\n",
      "INFO:root:Got 139 tweets (51 new).\n",
      "INFO:root:Got 54 tweets for dogecoin%20since%3A2015-01-12%20until%3A2015-01-13.\n",
      "INFO:root:Got 193 tweets (54 new).\n"
     ]
    },
    {
     "name": "stdout",
     "output_type": "stream",
     "text": [
      "2015-06-19 to 2015-06-23\n"
     ]
    },
    {
     "name": "stderr",
     "output_type": "stream",
     "text": [
      "INFO:root:Querying dogecoin since:2015-06-20 until:2015-06-21\n",
      "INFO:root:Querying dogecoin since:2015-06-21 until:2015-06-22\n",
      "INFO:root:Querying dogecoin since:2015-06-22 until:2015-06-23\n",
      "INFO:root:Querying dogecoin since:2015-06-19 until:2015-06-20\n",
      "INFO:root:Got 40 tweets for dogecoin%20since%3A2015-06-21%20until%3A2015-06-22.\n",
      "INFO:root:Got 40 tweets (40 new).\n",
      "INFO:root:Got 31 tweets for dogecoin%20since%3A2015-06-22%20until%3A2015-06-23.\n",
      "INFO:root:Got 71 tweets (31 new).\n",
      "INFO:root:Got 49 tweets for dogecoin%20since%3A2015-06-19%20until%3A2015-06-20.\n",
      "INFO:root:Got 120 tweets (49 new).\n",
      "INFO:root:Got 46 tweets for dogecoin%20since%3A2015-06-20%20until%3A2015-06-21.\n",
      "INFO:root:Got 166 tweets (46 new).\n"
     ]
    },
    {
     "name": "stdout",
     "output_type": "stream",
     "text": [
      "2016-01-09 to 2016-01-13\n"
     ]
    },
    {
     "name": "stderr",
     "output_type": "stream",
     "text": [
      "INFO:root:Querying dogecoin since:2016-01-10 until:2016-01-11\n",
      "INFO:root:Querying dogecoin since:2016-01-11 until:2016-01-12\n",
      "INFO:root:Querying dogecoin since:2016-01-09 until:2016-01-10\n",
      "INFO:root:Querying dogecoin since:2016-01-12 until:2016-01-13\n",
      "INFO:root:Got 28 tweets for dogecoin%20since%3A2016-01-10%20until%3A2016-01-11.\n",
      "INFO:root:Got 28 tweets (28 new).\n",
      "INFO:root:Got 39 tweets for dogecoin%20since%3A2016-01-09%20until%3A2016-01-10.\n",
      "INFO:root:Got 67 tweets (39 new).\n",
      "INFO:root:Got 37 tweets for dogecoin%20since%3A2016-01-12%20until%3A2016-01-13.\n",
      "INFO:root:Got 104 tweets (37 new).\n",
      "INFO:root:Got 41 tweets for dogecoin%20since%3A2016-01-11%20until%3A2016-01-12.\n",
      "INFO:root:Got 145 tweets (41 new).\n"
     ]
    },
    {
     "name": "stdout",
     "output_type": "stream",
     "text": [
      "2016-12-08 to 2016-12-12\n"
     ]
    },
    {
     "name": "stderr",
     "output_type": "stream",
     "text": [
      "INFO:root:Querying dogecoin since:2016-12-11 until:2016-12-12\n",
      "INFO:root:Querying dogecoin since:2016-12-10 until:2016-12-11\n",
      "INFO:root:Querying dogecoin since:2016-12-08 until:2016-12-09\n",
      "INFO:root:Querying dogecoin since:2016-12-09 until:2016-12-10\n",
      "INFO:root:Got 31 tweets for dogecoin%20since%3A2016-12-08%20until%3A2016-12-09.\n",
      "INFO:root:Got 31 tweets (31 new).\n",
      "INFO:root:Got 35 tweets for dogecoin%20since%3A2016-12-09%20until%3A2016-12-10.\n",
      "INFO:root:Got 66 tweets (35 new).\n",
      "INFO:root:Got 37 tweets for dogecoin%20since%3A2016-12-10%20until%3A2016-12-11.\n",
      "INFO:root:Got 103 tweets (37 new).\n",
      "INFO:root:Got 31 tweets for dogecoin%20since%3A2016-12-11%20until%3A2016-12-12.\n",
      "INFO:root:Got 134 tweets (31 new).\n"
     ]
    },
    {
     "name": "stdout",
     "output_type": "stream",
     "text": [
      "2017-03-02 to 2017-03-06\n"
     ]
    },
    {
     "name": "stderr",
     "output_type": "stream",
     "text": [
      "INFO:root:Querying dogecoin since:2017-03-03 until:2017-03-04\n",
      "INFO:root:Querying dogecoin since:2017-03-04 until:2017-03-05\n",
      "INFO:root:Querying dogecoin since:2017-03-02 until:2017-03-03\n",
      "INFO:root:Querying dogecoin since:2017-03-05 until:2017-03-06\n",
      "INFO:root:Got 33 tweets for dogecoin%20since%3A2017-03-03%20until%3A2017-03-04.\n",
      "INFO:root:Got 33 tweets (33 new).\n",
      "INFO:root:Got 21 tweets for dogecoin%20since%3A2017-03-04%20until%3A2017-03-05.\n",
      "INFO:root:Got 54 tweets (21 new).\n",
      "INFO:root:Got 37 tweets for dogecoin%20since%3A2017-03-02%20until%3A2017-03-03.\n",
      "INFO:root:Got 91 tweets (37 new).\n",
      "INFO:root:Got 35 tweets for dogecoin%20since%3A2017-03-05%20until%3A2017-03-06.\n",
      "INFO:root:Got 126 tweets (35 new).\n"
     ]
    },
    {
     "name": "stdout",
     "output_type": "stream",
     "text": [
      "2017-03-31 to 2017-04-04\n"
     ]
    },
    {
     "name": "stderr",
     "output_type": "stream",
     "text": [
      "INFO:root:Querying dogecoin since:2017-03-31 until:2017-04-01\n",
      "INFO:root:Querying dogecoin since:2017-04-03 until:2017-04-04\n",
      "INFO:root:Querying dogecoin since:2017-04-02 until:2017-04-03\n",
      "INFO:root:Querying dogecoin since:2017-04-01 until:2017-04-02\n",
      "INFO:root:Got 26 tweets for dogecoin%20since%3A2017-04-03%20until%3A2017-04-04.\n",
      "INFO:root:Got 26 tweets (26 new).\n",
      "INFO:root:Got 23 tweets for dogecoin%20since%3A2017-03-31%20until%3A2017-04-01.\n",
      "INFO:root:Got 49 tweets (23 new).\n",
      "INFO:root:Got 31 tweets for dogecoin%20since%3A2017-04-01%20until%3A2017-04-02.\n",
      "INFO:root:Got 80 tweets (31 new).\n",
      "INFO:root:Got 45 tweets for dogecoin%20since%3A2017-04-02%20until%3A2017-04-03.\n",
      "INFO:root:Got 125 tweets (45 new).\n"
     ]
    },
    {
     "name": "stdout",
     "output_type": "stream",
     "text": [
      "2017-07-16 to 2017-07-20\n"
     ]
    },
    {
     "name": "stderr",
     "output_type": "stream",
     "text": [
      "INFO:root:Querying dogecoin since:2017-07-16 until:2017-07-17\n",
      "INFO:root:Querying dogecoin since:2017-07-17 until:2017-07-18\n",
      "INFO:root:Querying dogecoin since:2017-07-18 until:2017-07-19\n",
      "INFO:root:Querying dogecoin since:2017-07-19 until:2017-07-20\n",
      "INFO:root:Got 33 tweets for dogecoin%20since%3A2017-07-18%20until%3A2017-07-19.\n",
      "INFO:root:Got 33 tweets (33 new).\n",
      "ERROR:root:Failed to parse JSON \"Expecting value: line 1 column 1 (char 0)\" while requesting \"https://twitter.com/i/search/timeline?vertical=default&include_available_features=1&include_entities=1&reset_error_state=false&src=typd&max_position=TWEET-887462251464085504-887818573971955712-BD1UO2FFu9QAAAAAAAAVfAAAAAcAAABWAAAAAAAAAAAAAAAAAAAAAAAAAAAAAAAAAAAAAAAAAAAAAAAAAAAAAAAAAAAAAAAAAAAAAAAAAAAAAAAAAAAAAAAAAAAAAAAAAAAAAAAAAAAAAAAAAAAAAAAAAAAAAAAAAAAAAAAAAAAAAAAAAAAAAAAAAAAAAAAAAAAAAAAAAAAAAAAAAAAAAAAAAAAAAAAAAAAAAAAAAAAAAAAAAAAAAAAAAAAAAAAAAAAAAAAAAAAAAAAAAAAAAAAAAAAAAAAAAAAAAAAAAAAAAAAAAAAAAAAAAAAAAAAAAAAAAAAAAAAAAAAAAAAAAAAAAAAAAAAAAAAAAAAAAAAAAAAAAAAAAAAAAAAAAAAAAAAAAAAAAAAAAAAAAAAAAAAAAAAAAAAAAAAAAAAAAAAAAAAAAAAAAAAAAAAAAAAAAAAAAAAAAAAAAAAAAAAAAAAAAAAAAAAAAAAAAAAAAAAAAAAAAAAAAAAAAAAAAAAAAAAAAAAAAAAAAAAAAAAAAAAAAAAAAAAAAAAAAAAAAAAAAAAAAAAAAAAAAAAAAAAAAAAAAAAAAAAAAAAAAAAAAAAAAAAAAAAAAAAAAAAAAAAAAAAAAAAAAAAAAAAAAAAAAAAAAAAAAAAAAAAAAAAAAAAAAAAAAAAAAAAAAAAAAAAAAAAAAAAAAAAAAAAAAAAAAAAAAAAAAAAAAAAAAAAAAAAAAAAAAAAAAAAAAAAAAAAAAAAAAAAAAAAAAAAAAAAAAAAAAAAAAAAAAAAAAAAAAAAAAAAAAAAAAAAAAAAAAAAAAAAAAAAAAAAAAAAAAAAAAAAAAAAAAAAAAAAAAAAAAAAAAAAAAAAAAAAAAAAAAAAAAAAAAAAAAAAAAAAAAAAAAAAAAAAAAAAAAAAAAAAAAAAAAAAAAAAAAAAAAAAAAAAAAAAAAAAAAA==-T-0-1&q=dogecoin%20since%3A2017-07-19%20until%3A2017-07-20&l=\".\n",
      "Traceback (most recent call last):\n",
      "  File \"/home/shresthanikesh23/jupyter/CryptoTraderRemote/CryptoTrader/data_utils/twitter_data/twitterscraper/query.py\", line 54, in query_single_page\n",
      "    json_resp = json.loads(response.text)\n",
      "  File \"/usr/lib/python3.5/json/__init__.py\", line 319, in loads\n",
      "    return _default_decoder.decode(s)\n",
      "  File \"/usr/lib/python3.5/json/decoder.py\", line 339, in decode\n",
      "    obj, end = self.raw_decode(s, idx=_w(s, 0).end())\n",
      "  File \"/usr/lib/python3.5/json/decoder.py\", line 357, in raw_decode\n",
      "    raise JSONDecodeError(\"Expecting value\", s, err.value) from None\n",
      "json.decoder.JSONDecodeError: Expecting value: line 1 column 1 (char 0)\n",
      "INFO:root:Retrying... (Attempts left: 10)\n",
      "INFO:root:Got 34 tweets for dogecoin%20since%3A2017-07-16%20until%3A2017-07-17.\n",
      "INFO:root:Got 67 tweets (34 new).\n",
      "INFO:root:Got 30 tweets for dogecoin%20since%3A2017-07-19%20until%3A2017-07-20.\n",
      "INFO:root:Got 97 tweets (30 new).\n",
      "INFO:root:Got 40 tweets for dogecoin%20since%3A2017-07-17%20until%3A2017-07-18.\n",
      "INFO:root:Got 137 tweets (40 new).\n"
     ]
    },
    {
     "name": "stdout",
     "output_type": "stream",
     "text": [
      "2017-09-27 to 2017-10-01\n"
     ]
    },
    {
     "name": "stderr",
     "output_type": "stream",
     "text": [
      "INFO:root:Querying dogecoin since:2017-09-29 until:2017-09-30\n",
      "INFO:root:Querying dogecoin since:2017-09-28 until:2017-09-29\n",
      "INFO:root:Querying dogecoin since:2017-09-27 until:2017-09-28\n",
      "INFO:root:Querying dogecoin since:2017-09-30 until:2017-10-01\n",
      "INFO:root:Got 31 tweets for dogecoin%20since%3A2017-09-28%20until%3A2017-09-29.\n",
      "INFO:root:Got 31 tweets (31 new).\n",
      "INFO:root:Got 32 tweets for dogecoin%20since%3A2017-09-29%20until%3A2017-09-30.\n",
      "INFO:root:Got 63 tweets (32 new).\n",
      "INFO:root:Got 42 tweets for dogecoin%20since%3A2017-09-27%20until%3A2017-09-28.\n",
      "INFO:root:Got 105 tweets (42 new).\n",
      "INFO:root:Got 47 tweets for dogecoin%20since%3A2017-09-30%20until%3A2017-10-01.\n",
      "INFO:root:Got 152 tweets (47 new).\n"
     ]
    },
    {
     "name": "stdout",
     "output_type": "stream",
     "text": [
      "2018-01-15 to 2018-01-19\n"
     ]
    },
    {
     "name": "stderr",
     "output_type": "stream",
     "text": [
      "INFO:root:Querying dogecoin since:2018-01-16 until:2018-01-17\n",
      "INFO:root:Querying dogecoin since:2018-01-17 until:2018-01-18\n",
      "INFO:root:Querying dogecoin since:2018-01-15 until:2018-01-16\n",
      "INFO:root:Querying dogecoin since:2018-01-18 until:2018-01-19\n",
      "INFO:root:Got 58 tweets for dogecoin%20since%3A2018-01-17%20until%3A2018-01-18.\n",
      "INFO:root:Got 58 tweets (58 new).\n",
      "INFO:root:Got 58 tweets for dogecoin%20since%3A2018-01-16%20until%3A2018-01-17.\n",
      "INFO:root:Got 116 tweets (58 new).\n",
      "INFO:root:Got 61 tweets for dogecoin%20since%3A2018-01-15%20until%3A2018-01-16.\n",
      "INFO:root:Got 177 tweets (61 new).\n",
      "INFO:root:Got 58 tweets for dogecoin%20since%3A2018-01-18%20until%3A2018-01-19.\n",
      "INFO:root:Got 235 tweets (58 new).\n"
     ]
    },
    {
     "name": "stdout",
     "output_type": "stream",
     "text": [
      "2018-02-15 to 2018-02-19\n"
     ]
    },
    {
     "name": "stderr",
     "output_type": "stream",
     "text": [
      "INFO:root:Querying dogecoin since:2018-02-16 until:2018-02-17\n",
      "INFO:root:Querying dogecoin since:2018-02-15 until:2018-02-16\n",
      "INFO:root:Querying dogecoin since:2018-02-17 until:2018-02-18\n",
      "INFO:root:Querying dogecoin since:2018-02-18 until:2018-02-19\n",
      "ERROR:root:Failed to parse JSON \"Expecting value: line 1 column 1 (char 0)\" while requesting \"https://twitter.com/i/search/timeline?vertical=default&include_available_features=1&include_entities=1&reset_error_state=false&src=typd&max_position=TWEET-965256847035858946-965104973850660864&q=dogecoin%20since%3A2018-02-18%20until%3A2018-02-19&l=\".\n",
      "Traceback (most recent call last):\n",
      "  File \"/home/shresthanikesh23/jupyter/CryptoTraderRemote/CryptoTrader/data_utils/twitter_data/twitterscraper/query.py\", line 54, in query_single_page\n",
      "    json_resp = json.loads(response.text)\n",
      "  File \"/usr/lib/python3.5/json/__init__.py\", line 319, in loads\n",
      "    return _default_decoder.decode(s)\n",
      "  File \"/usr/lib/python3.5/json/decoder.py\", line 339, in decode\n",
      "    obj, end = self.raw_decode(s, idx=_w(s, 0).end())\n",
      "  File \"/usr/lib/python3.5/json/decoder.py\", line 357, in raw_decode\n",
      "    raise JSONDecodeError(\"Expecting value\", s, err.value) from None\n",
      "json.decoder.JSONDecodeError: Expecting value: line 1 column 1 (char 0)\n",
      "INFO:root:Retrying... (Attempts left: 10)\n",
      "INFO:root:Got 51 tweets for dogecoin%20since%3A2018-02-17%20until%3A2018-02-18.\n",
      "INFO:root:Got 51 tweets (51 new).\n",
      "INFO:root:Got 40 tweets for dogecoin%20since%3A2018-02-18%20until%3A2018-02-19.\n",
      "INFO:root:Got 91 tweets (40 new).\n",
      "INFO:root:Got 64 tweets for dogecoin%20since%3A2018-02-16%20until%3A2018-02-17.\n",
      "INFO:root:Got 155 tweets (64 new).\n",
      "INFO:root:Got 62 tweets for dogecoin%20since%3A2018-02-15%20until%3A2018-02-16.\n",
      "INFO:root:Got 217 tweets (62 new).\n"
     ]
    },
    {
     "name": "stdout",
     "output_type": "stream",
     "text": [
      "2018-04-11 to 2018-04-15\n"
     ]
    },
    {
     "name": "stderr",
     "output_type": "stream",
     "text": [
      "INFO:root:Querying dogecoin since:2018-04-12 until:2018-04-13\n",
      "INFO:root:Querying dogecoin since:2018-04-13 until:2018-04-14\n",
      "INFO:root:Querying dogecoin since:2018-04-11 until:2018-04-12\n",
      "INFO:root:Querying dogecoin since:2018-04-14 until:2018-04-15\n",
      "INFO:root:Got 47 tweets for dogecoin%20since%3A2018-04-11%20until%3A2018-04-12.\n",
      "INFO:root:Got 47 tweets (47 new).\n",
      "INFO:root:Got 48 tweets for dogecoin%20since%3A2018-04-13%20until%3A2018-04-14.\n",
      "INFO:root:Got 95 tweets (48 new).\n",
      "INFO:root:Got 43 tweets for dogecoin%20since%3A2018-04-12%20until%3A2018-04-13.\n",
      "INFO:root:Got 138 tweets (43 new).\n",
      "INFO:root:Got 48 tweets for dogecoin%20since%3A2018-04-14%20until%3A2018-04-15.\n",
      "INFO:root:Got 186 tweets (48 new).\n"
     ]
    },
    {
     "name": "stdout",
     "output_type": "stream",
     "text": [
      "2018-05-25 to 2018-05-29\n"
     ]
    },
    {
     "name": "stderr",
     "output_type": "stream",
     "text": [
      "INFO:root:Querying dogecoin since:2018-05-26 until:2018-05-27\n",
      "INFO:root:Querying dogecoin since:2018-05-25 until:2018-05-26\n",
      "INFO:root:Querying dogecoin since:2018-05-27 until:2018-05-28\n",
      "INFO:root:Querying dogecoin since:2018-05-28 until:2018-05-29\n",
      "INFO:root:Got 0 tweets for dogecoin%20since%3A2018-05-28%20until%3A2018-05-29.\n",
      "INFO:root:Got 0 tweets (0 new).\n",
      "INFO:root:Got 42 tweets for dogecoin%20since%3A2018-05-25%20until%3A2018-05-26.\n",
      "INFO:root:Got 42 tweets (42 new).\n",
      "INFO:root:Got 53 tweets for dogecoin%20since%3A2018-05-26%20until%3A2018-05-27.\n",
      "INFO:root:Got 95 tweets (53 new).\n",
      "INFO:root:Got 48 tweets for dogecoin%20since%3A2018-05-27%20until%3A2018-05-28.\n",
      "INFO:root:Got 143 tweets (48 new).\n"
     ]
    },
    {
     "name": "stdout",
     "output_type": "stream",
     "text": [
      "monero\n",
      "2015-04-27 to 2015-05-01\n"
     ]
    },
    {
     "name": "stderr",
     "output_type": "stream",
     "text": [
      "INFO:root:Querying monero since:2015-04-29 until:2015-04-30\n",
      "INFO:root:Querying monero since:2015-04-27 until:2015-04-28\n",
      "INFO:root:Querying monero since:2015-04-28 until:2015-04-29\n",
      "INFO:root:Querying monero since:2015-04-30 until:2015-05-01\n",
      "INFO:root:Got 19 tweets for monero%20since%3A2015-04-28%20until%3A2015-04-29.\n",
      "INFO:root:Got 19 tweets (19 new).\n",
      "INFO:root:Got 24 tweets for monero%20since%3A2015-04-29%20until%3A2015-04-30.\n",
      "INFO:root:Got 43 tweets (24 new).\n",
      "INFO:root:Got 40 tweets for monero%20since%3A2015-04-30%20until%3A2015-05-01.\n",
      "INFO:root:Got 83 tweets (40 new).\n",
      "INFO:root:Got 25 tweets for monero%20since%3A2015-04-27%20until%3A2015-04-28.\n",
      "INFO:root:Got 108 tweets (25 new).\n"
     ]
    },
    {
     "name": "stdout",
     "output_type": "stream",
     "text": [
      "2016-07-12 to 2016-07-16\n"
     ]
    },
    {
     "name": "stderr",
     "output_type": "stream",
     "text": [
      "INFO:root:Querying monero since:2016-07-13 until:2016-07-14\n",
      "INFO:root:Querying monero since:2016-07-14 until:2016-07-15\n",
      "INFO:root:Querying monero since:2016-07-12 until:2016-07-13\n",
      "INFO:root:Querying monero since:2016-07-15 until:2016-07-16\n",
      "INFO:root:Got 16 tweets for monero%20since%3A2016-07-15%20until%3A2016-07-16.\n",
      "INFO:root:Got 16 tweets (16 new).\n",
      "INFO:root:Got 15 tweets for monero%20since%3A2016-07-14%20until%3A2016-07-15.\n",
      "INFO:root:Got 31 tweets (15 new).\n",
      "INFO:root:Got 24 tweets for monero%20since%3A2016-07-13%20until%3A2016-07-14.\n",
      "INFO:root:Got 55 tweets (24 new).\n",
      "INFO:root:Got 25 tweets for monero%20since%3A2016-07-12%20until%3A2016-07-13.\n",
      "INFO:root:Got 80 tweets (25 new).\n"
     ]
    },
    {
     "name": "stdout",
     "output_type": "stream",
     "text": [
      "2016-07-31 to 2016-08-04\n"
     ]
    },
    {
     "name": "stderr",
     "output_type": "stream",
     "text": [
      "INFO:root:Querying monero since:2016-08-01 until:2016-08-02\n",
      "INFO:root:Querying monero since:2016-07-31 until:2016-08-01\n",
      "INFO:root:Querying monero since:2016-08-02 until:2016-08-03\n",
      "INFO:root:Querying monero since:2016-08-03 until:2016-08-04\n",
      "INFO:root:Got 20 tweets for monero%20since%3A2016-07-31%20until%3A2016-08-01.\n",
      "INFO:root:Got 20 tweets (20 new).\n",
      "INFO:root:Got 16 tweets for monero%20since%3A2016-08-01%20until%3A2016-08-02.\n",
      "INFO:root:Got 36 tweets (16 new).\n",
      "INFO:root:Got 23 tweets for monero%20since%3A2016-08-02%20until%3A2016-08-03.\n",
      "INFO:root:Got 59 tweets (23 new).\n",
      "INFO:root:Got 30 tweets for monero%20since%3A2016-08-03%20until%3A2016-08-04.\n",
      "INFO:root:Got 89 tweets (30 new).\n"
     ]
    },
    {
     "name": "stdout",
     "output_type": "stream",
     "text": [
      "2016-08-03 to 2016-08-07\n"
     ]
    },
    {
     "name": "stderr",
     "output_type": "stream",
     "text": [
      "INFO:root:Querying monero since:2016-08-03 until:2016-08-04\n",
      "INFO:root:Querying monero since:2016-08-05 until:2016-08-06\n",
      "INFO:root:Querying monero since:2016-08-06 until:2016-08-07\n",
      "INFO:root:Querying monero since:2016-08-04 until:2016-08-05\n",
      "INFO:root:Got 16 tweets for monero%20since%3A2016-08-04%20until%3A2016-08-05.\n",
      "INFO:root:Got 16 tweets (16 new).\n",
      "INFO:root:Got 30 tweets for monero%20since%3A2016-08-03%20until%3A2016-08-04.\n",
      "INFO:root:Got 46 tweets (30 new).\n",
      "INFO:root:Got 21 tweets for monero%20since%3A2016-08-06%20until%3A2016-08-07.\n",
      "INFO:root:Got 67 tweets (21 new).\n",
      "INFO:root:Got 18 tweets for monero%20since%3A2016-08-05%20until%3A2016-08-06.\n",
      "INFO:root:Got 85 tweets (18 new).\n"
     ]
    },
    {
     "name": "stdout",
     "output_type": "stream",
     "text": [
      "2017-01-27 to 2017-01-31\n"
     ]
    },
    {
     "name": "stderr",
     "output_type": "stream",
     "text": [
      "INFO:root:Querying monero since:2017-01-27 until:2017-01-28\n",
      "INFO:root:Querying monero since:2017-01-28 until:2017-01-29\n",
      "INFO:root:Querying monero since:2017-01-29 until:2017-01-30\n",
      "INFO:root:Querying monero since:2017-01-30 until:2017-01-31\n",
      "INFO:root:Got 24 tweets for monero%20since%3A2017-01-27%20until%3A2017-01-28.\n",
      "INFO:root:Got 24 tweets (24 new).\n",
      "INFO:root:Got 24 tweets for monero%20since%3A2017-01-29%20until%3A2017-01-30.\n",
      "INFO:root:Got 48 tweets (24 new).\n",
      "INFO:root:Got 27 tweets for monero%20since%3A2017-01-30%20until%3A2017-01-31.\n",
      "INFO:root:Got 75 tweets (27 new).\n",
      "INFO:root:Got 35 tweets for monero%20since%3A2017-01-28%20until%3A2017-01-29.\n",
      "INFO:root:Got 110 tweets (35 new).\n"
     ]
    },
    {
     "name": "stdout",
     "output_type": "stream",
     "text": [
      "2017-02-11 to 2017-02-15\n"
     ]
    },
    {
     "name": "stderr",
     "output_type": "stream",
     "text": [
      "INFO:root:Querying monero since:2017-02-11 until:2017-02-12\n",
      "INFO:root:Querying monero since:2017-02-12 until:2017-02-13\n",
      "INFO:root:Querying monero since:2017-02-13 until:2017-02-14\n",
      "INFO:root:Querying monero since:2017-02-14 until:2017-02-15\n",
      "INFO:root:Got 5 tweets for monero%20since%3A2017-02-13%20until%3A2017-02-14.\n",
      "INFO:root:Got 5 tweets (5 new).\n",
      "INFO:root:Got 13 tweets for monero%20since%3A2017-02-14%20until%3A2017-02-15.\n",
      "INFO:root:Got 18 tweets (13 new).\n",
      "INFO:root:Got 17 tweets for monero%20since%3A2017-02-12%20until%3A2017-02-13.\n",
      "INFO:root:Got 35 tweets (17 new).\n",
      "INFO:root:Got 21 tweets for monero%20since%3A2017-02-11%20until%3A2017-02-12.\n",
      "INFO:root:Got 56 tweets (21 new).\n"
     ]
    },
    {
     "name": "stdout",
     "output_type": "stream",
     "text": [
      "2017-02-19 to 2017-02-23\n"
     ]
    },
    {
     "name": "stderr",
     "output_type": "stream",
     "text": [
      "INFO:root:Querying monero since:2017-02-21 until:2017-02-22\n",
      "INFO:root:Querying monero since:2017-02-19 until:2017-02-20\n",
      "INFO:root:Querying monero since:2017-02-20 until:2017-02-21\n",
      "INFO:root:Querying monero since:2017-02-22 until:2017-02-23\n",
      "INFO:root:Got 10 tweets for monero%20since%3A2017-02-21%20until%3A2017-02-22.\n",
      "INFO:root:Got 10 tweets (10 new).\n",
      "INFO:root:Got 24 tweets for monero%20since%3A2017-02-22%20until%3A2017-02-23.\n",
      "INFO:root:Got 34 tweets (24 new).\n",
      "INFO:root:Got 23 tweets for monero%20since%3A2017-02-20%20until%3A2017-02-21.\n",
      "INFO:root:Got 57 tweets (23 new).\n",
      "INFO:root:Got 22 tweets for monero%20since%3A2017-02-19%20until%3A2017-02-20.\n",
      "INFO:root:Got 79 tweets (22 new).\n"
     ]
    },
    {
     "name": "stdout",
     "output_type": "stream",
     "text": [
      "2017-03-25 to 2017-03-29\n"
     ]
    },
    {
     "name": "stderr",
     "output_type": "stream",
     "text": [
      "INFO:root:Querying monero since:2017-03-25 until:2017-03-26\n",
      "INFO:root:Querying monero since:2017-03-26 until:2017-03-27\n",
      "INFO:root:Querying monero since:2017-03-27 until:2017-03-28\n",
      "INFO:root:Querying monero since:2017-03-28 until:2017-03-29\n",
      "INFO:root:Got 24 tweets for monero%20since%3A2017-03-28%20until%3A2017-03-29.\n",
      "INFO:root:Got 24 tweets (24 new).\n",
      "INFO:root:Got 29 tweets for monero%20since%3A2017-03-25%20until%3A2017-03-26.\n",
      "INFO:root:Got 53 tweets (29 new).\n",
      "INFO:root:Got 31 tweets for monero%20since%3A2017-03-27%20until%3A2017-03-28.\n",
      "INFO:root:Got 84 tweets (31 new).\n",
      "INFO:root:Got 40 tweets for monero%20since%3A2017-03-26%20until%3A2017-03-27.\n",
      "INFO:root:Got 124 tweets (40 new).\n"
     ]
    },
    {
     "name": "stdout",
     "output_type": "stream",
     "text": [
      "2017-04-16 to 2017-04-20\n"
     ]
    },
    {
     "name": "stderr",
     "output_type": "stream",
     "text": [
      "INFO:root:Querying monero since:2017-04-16 until:2017-04-17\n",
      "INFO:root:Querying monero since:2017-04-18 until:2017-04-19\n",
      "INFO:root:Querying monero since:2017-04-19 until:2017-04-20\n",
      "INFO:root:Querying monero since:2017-04-17 until:2017-04-18\n",
      "INFO:root:Got 35 tweets for monero%20since%3A2017-04-17%20until%3A2017-04-18.\n",
      "INFO:root:Got 35 tweets (35 new).\n",
      "INFO:root:Got 40 tweets for monero%20since%3A2017-04-19%20until%3A2017-04-20.\n",
      "INFO:root:Got 75 tweets (40 new).\n",
      "INFO:root:Got 40 tweets for monero%20since%3A2017-04-16%20until%3A2017-04-17.\n",
      "INFO:root:Got 115 tweets (40 new).\n",
      "INFO:root:Got 37 tweets for monero%20since%3A2017-04-18%20until%3A2017-04-19.\n",
      "INFO:root:Got 152 tweets (37 new).\n"
     ]
    },
    {
     "name": "stdout",
     "output_type": "stream",
     "text": [
      "2017-11-26 to 2017-11-30\n"
     ]
    },
    {
     "name": "stderr",
     "output_type": "stream",
     "text": [
      "INFO:root:Querying monero since:2017-11-27 until:2017-11-28\n",
      "INFO:root:Querying monero since:2017-11-28 until:2017-11-29\n",
      "INFO:root:Querying monero since:2017-11-29 until:2017-11-30\n",
      "INFO:root:Querying monero since:2017-11-26 until:2017-11-27\n",
      "INFO:root:Got 47 tweets for monero%20since%3A2017-11-27%20until%3A2017-11-28.\n",
      "INFO:root:Got 47 tweets (47 new).\n",
      "INFO:root:Got 54 tweets for monero%20since%3A2017-11-26%20until%3A2017-11-27.\n",
      "INFO:root:Got 101 tweets (54 new).\n",
      "INFO:root:Got 61 tweets for monero%20since%3A2017-11-29%20until%3A2017-11-30.\n",
      "INFO:root:Got 162 tweets (61 new).\n",
      "INFO:root:Got 58 tweets for monero%20since%3A2017-11-28%20until%3A2017-11-29.\n",
      "INFO:root:Got 220 tweets (58 new).\n"
     ]
    },
    {
     "name": "stdout",
     "output_type": "stream",
     "text": [
      "2017-12-21 to 2017-12-25\n"
     ]
    },
    {
     "name": "stderr",
     "output_type": "stream",
     "text": [
      "INFO:root:Querying monero since:2017-12-21 until:2017-12-22\n",
      "INFO:root:Querying monero since:2017-12-22 until:2017-12-23\n",
      "INFO:root:Querying monero since:2017-12-23 until:2017-12-24\n",
      "INFO:root:Querying monero since:2017-12-24 until:2017-12-25\n",
      "INFO:root:Got 64 tweets for monero%20since%3A2017-12-21%20until%3A2017-12-22.\n",
      "INFO:root:Got 64 tweets (64 new).\n",
      "INFO:root:Got 59 tweets for monero%20since%3A2017-12-24%20until%3A2017-12-25.\n",
      "INFO:root:Got 123 tweets (59 new).\n",
      "INFO:root:Got 59 tweets for monero%20since%3A2017-12-22%20until%3A2017-12-23.\n",
      "INFO:root:Got 182 tweets (59 new).\n",
      "INFO:root:Got 78 tweets for monero%20since%3A2017-12-23%20until%3A2017-12-24.\n",
      "INFO:root:Got 260 tweets (78 new).\n"
     ]
    },
    {
     "name": "stdout",
     "output_type": "stream",
     "text": [
      "2018-05-16 to 2018-05-20\n"
     ]
    },
    {
     "name": "stderr",
     "output_type": "stream",
     "text": [
      "INFO:root:Querying monero since:2018-05-18 until:2018-05-19\n",
      "INFO:root:Querying monero since:2018-05-16 until:2018-05-17\n",
      "INFO:root:Querying monero since:2018-05-17 until:2018-05-18\n",
      "INFO:root:Querying monero since:2018-05-19 until:2018-05-20\n",
      "INFO:root:Got 47 tweets for monero%20since%3A2018-05-18%20until%3A2018-05-19.\n",
      "INFO:root:Got 47 tweets (47 new).\n",
      "INFO:root:Got 55 tweets for monero%20since%3A2018-05-17%20until%3A2018-05-18.\n",
      "INFO:root:Got 102 tweets (55 new).\n",
      "INFO:root:Got 54 tweets for monero%20since%3A2018-05-19%20until%3A2018-05-20.\n",
      "INFO:root:Got 156 tweets (54 new).\n",
      "INFO:root:Got 70 tweets for monero%20since%3A2018-05-16%20until%3A2018-05-17.\n",
      "INFO:root:Got 226 tweets (70 new).\n"
     ]
    },
    {
     "name": "stdout",
     "output_type": "stream",
     "text": [
      "stellar\n",
      "2014-12-01 to 2014-12-05\n"
     ]
    },
    {
     "name": "stderr",
     "output_type": "stream",
     "text": [
      "INFO:root:Querying stellar since:2014-12-04 until:2014-12-05\n",
      "INFO:root:Querying stellar since:2014-12-03 until:2014-12-04\n",
      "INFO:root:Querying stellar since:2014-12-01 until:2014-12-02\n",
      "INFO:root:Querying stellar since:2014-12-02 until:2014-12-03\n",
      "ERROR:root:Failed to parse JSON \"Expecting value: line 1 column 1 (char 0)\" while requesting \"https://twitter.com/i/search/timeline?vertical=default&include_available_features=1&include_entities=1&reset_error_state=false&src=typd&max_position=TWEET-539207281561174016-539501920319447040-BD1UO2FFu9QAAAAAAAAVfAAAAAcAAABWAAAAAAAAAAAAAAAAAAAAAAAAAAAAAAAAAAAAAAAAAAAAAAAAAAAAAAAAAAAAAAAAAAAAAAAAAAAAAAAAAAAAAAAAAAAAAAAAAAAAAAAAAAAAAAAAAAAAAAAAAAAAAAAAAAAAAAAAAAAAAAAAAAAAAAAAAAAAAAAAAAAAAAAAAAAAAAAAAAAAAAAAAAAAAAAAAAAAAAAAAAAAAAAAAAAAAAAAAAAAAAAAAAAAAAAAAAAAAAAAAAAAAAAAAAAAAAAAAAAAAAAAAAAAAAAAAAAAAAAAAAAAAAAAAAAAAAAAAAAAAAAAAAAAAAAAAAAAAAAAAAAAAAAAAAAAAAAAAAAAAAAAAAAAAAAAAAAAAAAAAAAAAAAAAAAAAAAAAAAAAAAAAAAAAAAAAAAAAAAAAAAAAAAAAAAAAAAAAAAAAAAAAAAAAAAAAAAAAAAAAAAAAAAAAAAAAAAAAAAAAAAAAAAAAAAAAAAAAAAAAAAAAAAAAAAAAAAAAAAAAAAAAAAAAAAAAAAAAAAAAAAAAAAAAAAAAAAAAAAAAAAAAAAAAAAAAAAAAAAAAAAAAAAAAAAAAAAAAAAAAAAAAAAAAAAAAAAAAAAAAAAAAAAAAAAAAAAAAAAAAAAAAAAAAAAAAAAAAAAAAAAAAAAAAAAAAAAAAAAAAAAAAAAAAAAAAAAAAAAAAAAAAAAAAAAAAAAAAAAAAAAAAAAAAAAAAAAAAAAAAAAAAAAAAAAAAAAAAAAAAAAAAAAAAAAAAAAAAAAAAAAAAAAAAAAAAAAAAAAAAAAAAAAAAAAAAAAAAAAAAAAAAAAAAAAAAAAAAAAAAAAAAAAAAAAAAAAAAAAAAAAAAAAAAAAAAAAAAAAAAAAAAAAAAAAAAAAAAAAAAAAAAAAAAAAAAAAAAAAAAAAAAAAAAAAAAAAAAA==-T-0-1&q=stellar%20since%3A2014-12-01%20until%3A2014-12-02&l=\".\n",
      "Traceback (most recent call last):\n",
      "  File \"/home/shresthanikesh23/jupyter/CryptoTraderRemote/CryptoTrader/data_utils/twitter_data/twitterscraper/query.py\", line 54, in query_single_page\n",
      "    json_resp = json.loads(response.text)\n",
      "  File \"/usr/lib/python3.5/json/__init__.py\", line 319, in loads\n",
      "    return _default_decoder.decode(s)\n",
      "  File \"/usr/lib/python3.5/json/decoder.py\", line 339, in decode\n",
      "    obj, end = self.raw_decode(s, idx=_w(s, 0).end())\n",
      "  File \"/usr/lib/python3.5/json/decoder.py\", line 357, in raw_decode\n",
      "    raise JSONDecodeError(\"Expecting value\", s, err.value) from None\n",
      "json.decoder.JSONDecodeError: Expecting value: line 1 column 1 (char 0)\n",
      "INFO:root:Retrying... (Attempts left: 10)\n",
      "INFO:root:Got 59 tweets for stellar%20since%3A2014-12-01%20until%3A2014-12-02.\n",
      "INFO:root:Got 59 tweets (59 new).\n",
      "INFO:root:Got 62 tweets for stellar%20since%3A2014-12-03%20until%3A2014-12-04.\n",
      "INFO:root:Got 121 tweets (62 new).\n",
      "INFO:root:Got 62 tweets for stellar%20since%3A2014-12-02%20until%3A2014-12-03.\n",
      "INFO:root:Got 183 tweets (62 new).\n",
      "INFO:root:Got 83 tweets for stellar%20since%3A2014-12-04%20until%3A2014-12-05.\n",
      "INFO:root:Got 266 tweets (83 new).\n"
     ]
    },
    {
     "name": "stdout",
     "output_type": "stream",
     "text": [
      "2015-07-21 to 2015-07-25\n"
     ]
    },
    {
     "name": "stderr",
     "output_type": "stream",
     "text": [
      "INFO:root:Querying stellar since:2015-07-21 until:2015-07-22\n",
      "INFO:root:Querying stellar since:2015-07-22 until:2015-07-23\n",
      "INFO:root:Querying stellar since:2015-07-23 until:2015-07-24\n",
      "INFO:root:Querying stellar since:2015-07-24 until:2015-07-25\n",
      "INFO:root:Got 0 tweets for stellar%20since%3A2015-07-22%20until%3A2015-07-23.\n",
      "INFO:root:Got 0 tweets (0 new).\n",
      "INFO:root:Got 81 tweets for stellar%20since%3A2015-07-24%20until%3A2015-07-25.\n",
      "INFO:root:Got 81 tweets (81 new).\n",
      "INFO:root:Got 99 tweets for stellar%20since%3A2015-07-23%20until%3A2015-07-24.\n",
      "INFO:root:Got 180 tweets (99 new).\n",
      "INFO:root:Got 106 tweets for stellar%20since%3A2015-07-21%20until%3A2015-07-22.\n",
      "INFO:root:Got 286 tweets (106 new).\n"
     ]
    },
    {
     "name": "stdout",
     "output_type": "stream",
     "text": [
      "2016-02-28 to 2016-03-03\n"
     ]
    },
    {
     "name": "stderr",
     "output_type": "stream",
     "text": [
      "INFO:root:Querying stellar since:2016-03-01 until:2016-03-02\n",
      "INFO:root:Querying stellar since:2016-02-28 until:2016-02-29\n",
      "INFO:root:Querying stellar since:2016-03-02 until:2016-03-03\n",
      "INFO:root:Querying stellar since:2016-02-29 until:2016-03-01\n",
      "INFO:root:Got 80 tweets for stellar%20since%3A2016-03-01%20until%3A2016-03-02.\n",
      "INFO:root:Got 80 tweets (80 new).\n",
      "INFO:root:Got 68 tweets for stellar%20since%3A2016-02-29%20until%3A2016-03-01.\n",
      "INFO:root:Got 148 tweets (68 new).\n",
      "INFO:root:Got 80 tweets for stellar%20since%3A2016-02-28%20until%3A2016-02-29.\n",
      "INFO:root:Got 228 tweets (80 new).\n",
      "INFO:root:Got 80 tweets for stellar%20since%3A2016-03-02%20until%3A2016-03-03.\n",
      "INFO:root:Got 308 tweets (80 new).\n"
     ]
    },
    {
     "name": "stdout",
     "output_type": "stream",
     "text": [
      "2017-03-12 to 2017-03-16\n"
     ]
    },
    {
     "name": "stderr",
     "output_type": "stream",
     "text": [
      "INFO:root:Querying stellar since:2017-03-12 until:2017-03-13\n",
      "INFO:root:Querying stellar since:2017-03-14 until:2017-03-15\n",
      "INFO:root:Querying stellar since:2017-03-15 until:2017-03-16\n",
      "INFO:root:Querying stellar since:2017-03-13 until:2017-03-14\n",
      "INFO:root:Got 80 tweets for stellar%20since%3A2017-03-14%20until%3A2017-03-15.\n",
      "INFO:root:Got 80 tweets (80 new).\n",
      "INFO:root:Got 80 tweets for stellar%20since%3A2017-03-13%20until%3A2017-03-14.\n",
      "INFO:root:Got 160 tweets (80 new).\n",
      "INFO:root:Got 83 tweets for stellar%20since%3A2017-03-15%20until%3A2017-03-16.\n",
      "INFO:root:Got 243 tweets (83 new).\n",
      "INFO:root:Got 81 tweets for stellar%20since%3A2017-03-12%20until%3A2017-03-13.\n",
      "INFO:root:Got 324 tweets (81 new).\n"
     ]
    },
    {
     "name": "stdout",
     "output_type": "stream",
     "text": [
      "2017-04-15 to 2017-04-19\n"
     ]
    },
    {
     "name": "stderr",
     "output_type": "stream",
     "text": [
      "INFO:root:Querying stellar since:2017-04-15 until:2017-04-16\n",
      "INFO:root:Querying stellar since:2017-04-18 until:2017-04-19\n",
      "INFO:root:Querying stellar since:2017-04-17 until:2017-04-18\n",
      "INFO:root:Querying stellar since:2017-04-16 until:2017-04-17\n",
      "INFO:root:Got 77 tweets for stellar%20since%3A2017-04-18%20until%3A2017-04-19.\n",
      "INFO:root:Got 77 tweets (77 new).\n",
      "INFO:root:Got 64 tweets for stellar%20since%3A2017-04-17%20until%3A2017-04-18.\n",
      "INFO:root:Got 141 tweets (64 new).\n",
      "INFO:root:Got 81 tweets for stellar%20since%3A2017-04-15%20until%3A2017-04-16.\n",
      "INFO:root:Got 222 tweets (81 new).\n",
      "INFO:root:Got 91 tweets for stellar%20since%3A2017-04-16%20until%3A2017-04-17.\n",
      "INFO:root:Got 313 tweets (91 new).\n"
     ]
    },
    {
     "name": "stdout",
     "output_type": "stream",
     "text": [
      "2017-04-20 to 2017-04-24\n"
     ]
    },
    {
     "name": "stderr",
     "output_type": "stream",
     "text": [
      "INFO:root:Querying stellar since:2017-04-21 until:2017-04-22\n",
      "INFO:root:Querying stellar since:2017-04-22 until:2017-04-23\n",
      "INFO:root:Querying stellar since:2017-04-23 until:2017-04-24\n",
      "INFO:root:Querying stellar since:2017-04-20 until:2017-04-21\n",
      "ERROR:root:Failed to parse JSON \"Expecting value: line 1 column 1 (char 0)\" while requesting \"https://twitter.com/i/search/timeline?vertical=default&include_available_features=1&include_entities=1&reset_error_state=false&src=typd&max_position=TWEET-855213781269585921-855556943120871429-BD1UO2FFu9QAAAAAAAAVfAAAAAcAAABWAAAAAAAAAAAAAAAAAAAAAAAAAAAAAAAAAAAAAAAAAAAAAAAAAAAAAAAAAAAAAAAAAAAAAAAAAAAAAAAAAAAAAAAAAAAAAAAAAAAAAAAAAAAAAAAAAAAAAAAAAAAAAAAAAAAAAAAAAAAAAAAAAAAAAAAAAAAAAAAAAAAAAAAAAAAAAAAAAAAAAAAAAAAAAAAAAAAAAAAAAAAAAAAAAAAAAAAAAAAAAAAAAAAAAAAAAAAAAAAAAAAAAAAAAAAAAAAAAAAAAAAAAAAAAAAAAAAAAAAAAAAAAAAAAAAAAAAAAAAAAAAAAAAAAAAAAAAAAAAAAAAAAAAAAAAAAAAAAAAAAAAAAAAAAAAAAAAAAAAAAAAAAAAAAAAAAAAAAAAAAAAAAAAAAAAAAAAAAAAAAAAAAAAAAAAAAAAAAAAAAAAAAAAAAAAAAAAAAAAAAAAAAAAAAAAAAAAAAAAAAAAAAAAAAAAAAAAAAAAAAAAAAAAAAAAAAAAAAAAAAAAAAAAAAAAAAAAAAAAAAAAAAAAAAAAAAAAAAAAAAAAAAAAAAAAAAAAAAAAAAAAAAAAAAAAAAAAAAAAAAAAAAAAAAAAAAAAAAAAAAAAAAAAAAAAAAAAAAAAAAAAAAAAAAAAAAAAAAAAAAAAAAAAAAAAAAAAAAAAAAAAAAAAAAAAAAAAAAAAAAAAAAAAAAAAAAAAAAAAAAAAAAAAAAAAAAAAAAAAAAAAAAAAAAAAAAAAAAAAAAAAAAAAAAAAAAAAAAAAAAAAAAAAAAAAAAAAAAAAAAAAAAAAAAAAAAAAAAAAAAAAAAAAAAAAAAAAAAAAAAAAAAAAAAAAAAAAAAAAAAAAAAAAAAAAAAAAAAAAAAAAAAAAAAAAAAAAAAAAAAAAAAAAAAAAAAAAAAAAAAAAAAAAAAAAAAAAAAA==-T-0-1&q=stellar%20since%3A2017-04-21%20until%3A2017-04-22&l=\".\n",
      "Traceback (most recent call last):\n",
      "  File \"/home/shresthanikesh23/jupyter/CryptoTraderRemote/CryptoTrader/data_utils/twitter_data/twitterscraper/query.py\", line 54, in query_single_page\n",
      "    json_resp = json.loads(response.text)\n",
      "  File \"/usr/lib/python3.5/json/__init__.py\", line 319, in loads\n",
      "    return _default_decoder.decode(s)\n",
      "  File \"/usr/lib/python3.5/json/decoder.py\", line 339, in decode\n",
      "    obj, end = self.raw_decode(s, idx=_w(s, 0).end())\n",
      "  File \"/usr/lib/python3.5/json/decoder.py\", line 357, in raw_decode\n",
      "    raise JSONDecodeError(\"Expecting value\", s, err.value) from None\n",
      "json.decoder.JSONDecodeError: Expecting value: line 1 column 1 (char 0)\n",
      "INFO:root:Retrying... (Attempts left: 10)\n",
      "INFO:root:Got 80 tweets for stellar%20since%3A2017-04-22%20until%3A2017-04-23.\n",
      "INFO:root:Got 80 tweets (80 new).\n",
      "INFO:root:Got 67 tweets for stellar%20since%3A2017-04-23%20until%3A2017-04-24.\n",
      "INFO:root:Got 147 tweets (67 new).\n",
      "INFO:root:Got 79 tweets for stellar%20since%3A2017-04-21%20until%3A2017-04-22.\n",
      "INFO:root:Got 226 tweets (79 new).\n",
      "INFO:root:Got 80 tweets for stellar%20since%3A2017-04-20%20until%3A2017-04-21.\n",
      "INFO:root:Got 306 tweets (80 new).\n"
     ]
    },
    {
     "name": "stdout",
     "output_type": "stream",
     "text": [
      "2017-05-11 to 2017-05-15\n"
     ]
    },
    {
     "name": "stderr",
     "output_type": "stream",
     "text": [
      "INFO:root:Querying stellar since:2017-05-12 until:2017-05-13\n",
      "INFO:root:Querying stellar since:2017-05-13 until:2017-05-14\n",
      "INFO:root:Querying stellar since:2017-05-11 until:2017-05-12\n",
      "INFO:root:Querying stellar since:2017-05-14 until:2017-05-15\n",
      "INFO:root:Got 80 tweets for stellar%20since%3A2017-05-13%20until%3A2017-05-14.\n",
      "INFO:root:Got 80 tweets (80 new).\n",
      "INFO:root:Got 79 tweets for stellar%20since%3A2017-05-14%20until%3A2017-05-15.\n",
      "INFO:root:Got 159 tweets (79 new).\n",
      "INFO:root:Got 89 tweets for stellar%20since%3A2017-05-11%20until%3A2017-05-12.\n",
      "INFO:root:Got 248 tweets (89 new).\n",
      "INFO:root:Got 91 tweets for stellar%20since%3A2017-05-12%20until%3A2017-05-13.\n",
      "INFO:root:Got 339 tweets (91 new).\n"
     ]
    },
    {
     "name": "stdout",
     "output_type": "stream",
     "text": [
      "2017-06-22 to 2017-06-26\n"
     ]
    },
    {
     "name": "stderr",
     "output_type": "stream",
     "text": [
      "INFO:root:Querying stellar since:2017-06-24 until:2017-06-25\n",
      "INFO:root:Querying stellar since:2017-06-23 until:2017-06-24\n",
      "INFO:root:Querying stellar since:2017-06-22 until:2017-06-23\n",
      "INFO:root:Querying stellar since:2017-06-25 until:2017-06-26\n",
      "INFO:root:Got 74 tweets for stellar%20since%3A2017-06-23%20until%3A2017-06-24.\n",
      "INFO:root:Got 74 tweets (74 new).\n",
      "INFO:root:Got 79 tweets for stellar%20since%3A2017-06-25%20until%3A2017-06-26.\n",
      "INFO:root:Got 153 tweets (79 new).\n",
      "INFO:root:Got 84 tweets for stellar%20since%3A2017-06-22%20until%3A2017-06-23.\n",
      "INFO:root:Got 237 tweets (84 new).\n",
      "INFO:root:Got 82 tweets for stellar%20since%3A2017-06-24%20until%3A2017-06-25.\n",
      "INFO:root:Got 319 tweets (82 new).\n"
     ]
    },
    {
     "name": "stdout",
     "output_type": "stream",
     "text": [
      "2017-08-04 to 2017-08-08\n"
     ]
    },
    {
     "name": "stderr",
     "output_type": "stream",
     "text": [
      "INFO:root:Querying stellar since:2017-08-05 until:2017-08-06\n",
      "INFO:root:Querying stellar since:2017-08-04 until:2017-08-05\n",
      "INFO:root:Querying stellar since:2017-08-06 until:2017-08-07\n",
      "INFO:root:Querying stellar since:2017-08-07 until:2017-08-08\n",
      "INFO:root:Got 79 tweets for stellar%20since%3A2017-08-04%20until%3A2017-08-05.\n",
      "INFO:root:Got 79 tweets (79 new).\n",
      "INFO:root:Got 72 tweets for stellar%20since%3A2017-08-07%20until%3A2017-08-08.\n",
      "INFO:root:Got 151 tweets (72 new).\n",
      "INFO:root:Got 69 tweets for stellar%20since%3A2017-08-05%20until%3A2017-08-06.\n",
      "INFO:root:Got 220 tweets (69 new).\n",
      "INFO:root:Got 80 tweets for stellar%20since%3A2017-08-06%20until%3A2017-08-07.\n",
      "INFO:root:Got 300 tweets (80 new).\n"
     ]
    },
    {
     "name": "stdout",
     "output_type": "stream",
     "text": [
      "2017-11-16 to 2017-11-20\n"
     ]
    },
    {
     "name": "stderr",
     "output_type": "stream",
     "text": [
      "INFO:root:Querying stellar since:2017-11-17 until:2017-11-18\n",
      "INFO:root:Querying stellar since:2017-11-16 until:2017-11-17\n",
      "INFO:root:Querying stellar since:2017-11-18 until:2017-11-19\n",
      "INFO:root:Querying stellar since:2017-11-19 until:2017-11-20\n",
      "INFO:root:Got 75 tweets for stellar%20since%3A2017-11-19%20until%3A2017-11-20.\n",
      "INFO:root:Got 75 tweets (75 new).\n",
      "INFO:root:Got 80 tweets for stellar%20since%3A2017-11-16%20until%3A2017-11-17.\n",
      "INFO:root:Got 155 tweets (80 new).\n",
      "INFO:root:Got 80 tweets for stellar%20since%3A2017-11-18%20until%3A2017-11-19.\n",
      "INFO:root:Got 235 tweets (80 new).\n",
      "INFO:root:Got 83 tweets for stellar%20since%3A2017-11-17%20until%3A2017-11-18.\n",
      "INFO:root:Got 318 tweets (83 new).\n"
     ]
    },
    {
     "name": "stdout",
     "output_type": "stream",
     "text": [
      "2018-05-04 to 2018-05-08\n"
     ]
    },
    {
     "name": "stderr",
     "output_type": "stream",
     "text": [
      "INFO:root:Querying stellar since:2018-05-07 until:2018-05-08\n",
      "INFO:root:Querying stellar since:2018-05-04 until:2018-05-05\n",
      "INFO:root:Querying stellar since:2018-05-05 until:2018-05-06\n",
      "INFO:root:Querying stellar since:2018-05-06 until:2018-05-07\n",
      "INFO:root:Got 84 tweets for stellar%20since%3A2018-05-04%20until%3A2018-05-05.\n",
      "INFO:root:Got 84 tweets (84 new).\n",
      "INFO:root:Got 100 tweets for stellar%20since%3A2018-05-07%20until%3A2018-05-08.\n",
      "INFO:root:Got 184 tweets (100 new).\n",
      "INFO:root:Got 108 tweets for stellar%20since%3A2018-05-06%20until%3A2018-05-07.\n",
      "INFO:root:Got 292 tweets (108 new).\n",
      "INFO:root:Got 102 tweets for stellar%20since%3A2018-05-05%20until%3A2018-05-06.\n",
      "INFO:root:Got 394 tweets (102 new).\n"
     ]
    },
    {
     "name": "stdout",
     "output_type": "stream",
     "text": [
      "2018-05-10 to 2018-05-14\n"
     ]
    },
    {
     "name": "stderr",
     "output_type": "stream",
     "text": [
      "INFO:root:Querying stellar since:2018-05-10 until:2018-05-11\n",
      "INFO:root:Querying stellar since:2018-05-12 until:2018-05-13\n",
      "INFO:root:Querying stellar since:2018-05-11 until:2018-05-12\n",
      "INFO:root:Querying stellar since:2018-05-13 until:2018-05-14\n",
      "INFO:root:Got 78 tweets for stellar%20since%3A2018-05-13%20until%3A2018-05-14.\n",
      "INFO:root:Got 78 tweets (78 new).\n",
      "INFO:root:Got 92 tweets for stellar%20since%3A2018-05-12%20until%3A2018-05-13.\n",
      "INFO:root:Got 170 tweets (92 new).\n",
      "INFO:root:Got 100 tweets for stellar%20since%3A2018-05-11%20until%3A2018-05-12.\n",
      "INFO:root:Got 270 tweets (100 new).\n",
      "INFO:root:Got 112 tweets for stellar%20since%3A2018-05-10%20until%3A2018-05-11.\n",
      "INFO:root:Got 382 tweets (112 new).\n"
     ]
    },
    {
     "name": "stdout",
     "output_type": "stream",
     "text": [
      "litecoin\n",
      "2015-01-03 to 2015-01-07\n"
     ]
    },
    {
     "name": "stderr",
     "output_type": "stream",
     "text": [
      "INFO:root:Querying litecoin since:2015-01-06 until:2015-01-07\n",
      "INFO:root:Querying litecoin since:2015-01-04 until:2015-01-05\n",
      "INFO:root:Querying litecoin since:2015-01-03 until:2015-01-04\n",
      "INFO:root:Querying litecoin since:2015-01-05 until:2015-01-06\n",
      "ERROR:root:Failed to parse JSON \"Expecting value: line 1 column 1 (char 0)\" while requesting \"https://twitter.com/i/search/timeline?vertical=default&include_available_features=1&include_entities=1&reset_error_state=false&src=typd&max_position=TWEET-551318318129610755-551417292722950146&q=litecoin%20since%3A2015-01-03%20until%3A2015-01-04&l=\".\n",
      "Traceback (most recent call last):\n",
      "  File \"/home/shresthanikesh23/jupyter/CryptoTraderRemote/CryptoTrader/data_utils/twitter_data/twitterscraper/query.py\", line 54, in query_single_page\n",
      "    json_resp = json.loads(response.text)\n",
      "  File \"/usr/lib/python3.5/json/__init__.py\", line 319, in loads\n",
      "    return _default_decoder.decode(s)\n",
      "  File \"/usr/lib/python3.5/json/decoder.py\", line 339, in decode\n",
      "    obj, end = self.raw_decode(s, idx=_w(s, 0).end())\n",
      "  File \"/usr/lib/python3.5/json/decoder.py\", line 357, in raw_decode\n",
      "    raise JSONDecodeError(\"Expecting value\", s, err.value) from None\n",
      "json.decoder.JSONDecodeError: Expecting value: line 1 column 1 (char 0)\n",
      "INFO:root:Retrying... (Attempts left: 10)\n",
      "ERROR:root:Failed to parse JSON \"Expecting value: line 1 column 1 (char 0)\" while requesting \"https://twitter.com/i/search/timeline?vertical=default&include_available_features=1&include_entities=1&reset_error_state=false&src=typd&max_position=TWEET-551987170932572161-552182305213923328&q=litecoin%20since%3A2015-01-05%20until%3A2015-01-06&l=\".\n",
      "Traceback (most recent call last):\n",
      "  File \"/home/shresthanikesh23/jupyter/CryptoTraderRemote/CryptoTrader/data_utils/twitter_data/twitterscraper/query.py\", line 54, in query_single_page\n",
      "    json_resp = json.loads(response.text)\n",
      "  File \"/usr/lib/python3.5/json/__init__.py\", line 319, in loads\n",
      "    return _default_decoder.decode(s)\n",
      "  File \"/usr/lib/python3.5/json/decoder.py\", line 339, in decode\n",
      "    obj, end = self.raw_decode(s, idx=_w(s, 0).end())\n",
      "  File \"/usr/lib/python3.5/json/decoder.py\", line 357, in raw_decode\n",
      "    raise JSONDecodeError(\"Expecting value\", s, err.value) from None\n",
      "json.decoder.JSONDecodeError: Expecting value: line 1 column 1 (char 0)\n",
      "INFO:root:Retrying... (Attempts left: 10)\n",
      "INFO:root:Got 40 tweets for litecoin%20since%3A2015-01-06%20until%3A2015-01-07.\n",
      "INFO:root:Got 40 tweets (40 new).\n",
      "INFO:root:Got 46 tweets for litecoin%20since%3A2015-01-04%20until%3A2015-01-05.\n",
      "INFO:root:Got 86 tweets (46 new).\n",
      "INFO:root:Got 44 tweets for litecoin%20since%3A2015-01-05%20until%3A2015-01-06.\n",
      "INFO:root:Got 130 tweets (44 new).\n",
      "INFO:root:Got 56 tweets for litecoin%20since%3A2015-01-03%20until%3A2015-01-04.\n",
      "INFO:root:Got 186 tweets (56 new).\n"
     ]
    },
    {
     "name": "stdout",
     "output_type": "stream",
     "text": [
      "2015-04-04 to 2015-04-08\n"
     ]
    },
    {
     "name": "stderr",
     "output_type": "stream",
     "text": [
      "INFO:root:Querying litecoin since:2015-04-05 until:2015-04-06\n",
      "INFO:root:Querying litecoin since:2015-04-06 until:2015-04-07\n",
      "INFO:root:Querying litecoin since:2015-04-04 until:2015-04-05\n",
      "INFO:root:Querying litecoin since:2015-04-07 until:2015-04-08\n",
      "INFO:root:Got 22 tweets for litecoin%20since%3A2015-04-04%20until%3A2015-04-05.\n",
      "INFO:root:Got 22 tweets (22 new).\n",
      "INFO:root:Got 38 tweets for litecoin%20since%3A2015-04-05%20until%3A2015-04-06.\n",
      "INFO:root:Got 60 tweets (38 new).\n",
      "INFO:root:Got 27 tweets for litecoin%20since%3A2015-04-07%20until%3A2015-04-08.\n",
      "INFO:root:Got 87 tweets (27 new).\n",
      "INFO:root:Got 37 tweets for litecoin%20since%3A2015-04-06%20until%3A2015-04-07.\n",
      "INFO:root:Got 124 tweets (37 new).\n"
     ]
    },
    {
     "name": "stdout",
     "output_type": "stream",
     "text": [
      "2015-06-25 to 2015-06-29\n"
     ]
    },
    {
     "name": "stderr",
     "output_type": "stream",
     "text": [
      "INFO:root:Querying litecoin since:2015-06-27 until:2015-06-28\n",
      "INFO:root:Querying litecoin since:2015-06-25 until:2015-06-26\n",
      "INFO:root:Querying litecoin since:2015-06-26 until:2015-06-27\n",
      "INFO:root:Querying litecoin since:2015-06-28 until:2015-06-29\n",
      "INFO:root:Got 27 tweets for litecoin%20since%3A2015-06-28%20until%3A2015-06-29.\n",
      "INFO:root:Got 27 tweets (27 new).\n",
      "INFO:root:Got 23 tweets for litecoin%20since%3A2015-06-26%20until%3A2015-06-27.\n",
      "INFO:root:Got 50 tweets (23 new).\n",
      "INFO:root:Got 17 tweets for litecoin%20since%3A2015-06-27%20until%3A2015-06-28.\n",
      "INFO:root:Got 67 tweets (17 new).\n",
      "INFO:root:Got 36 tweets for litecoin%20since%3A2015-06-25%20until%3A2015-06-26.\n",
      "INFO:root:Got 103 tweets (36 new).\n"
     ]
    },
    {
     "name": "stdout",
     "output_type": "stream",
     "text": [
      "2015-09-24 to 2015-09-28\n"
     ]
    },
    {
     "name": "stderr",
     "output_type": "stream",
     "text": [
      "INFO:root:Querying litecoin since:2015-09-24 until:2015-09-25\n",
      "INFO:root:Querying litecoin since:2015-09-25 until:2015-09-26\n",
      "INFO:root:Querying litecoin since:2015-09-26 until:2015-09-27\n",
      "INFO:root:Querying litecoin since:2015-09-27 until:2015-09-28\n",
      "INFO:root:Got 35 tweets for litecoin%20since%3A2015-09-26%20until%3A2015-09-27.\n",
      "INFO:root:Got 35 tweets (35 new).\n",
      "INFO:root:Got 33 tweets for litecoin%20since%3A2015-09-27%20until%3A2015-09-28.\n",
      "INFO:root:Got 68 tweets (33 new).\n",
      "INFO:root:Got 28 tweets for litecoin%20since%3A2015-09-24%20until%3A2015-09-25.\n",
      "INFO:root:Got 96 tweets (28 new).\n",
      "INFO:root:Got 37 tweets for litecoin%20since%3A2015-09-25%20until%3A2015-09-26.\n",
      "INFO:root:Got 133 tweets (37 new).\n"
     ]
    },
    {
     "name": "stdout",
     "output_type": "stream",
     "text": [
      "2015-12-30 to 2016-01-03\n"
     ]
    },
    {
     "name": "stderr",
     "output_type": "stream",
     "text": [
      "INFO:root:Querying litecoin since:2015-12-31 until:2016-01-01\n",
      "INFO:root:Querying litecoin since:2015-12-30 until:2015-12-31\n",
      "INFO:root:Querying litecoin since:2016-01-01 until:2016-01-02\n",
      "INFO:root:Querying litecoin since:2016-01-02 until:2016-01-03\n",
      "INFO:root:Got 30 tweets for litecoin%20since%3A2015-12-31%20until%3A2016-01-01.\n",
      "INFO:root:Got 30 tweets (30 new).\n",
      "INFO:root:Got 29 tweets for litecoin%20since%3A2016-01-02%20until%3A2016-01-03.\n",
      "INFO:root:Got 59 tweets (29 new).\n",
      "INFO:root:Got 40 tweets for litecoin%20since%3A2016-01-01%20until%3A2016-01-02.\n",
      "INFO:root:Got 99 tweets (40 new).\n",
      "INFO:root:Got 37 tweets for litecoin%20since%3A2015-12-30%20until%3A2015-12-31.\n",
      "INFO:root:Got 136 tweets (37 new).\n"
     ]
    },
    {
     "name": "stdout",
     "output_type": "stream",
     "text": [
      "2016-07-30 to 2016-08-03\n"
     ]
    },
    {
     "name": "stderr",
     "output_type": "stream",
     "text": [
      "INFO:root:Querying litecoin since:2016-08-01 until:2016-08-02\n",
      "INFO:root:Querying litecoin since:2016-07-31 until:2016-08-01\n",
      "INFO:root:Querying litecoin since:2016-07-30 until:2016-07-31\n",
      "INFO:root:Querying litecoin since:2016-08-02 until:2016-08-03\n",
      "INFO:root:Got 21 tweets for litecoin%20since%3A2016-08-01%20until%3A2016-08-02.\n",
      "INFO:root:Got 21 tweets (21 new).\n",
      "INFO:root:Got 28 tweets for litecoin%20since%3A2016-08-02%20until%3A2016-08-03.\n",
      "INFO:root:Got 49 tweets (28 new).\n",
      "INFO:root:Got 34 tweets for litecoin%20since%3A2016-07-31%20until%3A2016-08-01.\n",
      "INFO:root:Got 83 tweets (34 new).\n",
      "INFO:root:Got 35 tweets for litecoin%20since%3A2016-07-30%20until%3A2016-07-31.\n",
      "INFO:root:Got 118 tweets (35 new).\n"
     ]
    },
    {
     "name": "stdout",
     "output_type": "stream",
     "text": [
      "2016-08-30 to 2016-09-03\n"
     ]
    },
    {
     "name": "stderr",
     "output_type": "stream",
     "text": [
      "INFO:root:Querying litecoin since:2016-08-30 until:2016-08-31\n",
      "INFO:root:Querying litecoin since:2016-09-02 until:2016-09-03\n",
      "INFO:root:Querying litecoin since:2016-08-31 until:2016-09-01\n",
      "INFO:root:Querying litecoin since:2016-09-01 until:2016-09-02\n",
      "INFO:root:Got 35 tweets for litecoin%20since%3A2016-09-01%20until%3A2016-09-02.\n",
      "INFO:root:Got 35 tweets (35 new).\n",
      "INFO:root:Got 36 tweets for litecoin%20since%3A2016-08-30%20until%3A2016-08-31.\n",
      "INFO:root:Got 71 tweets (36 new).\n",
      "INFO:root:Got 40 tweets for litecoin%20since%3A2016-08-31%20until%3A2016-09-01.\n",
      "INFO:root:Got 111 tweets (40 new).\n",
      "INFO:root:Got 36 tweets for litecoin%20since%3A2016-09-02%20until%3A2016-09-03.\n",
      "INFO:root:Got 147 tweets (36 new).\n"
     ]
    },
    {
     "name": "stdout",
     "output_type": "stream",
     "text": [
      "2017-01-21 to 2017-01-25\n"
     ]
    },
    {
     "name": "stderr",
     "output_type": "stream",
     "text": [
      "INFO:root:Querying litecoin since:2017-01-23 until:2017-01-24\n",
      "INFO:root:Querying litecoin since:2017-01-21 until:2017-01-22\n",
      "INFO:root:Querying litecoin since:2017-01-24 until:2017-01-25\n",
      "INFO:root:Querying litecoin since:2017-01-22 until:2017-01-23\n",
      "INFO:root:Got 23 tweets for litecoin%20since%3A2017-01-24%20until%3A2017-01-25.\n",
      "INFO:root:Got 23 tweets (23 new).\n",
      "INFO:root:Got 21 tweets for litecoin%20since%3A2017-01-22%20until%3A2017-01-23.\n",
      "INFO:root:Got 44 tweets (21 new).\n",
      "INFO:root:Got 34 tweets for litecoin%20since%3A2017-01-23%20until%3A2017-01-24.\n",
      "INFO:root:Got 78 tweets (34 new).\n",
      "INFO:root:Got 37 tweets for litecoin%20since%3A2017-01-21%20until%3A2017-01-22.\n",
      "INFO:root:Got 115 tweets (37 new).\n"
     ]
    },
    {
     "name": "stdout",
     "output_type": "stream",
     "text": [
      "2017-09-26 to 2017-09-30\n"
     ]
    },
    {
     "name": "stderr",
     "output_type": "stream",
     "text": [
      "INFO:root:Querying litecoin since:2017-09-26 until:2017-09-27\n",
      "INFO:root:Querying litecoin since:2017-09-27 until:2017-09-28\n",
      "INFO:root:Querying litecoin since:2017-09-29 until:2017-09-30\n",
      "INFO:root:Querying litecoin since:2017-09-28 until:2017-09-29\n",
      "INFO:root:Got 46 tweets for litecoin%20since%3A2017-09-28%20until%3A2017-09-29.\n",
      "INFO:root:Got 46 tweets (46 new).\n",
      "INFO:root:Got 55 tweets for litecoin%20since%3A2017-09-29%20until%3A2017-09-30.\n",
      "INFO:root:Got 101 tweets (55 new).\n",
      "INFO:root:Got 70 tweets for litecoin%20since%3A2017-09-27%20until%3A2017-09-28.\n",
      "INFO:root:Got 171 tweets (70 new).\n",
      "INFO:root:Got 73 tweets for litecoin%20since%3A2017-09-26%20until%3A2017-09-27.\n",
      "INFO:root:Got 244 tweets (73 new).\n"
     ]
    },
    {
     "name": "stdout",
     "output_type": "stream",
     "text": [
      "ethereum\n",
      "2015-11-10 to 2015-11-14\n"
     ]
    },
    {
     "name": "stderr",
     "output_type": "stream",
     "text": [
      "/home/shresthanikesh23/.local/lib/python3.5/site-packages/IPython/core/interactiveshell.py:2909: DtypeWarning: Columns (0) have mixed types. Specify dtype option on import or set low_memory=False.\n",
      "  if self.run_code(code, result):\n",
      "INFO:root:Querying ethereum since:2015-11-11 until:2015-11-12\n",
      "INFO:root:Querying ethereum since:2015-11-12 until:2015-11-13\n",
      "INFO:root:Querying ethereum since:2015-11-13 until:2015-11-14\n",
      "INFO:root:Querying ethereum since:2015-11-10 until:2015-11-11\n",
      "INFO:root:Got 41 tweets for ethereum%20since%3A2015-11-10%20until%3A2015-11-11.\n",
      "INFO:root:Got 41 tweets (41 new).\n",
      "INFO:root:Got 56 tweets for ethereum%20since%3A2015-11-11%20until%3A2015-11-12.\n",
      "INFO:root:Got 97 tweets (56 new).\n",
      "INFO:root:Got 58 tweets for ethereum%20since%3A2015-11-13%20until%3A2015-11-14.\n",
      "INFO:root:Got 155 tweets (58 new).\n",
      "INFO:root:Got 49 tweets for ethereum%20since%3A2015-11-12%20until%3A2015-11-13.\n",
      "INFO:root:Got 204 tweets (49 new).\n"
     ]
    },
    {
     "name": "stdout",
     "output_type": "stream",
     "text": [
      "2015-12-22 to 2015-12-26\n"
     ]
    },
    {
     "name": "stderr",
     "output_type": "stream",
     "text": [
      "INFO:root:Querying ethereum since:2015-12-23 until:2015-12-24\n",
      "INFO:root:Querying ethereum since:2015-12-24 until:2015-12-25\n",
      "INFO:root:Querying ethereum since:2015-12-22 until:2015-12-23\n",
      "INFO:root:Querying ethereum since:2015-12-25 until:2015-12-26\n",
      "INFO:root:Got 0 tweets for ethereum%20since%3A2015-12-25%20until%3A2015-12-26.\n",
      "INFO:root:Got 0 tweets (0 new).\n",
      "INFO:root:Got 22 tweets (22 new).\n",
      "INFO:root:Got 22 tweets for ethereum%20since%3A2015-12-24%20until%3A2015-12-25.\n",
      "INFO:root:Got 22 tweets for ethereum%20since%3A2015-12-22%20until%3A2015-12-23.\n",
      "INFO:root:Got 44 tweets (22 new).\n",
      "INFO:root:Got 37 tweets for ethereum%20since%3A2015-12-23%20until%3A2015-12-24.\n",
      "INFO:root:Got 81 tweets (37 new).\n"
     ]
    },
    {
     "name": "stdout",
     "output_type": "stream",
     "text": [
      "2016-04-06 to 2016-04-10\n"
     ]
    },
    {
     "name": "stderr",
     "output_type": "stream",
     "text": [
      "INFO:root:Querying ethereum since:2016-04-08 until:2016-04-09\n",
      "INFO:root:Querying ethereum since:2016-04-06 until:2016-04-07\n",
      "INFO:root:Querying ethereum since:2016-04-07 until:2016-04-08\n",
      "INFO:root:Querying ethereum since:2016-04-09 until:2016-04-10\n",
      "INFO:root:Got 43 tweets for ethereum%20since%3A2016-04-06%20until%3A2016-04-07.\n",
      "INFO:root:Got 43 tweets (43 new).\n",
      "INFO:root:Got 60 tweets for ethereum%20since%3A2016-04-07%20until%3A2016-04-08.\n",
      "INFO:root:Got 103 tweets (60 new).\n",
      "INFO:root:Got 54 tweets for ethereum%20since%3A2016-04-08%20until%3A2016-04-09.\n",
      "INFO:root:Got 157 tweets (54 new).\n",
      "INFO:root:Got 59 tweets for ethereum%20since%3A2016-04-09%20until%3A2016-04-10.\n",
      "INFO:root:Got 216 tweets (59 new).\n"
     ]
    },
    {
     "name": "stdout",
     "output_type": "stream",
     "text": [
      "2016-04-14 to 2016-04-18\n"
     ]
    },
    {
     "name": "stderr",
     "output_type": "stream",
     "text": [
      "INFO:root:Querying ethereum since:2016-04-17 until:2016-04-18\n",
      "INFO:root:Querying ethereum since:2016-04-15 until:2016-04-16\n",
      "INFO:root:Querying ethereum since:2016-04-16 until:2016-04-17\n",
      "INFO:root:Querying ethereum since:2016-04-14 until:2016-04-15\n",
      "INFO:root:Got 32 tweets for ethereum%20since%3A2016-04-17%20until%3A2016-04-18.\n",
      "INFO:root:Got 32 tweets (32 new).\n",
      "INFO:root:Got 42 tweets for ethereum%20since%3A2016-04-16%20until%3A2016-04-17.\n",
      "INFO:root:Got 74 tweets (42 new).\n",
      "INFO:root:Got 47 tweets for ethereum%20since%3A2016-04-14%20until%3A2016-04-15.\n",
      "INFO:root:Got 121 tweets (47 new).\n",
      "INFO:root:Got 49 tweets for ethereum%20since%3A2016-04-15%20until%3A2016-04-16.\n",
      "INFO:root:Got 170 tweets (49 new).\n"
     ]
    },
    {
     "name": "stdout",
     "output_type": "stream",
     "text": [
      "2016-10-23 to 2016-10-27\n"
     ]
    },
    {
     "name": "stderr",
     "output_type": "stream",
     "text": [
      "INFO:root:Querying ethereum since:2016-10-23 until:2016-10-24\n",
      "INFO:root:Querying ethereum since:2016-10-24 until:2016-10-25\n",
      "INFO:root:Querying ethereum since:2016-10-26 until:2016-10-27\n",
      "INFO:root:Querying ethereum since:2016-10-25 until:2016-10-26\n",
      "ERROR:root:Failed to parse JSON \"Expecting value: line 1 column 1 (char 0)\" while requesting \"https://twitter.com/i/search/timeline?vertical=default&include_available_features=1&include_entities=1&reset_error_state=false&src=typd&max_position=TWEET-791066830223794177-791374883460681728-BD1UO2FFu9QAAAAAAAAVfAAAAAcAAABWAAAAAAAAAAAAAAAAAAAAAAAAAAAAAAAAAAAAAAAAAAAAAAAAAAAAAAAAAAAAAAAAAAAAAAAAAAAAAAAAAAAAAAAAAAAAAAAAAAAAAAAAAAAAAAAAAAAAAAAAAAAAAAAAAAAAAAAAAAAAAAAAAAAAAAAAAAAAAAAAAAAAAAAAAAAAAAAAAAAAAAAAAAAAAAAAAAAAAAAAAAAAAAAAAAAAAAAAAAAAAAAAAAAAAAAAAAAAAAAAAAAAAAAAAAAAAAAAAAAAAAAAAAAAAAAAAAAAAAAAAAAAAAAAAAAAAAAAAAAAAAAAAAAAAAAAAAAAAAAAAAAAAAAAAAAAAAAAAAAAAAAAAAAAAAAAAAAAAAAAAAAAAAAAAAAAAAAAAAAAAAAAAAAAAAAAAAAAAAAAAAAAAAAAAAAAAAAAAAAAAAAAAAAAAAAAAAAAAAAAAAAAAAAAAAAAAAAAAAAAAAAAAAAAAAAAAAAAAAAAAAAAAAAAAAAAAAAAAAAAAAAAAAAAAAAAAAAAAAAAAAAAAAAAAAAAAAAAAAAAAAAAAAAAAAAAAAAAAAAAAAAAAAAAAAAAAAAAAAAAAAAAAAAAAAAAAAAAAAAAAAAAAAAAAAAAAAAAAAAAAAAAAAAAAAAAAAAAAAAAAAAAAAAAAAAAAAAAAAAAAAAAAAAAAAAAAAAAAAAAAAAAAAAAAAAAAAAAAAAAAAAAAAAAAAAAAAAAAAAAAAAAAAAAAAAAAAAAAAAAAAAAAAAAAAAAAAAAAAAAAAAAAAAAAAAAAAAAAAAAAAAAAAAAAAAAAAAAAAAAAAAAAAAAAAAAAAAAAAAAAAAAAAAAAAAAAAAAAAAAAAAAAAAAAAAAAAAAAAAAAAAAAAAAAAAAAAAAAAAAAAAAAAAAAAAAAAAAAAAAAAAAAAAAAAAAAAAAAA==-T-0-1&q=ethereum%20since%3A2016-10-26%20until%3A2016-10-27&l=\".\n",
      "Traceback (most recent call last):\n",
      "  File \"/home/shresthanikesh23/jupyter/CryptoTraderRemote/CryptoTrader/data_utils/twitter_data/twitterscraper/query.py\", line 54, in query_single_page\n",
      "    json_resp = json.loads(response.text)\n",
      "  File \"/usr/lib/python3.5/json/__init__.py\", line 319, in loads\n",
      "    return _default_decoder.decode(s)\n",
      "  File \"/usr/lib/python3.5/json/decoder.py\", line 339, in decode\n",
      "    obj, end = self.raw_decode(s, idx=_w(s, 0).end())\n",
      "  File \"/usr/lib/python3.5/json/decoder.py\", line 357, in raw_decode\n",
      "    raise JSONDecodeError(\"Expecting value\", s, err.value) from None\n",
      "json.decoder.JSONDecodeError: Expecting value: line 1 column 1 (char 0)\n",
      "INFO:root:Retrying... (Attempts left: 10)\n",
      "INFO:root:Got 42 tweets for ethereum%20since%3A2016-10-26%20until%3A2016-10-27.\n",
      "INFO:root:Got 42 tweets (42 new).\n",
      "INFO:root:Got 41 tweets for ethereum%20since%3A2016-10-24%20until%3A2016-10-25.\n",
      "INFO:root:Got 83 tweets (41 new).\n",
      "INFO:root:Got 52 tweets for ethereum%20since%3A2016-10-25%20until%3A2016-10-26.\n",
      "INFO:root:Got 135 tweets (52 new).\n",
      "INFO:root:Got 54 tweets for ethereum%20since%3A2016-10-23%20until%3A2016-10-24.\n",
      "INFO:root:Got 189 tweets (54 new).\n"
     ]
    },
    {
     "name": "stdout",
     "output_type": "stream",
     "text": [
      "2016-11-15 to 2016-11-19\n"
     ]
    },
    {
     "name": "stderr",
     "output_type": "stream",
     "text": [
      "INFO:root:Querying ethereum since:2016-11-17 until:2016-11-18\n",
      "INFO:root:Querying ethereum since:2016-11-15 until:2016-11-16\n",
      "INFO:root:Querying ethereum since:2016-11-16 until:2016-11-17\n",
      "INFO:root:Querying ethereum since:2016-11-18 until:2016-11-19\n",
      "INFO:root:Got 57 tweets for ethereum%20since%3A2016-11-15%20until%3A2016-11-16.\n",
      "INFO:root:Got 57 tweets (57 new).\n",
      "INFO:root:Got 45 tweets for ethereum%20since%3A2016-11-16%20until%3A2016-11-17.\n",
      "INFO:root:Got 102 tweets (45 new).\n",
      "INFO:root:Got 59 tweets for ethereum%20since%3A2016-11-17%20until%3A2016-11-18.\n",
      "INFO:root:Got 161 tweets (59 new).\n",
      "INFO:root:Got 58 tweets for ethereum%20since%3A2016-11-18%20until%3A2016-11-19.\n",
      "INFO:root:Got 219 tweets (58 new).\n"
     ]
    },
    {
     "name": "stdout",
     "output_type": "stream",
     "text": [
      "2017-04-01 to 2017-04-05\n"
     ]
    },
    {
     "name": "stderr",
     "output_type": "stream",
     "text": [
      "INFO:root:Querying ethereum since:2017-04-03 until:2017-04-04\n",
      "INFO:root:Querying ethereum since:2017-04-02 until:2017-04-03\n",
      "INFO:root:Querying ethereum since:2017-04-01 until:2017-04-02\n",
      "INFO:root:Querying ethereum since:2017-04-04 until:2017-04-05\n",
      "INFO:root:Got 55 tweets for ethereum%20since%3A2017-04-02%20until%3A2017-04-03.\n",
      "INFO:root:Got 55 tweets (55 new).\n",
      "INFO:root:Got 57 tweets for ethereum%20since%3A2017-04-03%20until%3A2017-04-04.\n",
      "INFO:root:Got 112 tweets (57 new).\n",
      "INFO:root:Got 60 tweets for ethereum%20since%3A2017-04-01%20until%3A2017-04-02.\n",
      "INFO:root:Got 172 tweets (60 new).\n",
      "INFO:root:Got 62 tweets for ethereum%20since%3A2017-04-04%20until%3A2017-04-05.\n",
      "INFO:root:Got 234 tweets (62 new).\n"
     ]
    },
    {
     "name": "stdout",
     "output_type": "stream",
     "text": [
      "2018-02-17 to 2018-02-21\n"
     ]
    },
    {
     "name": "stderr",
     "output_type": "stream",
     "text": [
      "INFO:root:Querying ethereum since:2018-02-19 until:2018-02-20\n",
      "INFO:root:Querying ethereum since:2018-02-18 until:2018-02-19\n",
      "INFO:root:Querying ethereum since:2018-02-17 until:2018-02-18\n",
      "INFO:root:Querying ethereum since:2018-02-20 until:2018-02-21\n",
      "INFO:root:Got 224 tweets for ethereum%20since%3A2018-02-18%20until%3A2018-02-19.\n",
      "INFO:root:Got 224 tweets (224 new).\n",
      "INFO:root:Got 271 tweets for ethereum%20since%3A2018-02-17%20until%3A2018-02-18.\n",
      "INFO:root:Got 495 tweets (271 new).\n",
      "INFO:root:Got 305 tweets for ethereum%20since%3A2018-02-20%20until%3A2018-02-21.\n",
      "INFO:root:Got 800 tweets (305 new).\n",
      "INFO:root:Got 311 tweets for ethereum%20since%3A2018-02-19%20until%3A2018-02-20.\n",
      "INFO:root:Got 1111 tweets (311 new).\n"
     ]
    },
    {
     "name": "stdout",
     "output_type": "stream",
     "text": [
      "2018-05-04 to 2018-05-08\n"
     ]
    },
    {
     "name": "stderr",
     "output_type": "stream",
     "text": [
      "INFO:root:Querying ethereum since:2018-05-05 until:2018-05-06\n",
      "INFO:root:Querying ethereum since:2018-05-04 until:2018-05-05\n",
      "INFO:root:Querying ethereum since:2018-05-07 until:2018-05-08\n",
      "INFO:root:Querying ethereum since:2018-05-06 until:2018-05-07\n",
      "INFO:root:Got 0 tweets for ethereum%20since%3A2018-05-06%20until%3A2018-05-07.\n",
      "INFO:root:Got 0 tweets (0 new).\n",
      "INFO:root:Got 284 tweets for ethereum%20since%3A2018-05-05%20until%3A2018-05-06.\n",
      "INFO:root:Got 284 tweets (284 new).\n",
      "INFO:root:Got 329 tweets for ethereum%20since%3A2018-05-04%20until%3A2018-05-05.\n",
      "INFO:root:Got 613 tweets (329 new).\n",
      "INFO:root:Got 329 tweets for ethereum%20since%3A2018-05-07%20until%3A2018-05-08.\n",
      "INFO:root:Got 942 tweets (329 new).\n"
     ]
    },
    {
     "name": "stdout",
     "output_type": "stream",
     "text": [
      "dash\n",
      "2015-09-02 to 2015-09-06\n"
     ]
    },
    {
     "name": "stderr",
     "output_type": "stream",
     "text": [
      "INFO:root:Querying dash since:2015-09-03 until:2015-09-04\n",
      "INFO:root:Querying dash since:2015-09-02 until:2015-09-03\n",
      "INFO:root:Querying dash since:2015-09-05 until:2015-09-06\n",
      "INFO:root:Querying dash since:2015-09-04 until:2015-09-05\n",
      "ERROR:root:Failed to parse JSON \"Expecting value: line 1 column 1 (char 0)\" while requesting \"https://twitter.com/i/search/timeline?vertical=default&include_available_features=1&include_entities=1&reset_error_state=false&src=typd&max_position=TWEET-639634101989953536-639935238647492608-BD1UO2FFu9QAAAAAAAAVfAAAAAcAAABWAAAAAAAAAAAAAAAAAAAAAAAAAAAAAAAAAAAAAAAAAAAAAAAAAAAAAAAAAAAAAAAAAAAAAAAAAAAAAAAAAAAAAAAAAAAAAAAAAAAAAAAAAAAAAAAAAAAAAAAAAAAAAAAAAAAAAAAAAAAAAAAAAAAAAAAAAAAAAAAAAAAAAAAAAAAAAAAAAAAAAAAAAAAAAAAAAAAAAAAAAAAAAAAAAAAAAAAAAAAAAAAAAAAAAAAAAAAAAAAAAAAAAAAAAAAAAAAAAAAAAAAAAAAAAAAAAAAAAAAAAAAAAAAAAAAAAAAAAAAAAAAAAAAAAAAAAAAAAAAAAAAAAAAAAAAAAAAAAAAAAAAAAAAAAAAAAAAAAAAAAAAAAAAAAAAAAAAAAAAAAAAAAAAAAAAAAAAAAAAAAAAAAAAAAAAAAAAAAAAAAAAAAAAAAAAAAAAAAAAAAAAAAAAAAAAAAAAAAAAAAAAAAAAAAAAAAAAAAAAAAAAAAAAAAAAAAAAAAAAAAAAAAAAAAAAAAAAAAAAAAAAAAAAAAAAAAAAAAAAAAAAAAAAAAAAAAAAAAAAAAAAAAAAAAAAAAAAAAAAAAAAAAAAAAAAAAAAAAAAAAAAAAAAAAAAAAAAAAAAAAAAAAAAAAAAAAAAAAAAAAAAAAAAAAAAAAAAAAAAAAAAAAAAAAAAAAAAAAAAAAAAAAAAAAAAAAAAAAAAAAAAAAAAAAAAAAAAAAAAAAAAAAAAAAAAAAAAAAAAAAAAAAAAAAAAAAAAAAAAAAAAAAAAAAAAAAAAAAAAAAAAAAAAAAAAAAAAAAAAAAAAAAAAAAAAAAAAAAAAAAAAAAAAAAAAAAAAAAAAAAAAAAAAAAAAAAAAAAAAAAAAAAAAAAAAAAAAAAAAAAAAAAAAAAAAAAAAAAAAAAAAAAAAAAAAAAAAAAA==-T-0-5&q=dash%20since%3A2015-09-04%20until%3A2015-09-05&l=\".\n",
      "Traceback (most recent call last):\n",
      "  File \"/home/shresthanikesh23/jupyter/CryptoTraderRemote/CryptoTrader/data_utils/twitter_data/twitterscraper/query.py\", line 54, in query_single_page\n",
      "    json_resp = json.loads(response.text)\n",
      "  File \"/usr/lib/python3.5/json/__init__.py\", line 319, in loads\n",
      "    return _default_decoder.decode(s)\n",
      "  File \"/usr/lib/python3.5/json/decoder.py\", line 339, in decode\n",
      "    obj, end = self.raw_decode(s, idx=_w(s, 0).end())\n",
      "  File \"/usr/lib/python3.5/json/decoder.py\", line 357, in raw_decode\n",
      "    raise JSONDecodeError(\"Expecting value\", s, err.value) from None\n",
      "json.decoder.JSONDecodeError: Expecting value: line 1 column 1 (char 0)\n",
      "INFO:root:Retrying... (Attempts left: 10)\n",
      "ERROR:root:Failed to parse JSON \"Expecting value: line 1 column 1 (char 0)\" while requesting \"https://twitter.com/i/search/timeline?vertical=default&include_available_features=1&include_entities=1&reset_error_state=false&src=typd&max_position=TWEET-639634101989953536-639935238647492608-BD1UO2FFu9QAAAAAAAAVfAAAAAcAAABWAAAAAAAAAAAAAAAAAAAAAAAAAAAAAAAAAAAAAAAAAAAAAAAAAAAAAAAAAAAAAAAAAAAAAAAAAAAAAAAAAAAAAAAAAAAAAAAAAAAAAAAAAAAAAAAAAAAAAAAAAAAAAAAAAAAAAAAAAAAAAAAAAAAAAAAAAAAAAAAAAAAAAAAAAAAAAAAAAAAAAAAAAAAAAAAAAAAAAAAAAAAAAAAAAAAAAAAAAAAAAAAAAAAAAAAAAAAAAAAAAAAAAAAAAAAAAAAAAAAAAAAAAAAAAAAAAAAAAAAAAAAAAAAAAAAAAAAAAAAAAAAAAAAAAAAAAAAAAAAAAAAAAAAAAAAAAAAAAAAAAAAAAAAAAAAAAAAAAAAAAAAAAAAAAAAAAAAAAAAAAAAAAAAAAAAAAAAAAAAAAAAAAAAAAAAAAAAAAAAAAAAAAAAAAAAAAAAAAAAAAAAAAAAAAAAAAAAAAAAAAAAAAAAAAAAAAAAAAAAAAAAAAAAAAAAAAAAAAAAAAAAAAAAAAAAAAAAAAAAAAAAAAAAAAAAAAAAAAAAAAAAAAAAAAAAAAAAAAAAAAAAAAAAAAAAAAAAAAAAAAAAAAAAAAAAAAAAAAAAAAAAAAAAAAAAAAAAAAAAAAAAAAAAAAAAAAAAAAAAAAAAAAAAAAAAAAAAAAAAAAAAAAAAAAAAAAAAAAAAAAAAAAAAAAAAAAAAAAAAAAAAAAAAAAAAAAAAAAAAAAAAAAAAAAAAAAAAAAAAAAAAAAAAAAAAAAAAAAAAAAAAAAAAAAAAAAAAAAAAAAAAAAAAAAAAAAAAAAAAAAAAAAAAAAAAAAAAAAAAAAAAAAAAAAAAAAAAAAAAAAAAAAAAAAAAAAAAAAAAAAAAAAAAAAAAAAAAAAAAAAAAAAAAAAAAAAAAAAAAAAAAAAAAAAAAAAAAAAA==-T-0-5&q=dash%20since%3A2015-09-04%20until%3A2015-09-05&l=\".\n",
      "Traceback (most recent call last):\n",
      "  File \"/home/shresthanikesh23/jupyter/CryptoTraderRemote/CryptoTrader/data_utils/twitter_data/twitterscraper/query.py\", line 54, in query_single_page\n",
      "    json_resp = json.loads(response.text)\n",
      "  File \"/usr/lib/python3.5/json/__init__.py\", line 319, in loads\n",
      "    return _default_decoder.decode(s)\n",
      "  File \"/usr/lib/python3.5/json/decoder.py\", line 339, in decode\n",
      "    obj, end = self.raw_decode(s, idx=_w(s, 0).end())\n",
      "  File \"/usr/lib/python3.5/json/decoder.py\", line 357, in raw_decode\n",
      "    raise JSONDecodeError(\"Expecting value\", s, err.value) from None\n",
      "json.decoder.JSONDecodeError: Expecting value: line 1 column 1 (char 0)\n",
      "INFO:root:Retrying... (Attempts left: 9)\n",
      "INFO:root:Got 176 tweets for dash%20since%3A2015-09-05%20until%3A2015-09-06.\n",
      "INFO:root:Got 176 tweets (176 new).\n",
      "INFO:root:Got 207 tweets for dash%20since%3A2015-09-03%20until%3A2015-09-04.\n",
      "INFO:root:Got 383 tweets (207 new).\n",
      "INFO:root:Got 198 tweets for dash%20since%3A2015-09-04%20until%3A2015-09-05.\n",
      "INFO:root:Got 581 tweets (198 new).\n",
      "INFO:root:Got 258 tweets for dash%20since%3A2015-09-02%20until%3A2015-09-03.\n",
      "INFO:root:Got 839 tweets (258 new).\n"
     ]
    },
    {
     "name": "stdout",
     "output_type": "stream",
     "text": [
      "2016-01-04 to 2016-01-08\n"
     ]
    },
    {
     "name": "stderr",
     "output_type": "stream",
     "text": [
      "INFO:root:Querying dash since:2016-01-04 until:2016-01-05\n",
      "INFO:root:Querying dash since:2016-01-07 until:2016-01-08\n",
      "INFO:root:Querying dash since:2016-01-06 until:2016-01-07\n",
      "INFO:root:Querying dash since:2016-01-05 until:2016-01-06\n",
      "INFO:root:Got 160 tweets for dash%20since%3A2016-01-07%20until%3A2016-01-08.\n",
      "INFO:root:Got 160 tweets (160 new).\n",
      "INFO:root:Got 195 tweets for dash%20since%3A2016-01-06%20until%3A2016-01-07.\n",
      "INFO:root:Got 355 tweets (195 new).\n",
      "INFO:root:Got 191 tweets for dash%20since%3A2016-01-05%20until%3A2016-01-06.\n",
      "INFO:root:Got 546 tweets (191 new).\n",
      "INFO:root:Got 203 tweets for dash%20since%3A2016-01-04%20until%3A2016-01-05.\n",
      "INFO:root:Got 749 tweets (203 new).\n"
     ]
    },
    {
     "name": "stdout",
     "output_type": "stream",
     "text": [
      "2016-07-24 to 2016-07-28\n"
     ]
    },
    {
     "name": "stderr",
     "output_type": "stream",
     "text": [
      "INFO:root:Querying dash since:2016-07-25 until:2016-07-26\n",
      "INFO:root:Querying dash since:2016-07-26 until:2016-07-27\n",
      "INFO:root:Querying dash since:2016-07-24 until:2016-07-25\n",
      "INFO:root:Querying dash since:2016-07-27 until:2016-07-28\n",
      "ERROR:root:Failed to parse JSON \"Expecting value: line 1 column 1 (char 0)\" while requesting \"https://twitter.com/i/search/timeline?vertical=default&include_available_features=1&include_entities=1&reset_error_state=false&src=typd&max_position=TWEET-757334232352100355-757343244464160773&q=dash%20since%3A2016-07-24%20until%3A2016-07-25&l=\".\n",
      "Traceback (most recent call last):\n",
      "  File \"/home/shresthanikesh23/jupyter/CryptoTraderRemote/CryptoTrader/data_utils/twitter_data/twitterscraper/query.py\", line 54, in query_single_page\n",
      "    json_resp = json.loads(response.text)\n",
      "  File \"/usr/lib/python3.5/json/__init__.py\", line 319, in loads\n",
      "    return _default_decoder.decode(s)\n",
      "  File \"/usr/lib/python3.5/json/decoder.py\", line 339, in decode\n",
      "    obj, end = self.raw_decode(s, idx=_w(s, 0).end())\n",
      "  File \"/usr/lib/python3.5/json/decoder.py\", line 357, in raw_decode\n",
      "    raise JSONDecodeError(\"Expecting value\", s, err.value) from None\n",
      "json.decoder.JSONDecodeError: Expecting value: line 1 column 1 (char 0)\n",
      "INFO:root:Retrying... (Attempts left: 10)\n",
      "INFO:root:Got 142 tweets for dash%20since%3A2016-07-27%20until%3A2016-07-28.\n",
      "INFO:root:Got 142 tweets (142 new).\n",
      "ERROR:root:Failed to parse JSON \"Expecting value: line 1 column 1 (char 0)\" while requesting \"https://twitter.com/i/search/timeline?vertical=default&include_available_features=1&include_entities=1&reset_error_state=false&src=typd&max_position=TWEET-757364857620619264-757710306650890241-BD1UO2FFu9QAAAAAAAAVfAAAAAcAAABWAAAAAAAAAAAAAAAAAAAAAAAAAAAAAAAAAAAAAAAAAAAAAAAAAAAAAAAAAAAAAAAAAAAAAAAAAAAAAAAAAAAAAAAAAAAAAAAAAAAAAAAAAAAAAAAAAAAAAAAAAAAAAAAAAAAAAAAAAAAAAAAAAAAAAAAAAAAAAAAAAAAAAAAAAAAAAAAAAAAAAAAAAAAAAAAAAAAAAAAAAAAAAAAAAAAAAAAAAAAAAAAAAAAAAAAAAAAAAAAAAAAAAAAAAAAAAAAAAAAAAAAAAAAAAAAAAAAAAAAAAAAAAAAAAAAAAAAAAAAAAAAAAAAAAAAAAAAAAAAAAAAAAAAAAAAAAAAAAAAAAAAAAAAAAAAAAAAAAAAAAAAAAAAAAAAAAAAAAAAAAAAAAAAAAAAAAAAAAAAAAAAAAAAAAAAAAAAAAAAAAAAAAAAAAAAAAAAAAAAAAAAAAAAAAAAAAAAAAAAAAAAAAAAAAAAAAAAAAAAAAAAAAAAAAAAAAAAAAAAAAAAAAAAAAAAAAAAAAAAAAAAAAAAAAAAAAAAAAAAAAAAAAAAAAAAAAAAAAAAAAAAAAAAAAAAAAAAAAAAAAAAAAAAAAAAAAAAAAAAAAAAAAAAAAAAAAAAAAAAAAAAAAAAAAAAAAAAAAAAAAAAAAAAAAAAAAAAAAAAAAAAAAAAAAAAAAAAAAAAAAAAAAAAAAAAAAAAAAAAAAAAAAAAAAAAAAAAAAAAAAAAAAAAAAAAAAAAAAAAAAAAAAAAAAAAAAAAAAAAAAAAAAAAAAAAAAAAAAAAAAAAAAAAAAAAAAAAAAAAAAAAAAAAAAAAAAAAAAAAAAAAAAAAAAAAAAAAAAAAAAAAAAAAAAAAAAAAAAAAAAAAAAAAAAAAAAAAAAAAAAAAAAAAAAAAAAAAAAAAAAAAAAAAAAAAAAAAAAA==-T-0-5&q=dash%20since%3A2016-07-25%20until%3A2016-07-26&l=\".\n",
      "Traceback (most recent call last):\n",
      "  File \"/home/shresthanikesh23/jupyter/CryptoTraderRemote/CryptoTrader/data_utils/twitter_data/twitterscraper/query.py\", line 54, in query_single_page\n",
      "    json_resp = json.loads(response.text)\n",
      "  File \"/usr/lib/python3.5/json/__init__.py\", line 319, in loads\n",
      "    return _default_decoder.decode(s)\n",
      "  File \"/usr/lib/python3.5/json/decoder.py\", line 339, in decode\n",
      "    obj, end = self.raw_decode(s, idx=_w(s, 0).end())\n",
      "  File \"/usr/lib/python3.5/json/decoder.py\", line 357, in raw_decode\n",
      "    raise JSONDecodeError(\"Expecting value\", s, err.value) from None\n",
      "json.decoder.JSONDecodeError: Expecting value: line 1 column 1 (char 0)\n",
      "INFO:root:Retrying... (Attempts left: 10)\n",
      "INFO:root:Got 142 tweets for dash%20since%3A2016-07-25%20until%3A2016-07-26.\n",
      "INFO:root:Got 284 tweets (142 new).\n",
      "INFO:root:Got 159 tweets for dash%20since%3A2016-07-26%20until%3A2016-07-27.\n",
      "INFO:root:Got 443 tweets (159 new).\n",
      "INFO:root:Got 210 tweets for dash%20since%3A2016-07-24%20until%3A2016-07-25.\n",
      "INFO:root:Got 653 tweets (210 new).\n"
     ]
    },
    {
     "name": "stdout",
     "output_type": "stream",
     "text": [
      "2016-11-30 to 2016-12-04\n"
     ]
    },
    {
     "name": "stderr",
     "output_type": "stream",
     "text": [
      "INFO:root:Querying dash since:2016-12-02 until:2016-12-03\n",
      "INFO:root:Querying dash since:2016-11-30 until:2016-12-01\n",
      "INFO:root:Querying dash since:2016-12-01 until:2016-12-02\n",
      "INFO:root:Querying dash since:2016-12-03 until:2016-12-04\n",
      "ERROR:root:Failed to parse JSON \"Expecting value: line 1 column 1 (char 0)\" while requesting \"https://twitter.com/i/search/timeline?vertical=default&include_available_features=1&include_entities=1&reset_error_state=false&src=typd&max_position=TWEET-805030184818774017-805180886253584384-BD1UO2FFu9QAAAAAAAAVfAAAAAcAAABWAAAAAAAAAAAAAAAAAAAAAAAAAAAAAAAAAAAAAAAAAAAAAAAAAAAAAAAAAAAAAAAAAAAAAAAAAAAAAAAAAAAAAAAAAAAAAAAAAAAAAAAAAAAAAAAAAAAAAAAAAAAAAAAAAAAAAAAAAAAAAAAAAAAAAAAAAAAAAAAAAAAAAAAAAAAAAAAAAAAAAAAAAAAAAAAAAAAAAAAAAAAAAAAAAAAAAAAAAAAAAAAAAAAAAAAAAAAAAAAAAAAAAAAAAAAAAAAAAAAAAAAAAAAAAAAAAAAAAAAAAAAAAAAAAAAAAAAAAAAAAAAAAAAAAAAAAAAAAAAAAAAAAAAAAAAAAAAAAAAAAAAAAAAAAAAAAAAAAAAAAAAAAAAAAAAAAAAAAAAAAAAAAAAAAAAAAAAAAAAAAAAAAAAAAAAAAAAAAAAAAAAAAAAAAAAAAAAAAAAAAAAAAAAAAAAAAAAAAAAAAAAAAAAAAAAAAAAAAAAAAAAAAAAAAAAAAAAAAAAAAAAAAAAAAAAAAAAAAAAAAAAAAAAAAAAAAAAAAAAAAAAAAAAAAAAAAAAAAAAAAAAAAAAAAAAAAAAAAAAAAAAAAAAAAAAAAAAAAAAAAAAAAAAAAAAAAAAAAAAAAAAAAAAAAAAAAAAAAAAAAAAAAAAAAAAAAAAAAAAAAAAAAAAAAAAAAAAAAAAAAAAAAAAAAAAAAAAAAAAAAAAAAAAAAAAAAAAAAAAAAAAAAAAAAAAAAAAAAAAAAAAAAAAAAAAAAAAAAAAAAAAAAAAAAAAAAAAAAAAAAAAAAAAAAAAAAAAAAAAAAAAAAAAAAAAAAAAAAAAAAAAAAAAAAAAAAAAAAAAAAAAAAAAAAAAAAAAAAAAAAAAAAAAAAAAAAAAAAAAAAAAAAAAAAAAAAAAAAAAAAAAAAAAAAAAAAAAAAA==-T-0-2&q=dash%20since%3A2016-12-03%20until%3A2016-12-04&l=\".\n",
      "Traceback (most recent call last):\n",
      "  File \"/home/shresthanikesh23/jupyter/CryptoTraderRemote/CryptoTrader/data_utils/twitter_data/twitterscraper/query.py\", line 54, in query_single_page\n",
      "    json_resp = json.loads(response.text)\n",
      "  File \"/usr/lib/python3.5/json/__init__.py\", line 319, in loads\n",
      "    return _default_decoder.decode(s)\n",
      "  File \"/usr/lib/python3.5/json/decoder.py\", line 339, in decode\n",
      "    obj, end = self.raw_decode(s, idx=_w(s, 0).end())\n",
      "  File \"/usr/lib/python3.5/json/decoder.py\", line 357, in raw_decode\n",
      "    raise JSONDecodeError(\"Expecting value\", s, err.value) from None\n",
      "json.decoder.JSONDecodeError: Expecting value: line 1 column 1 (char 0)\n",
      "INFO:root:Retrying... (Attempts left: 10)\n",
      "INFO:root:Got 160 tweets for dash%20since%3A2016-11-30%20until%3A2016-12-01.\n",
      "INFO:root:Got 160 tweets (160 new).\n",
      "INFO:root:Got 179 tweets for dash%20since%3A2016-12-02%20until%3A2016-12-03.\n",
      "INFO:root:Got 339 tweets (179 new).\n",
      "INFO:root:Got 160 tweets for dash%20since%3A2016-12-03%20until%3A2016-12-04.\n",
      "INFO:root:Got 499 tweets (160 new).\n",
      "INFO:root:Got 180 tweets for dash%20since%3A2016-12-01%20until%3A2016-12-02.\n",
      "INFO:root:Got 679 tweets (180 new).\n"
     ]
    },
    {
     "name": "stdout",
     "output_type": "stream",
     "text": [
      "2017-03-09 to 2017-03-13\n"
     ]
    },
    {
     "name": "stderr",
     "output_type": "stream",
     "text": [
      "INFO:root:Querying dash since:2017-03-10 until:2017-03-11\n",
      "INFO:root:Querying dash since:2017-03-12 until:2017-03-13\n",
      "INFO:root:Querying dash since:2017-03-11 until:2017-03-12\n",
      "INFO:root:Querying dash since:2017-03-09 until:2017-03-10\n",
      "INFO:root:Got 159 tweets for dash%20since%3A2017-03-10%20until%3A2017-03-11.\n",
      "INFO:root:Got 159 tweets (159 new).\n",
      "INFO:root:Got 168 tweets for dash%20since%3A2017-03-09%20until%3A2017-03-10.\n",
      "INFO:root:Got 327 tweets (168 new).\n",
      "INFO:root:Got 198 tweets for dash%20since%3A2017-03-11%20until%3A2017-03-12.\n",
      "INFO:root:Got 525 tweets (198 new).\n",
      "INFO:root:Got 254 tweets for dash%20since%3A2017-03-12%20until%3A2017-03-13.\n",
      "INFO:root:Got 779 tweets (254 new).\n"
     ]
    },
    {
     "name": "stdout",
     "output_type": "stream",
     "text": [
      "2017-06-21 to 2017-06-25\n"
     ]
    },
    {
     "name": "stderr",
     "output_type": "stream",
     "text": [
      "INFO:root:Querying dash since:2017-06-21 until:2017-06-22\n",
      "INFO:root:Querying dash since:2017-06-23 until:2017-06-24\n",
      "INFO:root:Querying dash since:2017-06-24 until:2017-06-25\n",
      "INFO:root:Querying dash since:2017-06-22 until:2017-06-23\n",
      "INFO:root:Got 165 tweets for dash%20since%3A2017-06-24%20until%3A2017-06-25.\n",
      "INFO:root:Got 165 tweets (165 new).\n",
      "INFO:root:Got 163 tweets for dash%20since%3A2017-06-22%20until%3A2017-06-23.\n",
      "INFO:root:Got 328 tweets (163 new).\n",
      "INFO:root:Got 154 tweets for dash%20since%3A2017-06-23%20until%3A2017-06-24.\n",
      "INFO:root:Got 482 tweets (154 new).\n",
      "INFO:root:Got 183 tweets for dash%20since%3A2017-06-21%20until%3A2017-06-22.\n",
      "INFO:root:Got 665 tweets (183 new).\n"
     ]
    },
    {
     "name": "stdout",
     "output_type": "stream",
     "text": [
      "2018-05-01 to 2018-05-05\n"
     ]
    },
    {
     "name": "stderr",
     "output_type": "stream",
     "text": [
      "INFO:root:Querying dash since:2018-05-04 until:2018-05-05\n",
      "INFO:root:Querying dash since:2018-05-01 until:2018-05-02\n",
      "INFO:root:Querying dash since:2018-05-02 until:2018-05-03\n",
      "INFO:root:Querying dash since:2018-05-03 until:2018-05-04\n",
      "INFO:root:Got 196 tweets for dash%20since%3A2018-05-04%20until%3A2018-05-05.\n",
      "INFO:root:Got 196 tweets (196 new).\n",
      "INFO:root:Got 232 tweets for dash%20since%3A2018-05-03%20until%3A2018-05-04.\n",
      "INFO:root:Got 428 tweets (232 new).\n",
      "INFO:root:Got 218 tweets for dash%20since%3A2018-05-01%20until%3A2018-05-02.\n",
      "INFO:root:Got 646 tweets (218 new).\n",
      "INFO:root:Got 284 tweets for dash%20since%3A2018-05-02%20until%3A2018-05-03.\n",
      "INFO:root:Got 930 tweets (284 new).\n"
     ]
    },
    {
     "name": "stdout",
     "output_type": "stream",
     "text": [
      "2018-05-13 to 2018-05-17\n"
     ]
    },
    {
     "name": "stderr",
     "output_type": "stream",
     "text": [
      "INFO:root:Querying dash since:2018-05-14 until:2018-05-15\n",
      "INFO:root:Querying dash since:2018-05-16 until:2018-05-17\n",
      "INFO:root:Querying dash since:2018-05-15 until:2018-05-16\n",
      "INFO:root:Querying dash since:2018-05-13 until:2018-05-14\n",
      "INFO:root:Got 217 tweets for dash%20since%3A2018-05-16%20until%3A2018-05-17.\n",
      "INFO:root:Got 217 tweets (217 new).\n",
      "INFO:root:Got 240 tweets for dash%20since%3A2018-05-15%20until%3A2018-05-16.\n",
      "INFO:root:Got 457 tweets (240 new).\n",
      "INFO:root:Got 247 tweets for dash%20since%3A2018-05-14%20until%3A2018-05-15.\n",
      "INFO:root:Got 704 tweets (247 new).\n",
      "ERROR:root:Failed to parse JSON \"Expecting value: line 1 column 1 (char 0)\" while requesting \"https://twitter.com/i/search/timeline?vertical=default&include_available_features=1&include_entities=1&reset_error_state=false&src=typd&max_position=TWEET-995604234581303298-995802569158086656-BD1UO2FFu9QAAAAAAAAVfAAAAAcAAABWAAAAAAAAAAAAAAAAAAAAAAAAAAAAAAAAAAAAAAAAAAAAAAAAAAAAAAAAAAAAAAAAAAAAAAAAAAAAAAAAAAAAAAAAAAAAAAAAAAAAAAAAAAAAAAAAAAAAAAAAAAAAAAAAAAAAAAAAAAAAAAAAAAAAAAAAAAAAAAAAAAAAAAAAAAAAAAAAAAAAAAAAAAAAAAAAAAAAAAAAAAAAAAAAAAAAAAAAAAAAAAAAAAAAAAAAAAAAAAAAAAAAAAAAAAAAAAAAAAAAAAAAAAAAAAAAAAAAAAAAAAAAAAAAAAAAAAAAAAAAAAAAAAAAAAAAAAAAAAAAAAAAAAAAAAAAAAAAAAAAAAAAAAAAAAAAAAAAAAAAAAAAAAAAAAAAAAAAAAAAAAAAAAAAAAAAAAAAAAAAAAAAAAAAAAAAAAAAAAAAAAAAAAAAAAAAAAAAAAAAAAAAAAAAAAAAAAAAAAAAAAAAAAAAAAAAAAAAAAAAAAAAAAAAAAAAAAAAAAAAAAAAAAAAAAAAAAAAAAAAAAAAAAAAAAAAAAAAAAAAAAAAAAAAAAAAAAAAAAAAAAAAAAAAAAAAAAAAAAAAAAAAAAAAAAAAAAAAAAAAAAAAAAAAAAAAAAAAAAAAAAAAAAAAAAAAAAAAAAAAAAAAAAAAAAAAAAAAAAAAAAAAAAAAAAAAAAAAAAAAAAAAAAAAAAAAAAAAAAAAAAAAAAAAAAAAAAAAAAAAAAAAAAAAAAAAAAAAAAAAAAAAAAAAAAAAAAAAAAAAAAAAAAAAAAAAAAAAAAAAAAAAAAAAAAAAAAAAAAAAAAAAAAAAAAAAAAAAAAAAAAAAAAAAAAAAAAAAAAAAAAAAAAAAAAAAAAAAAAAAAAAAAAAAAAAAAAAAAAAAAAAAAAAAAAAAAAAAAAAAAAAAAAAAAAAAAAAAAA==-T-0-35&q=dash%20since%3A2018-05-13%20until%3A2018-05-14&l=\".\n",
      "Traceback (most recent call last):\n",
      "  File \"/home/shresthanikesh23/jupyter/CryptoTraderRemote/CryptoTrader/data_utils/twitter_data/twitterscraper/query.py\", line 54, in query_single_page\n",
      "    json_resp = json.loads(response.text)\n",
      "  File \"/usr/lib/python3.5/json/__init__.py\", line 319, in loads\n",
      "    return _default_decoder.decode(s)\n",
      "  File \"/usr/lib/python3.5/json/decoder.py\", line 339, in decode\n",
      "    obj, end = self.raw_decode(s, idx=_w(s, 0).end())\n",
      "  File \"/usr/lib/python3.5/json/decoder.py\", line 357, in raw_decode\n",
      "    raise JSONDecodeError(\"Expecting value\", s, err.value) from None\n",
      "json.decoder.JSONDecodeError: Expecting value: line 1 column 1 (char 0)\n",
      "INFO:root:Retrying... (Attempts left: 10)\n",
      "INFO:root:Got 819 tweets for dash%20since%3A2018-05-13%20until%3A2018-05-14.\n",
      "INFO:root:Got 1523 tweets (819 new).\n"
     ]
    },
    {
     "name": "stdout",
     "output_type": "stream",
     "text": [
      "bitcoin\n",
      "2014-12-18 to 2014-12-22\n"
     ]
    },
    {
     "name": "stderr",
     "output_type": "stream",
     "text": [
      "INFO:root:Querying bitcoin since:2014-12-18 until:2014-12-19\n",
      "INFO:root:Querying bitcoin since:2014-12-20 until:2014-12-21\n",
      "INFO:root:Querying bitcoin since:2014-12-19 until:2014-12-20\n",
      "INFO:root:Querying bitcoin since:2014-12-21 until:2014-12-22\n",
      "INFO:root:Got 144 tweets for bitcoin%20since%3A2014-12-20%20until%3A2014-12-21.\n",
      "INFO:root:Got 144 tweets (144 new).\n",
      "INFO:root:Got 150 tweets for bitcoin%20since%3A2014-12-21%20until%3A2014-12-22.\n",
      "INFO:root:Got 294 tweets (150 new).\n",
      "INFO:root:Got 176 tweets for bitcoin%20since%3A2014-12-19%20until%3A2014-12-20.\n",
      "INFO:root:Got 470 tweets (176 new).\n",
      "INFO:root:Got 177 tweets for bitcoin%20since%3A2014-12-18%20until%3A2014-12-19.\n",
      "INFO:root:Got 647 tweets (177 new).\n"
     ]
    },
    {
     "name": "stdout",
     "output_type": "stream",
     "text": [
      "2015-07-02 to 2015-07-06\n"
     ]
    },
    {
     "name": "stderr",
     "output_type": "stream",
     "text": [
      "INFO:root:Querying bitcoin since:2015-07-02 until:2015-07-03\n",
      "INFO:root:Querying bitcoin since:2015-07-05 until:2015-07-06\n",
      "INFO:root:Querying bitcoin since:2015-07-04 until:2015-07-05\n",
      "INFO:root:Querying bitcoin since:2015-07-03 until:2015-07-04\n",
      "INFO:root:Got 218 tweets for bitcoin%20since%3A2015-07-05%20until%3A2015-07-06.\n",
      "INFO:root:Got 218 tweets (218 new).\n",
      "INFO:root:Got 218 tweets for bitcoin%20since%3A2015-07-04%20until%3A2015-07-05.\n",
      "INFO:root:Got 436 tweets (218 new).\n",
      "INFO:root:Got 226 tweets for bitcoin%20since%3A2015-07-03%20until%3A2015-07-04.\n",
      "INFO:root:Got 662 tweets (226 new).\n",
      "INFO:root:Got 239 tweets for bitcoin%20since%3A2015-07-02%20until%3A2015-07-03.\n",
      "INFO:root:Got 901 tweets (239 new).\n"
     ]
    },
    {
     "name": "stdout",
     "output_type": "stream",
     "text": [
      "2015-07-07 to 2015-07-11\n"
     ]
    },
    {
     "name": "stderr",
     "output_type": "stream",
     "text": [
      "INFO:root:Querying bitcoin since:2015-07-07 until:2015-07-08\n",
      "INFO:root:Querying bitcoin since:2015-07-10 until:2015-07-11\n",
      "INFO:root:Querying bitcoin since:2015-07-08 until:2015-07-09\n",
      "INFO:root:Querying bitcoin since:2015-07-09 until:2015-07-10\n",
      "INFO:root:Got 257 tweets for bitcoin%20since%3A2015-07-08%20until%3A2015-07-09.\n",
      "INFO:root:Got 257 tweets (257 new).\n",
      "INFO:root:Got 262 tweets for bitcoin%20since%3A2015-07-09%20until%3A2015-07-10.\n",
      "INFO:root:Got 519 tweets (262 new).\n",
      "INFO:root:Got 271 tweets for bitcoin%20since%3A2015-07-07%20until%3A2015-07-08.\n",
      "INFO:root:Got 790 tweets (271 new).\n",
      "INFO:root:Got 287 tweets for bitcoin%20since%3A2015-07-10%20until%3A2015-07-11.\n",
      "INFO:root:Got 1077 tweets (287 new).\n"
     ]
    },
    {
     "name": "stdout",
     "output_type": "stream",
     "text": [
      "2016-02-25 to 2016-02-29\n"
     ]
    },
    {
     "name": "stderr",
     "output_type": "stream",
     "text": [
      "INFO:root:Querying bitcoin since:2016-02-25 until:2016-02-26\n",
      "INFO:root:Querying bitcoin since:2016-02-26 until:2016-02-27\n",
      "INFO:root:Querying bitcoin since:2016-02-27 until:2016-02-28\n",
      "INFO:root:Querying bitcoin since:2016-02-28 until:2016-02-29\n",
      "INFO:root:Got 253 tweets for bitcoin%20since%3A2016-02-27%20until%3A2016-02-28.\n",
      "INFO:root:Got 253 tweets (253 new).\n",
      "INFO:root:Got 252 tweets for bitcoin%20since%3A2016-02-28%20until%3A2016-02-29.\n",
      "INFO:root:Got 505 tweets (252 new).\n",
      "INFO:root:Got 299 tweets for bitcoin%20since%3A2016-02-26%20until%3A2016-02-27.\n",
      "INFO:root:Got 804 tweets (299 new).\n",
      "INFO:root:Got 308 tweets for bitcoin%20since%3A2016-02-25%20until%3A2016-02-26.\n",
      "INFO:root:Got 1112 tweets (308 new).\n"
     ]
    },
    {
     "name": "stdout",
     "output_type": "stream",
     "text": [
      "2016-08-24 to 2016-08-28\n"
     ]
    },
    {
     "name": "stderr",
     "output_type": "stream",
     "text": [
      "INFO:root:Querying bitcoin since:2016-08-24 until:2016-08-25\n",
      "INFO:root:Querying bitcoin since:2016-08-25 until:2016-08-26\n",
      "INFO:root:Querying bitcoin since:2016-08-26 until:2016-08-27\n",
      "INFO:root:Querying bitcoin since:2016-08-27 until:2016-08-28\n",
      "INFO:root:Got 165 tweets for bitcoin%20since%3A2016-08-27%20until%3A2016-08-28.\n",
      "INFO:root:Got 165 tweets (165 new).\n",
      "INFO:root:Got 185 tweets for bitcoin%20since%3A2016-08-26%20until%3A2016-08-27.\n",
      "INFO:root:Got 350 tweets (185 new).\n",
      "INFO:root:Got 216 tweets for bitcoin%20since%3A2016-08-24%20until%3A2016-08-25.\n",
      "INFO:root:Got 566 tweets (216 new).\n",
      "INFO:root:Got 226 tweets for bitcoin%20since%3A2016-08-25%20until%3A2016-08-26.\n",
      "INFO:root:Got 792 tweets (226 new).\n"
     ]
    },
    {
     "name": "stdout",
     "output_type": "stream",
     "text": [
      "2017-02-01 to 2017-02-05\n"
     ]
    },
    {
     "name": "stderr",
     "output_type": "stream",
     "text": [
      "INFO:root:Querying bitcoin since:2017-02-01 until:2017-02-02\n",
      "INFO:root:Querying bitcoin since:2017-02-03 until:2017-02-04\n",
      "INFO:root:Querying bitcoin since:2017-02-02 until:2017-02-03\n",
      "INFO:root:Querying bitcoin since:2017-02-04 until:2017-02-05\n",
      "ERROR:root:Failed to parse JSON \"Expecting value: line 1 column 1 (char 0)\" while requesting \"https://twitter.com/i/search/timeline?vertical=default&include_available_features=1&include_entities=1&reset_error_state=false&src=typd&max_position=TWEET-828013083117416448-828015121217814530&q=bitcoin%20since%3A2017-02-04%20until%3A2017-02-05&l=\".\n",
      "Traceback (most recent call last):\n",
      "  File \"/home/shresthanikesh23/jupyter/CryptoTraderRemote/CryptoTrader/data_utils/twitter_data/twitterscraper/query.py\", line 54, in query_single_page\n",
      "    json_resp = json.loads(response.text)\n",
      "  File \"/usr/lib/python3.5/json/__init__.py\", line 319, in loads\n",
      "    return _default_decoder.decode(s)\n",
      "  File \"/usr/lib/python3.5/json/decoder.py\", line 339, in decode\n",
      "    obj, end = self.raw_decode(s, idx=_w(s, 0).end())\n",
      "  File \"/usr/lib/python3.5/json/decoder.py\", line 357, in raw_decode\n",
      "    raise JSONDecodeError(\"Expecting value\", s, err.value) from None\n",
      "json.decoder.JSONDecodeError: Expecting value: line 1 column 1 (char 0)\n",
      "INFO:root:Retrying... (Attempts left: 10)\n",
      "ERROR:root:Failed to parse JSON \"Expecting value: line 1 column 1 (char 0)\" while requesting \"https://twitter.com/i/search/timeline?vertical=default&include_available_features=1&include_entities=1&reset_error_state=false&src=typd&max_position=TWEET-827527928028209153-827646913159655425-BD1UO2FFu9QAAAAAAAAVfAAAAAcAAABWAAAAAAAAAAAAAAAAAAAAAAAAAAAAAAAAAAAAAAAAAAAAAAAAAAAAAAAAAAAAAAAAAAAAAAAAAAAAAAAAAAAAAAAAAAAAAAAAAAAAAAAAAAAAAAAAAAAAAAAAAAAAAAAAAAAAAAAAAAAAAAAAAAAAAAAAAAAAAAAAAAAAAAAAAAAAAAAAAAAAAAAAAAAAAAAAAAAAAAAAAAAAAAAAAAAAAAAAAAAAAAAAAAAAAAAAAAAAAAAAAAAAAAAAAAAAAAAAAAAAAAAAAAAAAAAAAAAAAAAAAAAAAAAAAAAAAAAAAAAAAAAAAAAAAAAAAAAAAAAAAAAAAAAAAAAAAAAAAAAAAAAAAAAAAAAAAAAAAAAAAAAAAAAAAAAAAAAAAAAAAAAAAAAAAAAAAAAAAAAAAAAAAAAAAAAAAAAAAAAAAAAAAAAAAAAAAAAAAAAAAAAAAAAAAAAAAAAAAAAAAAAAAAAAAAAAAAAAAAAAAAAAAAAAAAAAAAAAAAAAAAAAAAAAAAAAAAAAAAAAAAAAAAAAAAAAAAAAAAAAAAAAAAAAAAAAAAAAAAAAAAAAAAAAAAAAAAAAAAAAAAAAAAAAAAAAAAAAAAAAAAAAAAAAAAAAAAAAAAAAAAAAAAAAAAAAAAAAAAAAAAAAAAAAAAAAAAAAAAAAAAAAAAAAAAAAAAAAAAAAAAAAAAAAAAAAAAAAAAAAAAAAAAAAAAAAAAAAAAAAAAAAAAAAAAAAAAAAAAAAAAAAAAAAAAAAAAAAAAAAAAAAAAAAAAAAAAAAAAAAAAAAAAAAAAAAAAAAAAAAAAAAAAAAAAAAAAAAAAAAAAAAAAAAAAAAAAAAAAAAAAAAAAAAAAAAAAAAAAAAAAAAAAAAAAAAAAAAAAAAAAAAAAAAAAAAAAAAAAAAAAAAAAAAAAAAAAAAAA==-T-0-3&q=bitcoin%20since%3A2017-02-03%20until%3A2017-02-04&l=\".\n",
      "Traceback (most recent call last):\n",
      "  File \"/home/shresthanikesh23/jupyter/CryptoTraderRemote/CryptoTrader/data_utils/twitter_data/twitterscraper/query.py\", line 54, in query_single_page\n",
      "    json_resp = json.loads(response.text)\n",
      "  File \"/usr/lib/python3.5/json/__init__.py\", line 319, in loads\n",
      "    return _default_decoder.decode(s)\n",
      "  File \"/usr/lib/python3.5/json/decoder.py\", line 339, in decode\n",
      "    obj, end = self.raw_decode(s, idx=_w(s, 0).end())\n",
      "  File \"/usr/lib/python3.5/json/decoder.py\", line 357, in raw_decode\n",
      "    raise JSONDecodeError(\"Expecting value\", s, err.value) from None\n",
      "json.decoder.JSONDecodeError: Expecting value: line 1 column 1 (char 0)\n",
      "INFO:root:Retrying... (Attempts left: 10)\n",
      "INFO:root:Got 232 tweets for bitcoin%20since%3A2017-02-02%20until%3A2017-02-03.\n",
      "INFO:root:Got 232 tweets (232 new).\n",
      "INFO:root:Got 214 tweets for bitcoin%20since%3A2017-02-01%20until%3A2017-02-02.\n",
      "INFO:root:Got 446 tweets (214 new).\n",
      "INFO:root:Got 231 tweets for bitcoin%20since%3A2017-02-04%20until%3A2017-02-05.\n",
      "INFO:root:Got 677 tweets (231 new).\n",
      "INFO:root:Got 233 tweets for bitcoin%20since%3A2017-02-03%20until%3A2017-02-04.\n",
      "INFO:root:Got 910 tweets (233 new).\n"
     ]
    },
    {
     "name": "stdout",
     "output_type": "stream",
     "text": [
      "2017-04-02 to 2017-04-06\n"
     ]
    },
    {
     "name": "stderr",
     "output_type": "stream",
     "text": [
      "INFO:root:Querying bitcoin since:2017-04-03 until:2017-04-04\n",
      "INFO:root:Querying bitcoin since:2017-04-04 until:2017-04-05\n",
      "INFO:root:Querying bitcoin since:2017-04-05 until:2017-04-06\n",
      "INFO:root:Querying bitcoin since:2017-04-02 until:2017-04-03\n",
      "INFO:root:Got 196 tweets for bitcoin%20since%3A2017-04-02%20until%3A2017-04-03.\n",
      "INFO:root:Got 196 tweets (196 new).\n",
      "INFO:root:Got 231 tweets for bitcoin%20since%3A2017-04-05%20until%3A2017-04-06.\n",
      "INFO:root:Got 427 tweets (231 new).\n",
      "INFO:root:Got 202 tweets for bitcoin%20since%3A2017-04-04%20until%3A2017-04-05.\n",
      "INFO:root:Got 629 tweets (202 new).\n",
      "INFO:root:Got 222 tweets for bitcoin%20since%3A2017-04-03%20until%3A2017-04-04.\n",
      "INFO:root:Got 851 tweets (222 new).\n"
     ]
    },
    {
     "name": "stdout",
     "output_type": "stream",
     "text": [
      "2017-06-23 to 2017-06-27\n"
     ]
    },
    {
     "name": "stderr",
     "output_type": "stream",
     "text": [
      "INFO:root:Querying bitcoin since:2017-06-24 until:2017-06-25\n",
      "INFO:root:Querying bitcoin since:2017-06-25 until:2017-06-26\n",
      "INFO:root:Querying bitcoin since:2017-06-23 until:2017-06-24\n",
      "INFO:root:Querying bitcoin since:2017-06-26 until:2017-06-27\n",
      "INFO:root:Got 261 tweets for bitcoin%20since%3A2017-06-24%20until%3A2017-06-25.\n",
      "INFO:root:Got 261 tweets (261 new).\n",
      "INFO:root:Got 255 tweets for bitcoin%20since%3A2017-06-25%20until%3A2017-06-26.\n",
      "INFO:root:Got 516 tweets (255 new).\n",
      "INFO:root:Got 316 tweets for bitcoin%20since%3A2017-06-23%20until%3A2017-06-24.\n",
      "INFO:root:Got 832 tweets (316 new).\n",
      "INFO:root:Got 343 tweets for bitcoin%20since%3A2017-06-26%20until%3A2017-06-27.\n",
      "INFO:root:Got 1175 tweets (343 new).\n"
     ]
    },
    {
     "name": "stdout",
     "output_type": "stream",
     "text": [
      "2017-06-24 to 2017-06-28\n"
     ]
    },
    {
     "name": "stderr",
     "output_type": "stream",
     "text": [
      "INFO:root:Querying bitcoin since:2017-06-24 until:2017-06-25\n",
      "INFO:root:Querying bitcoin since:2017-06-26 until:2017-06-27\n",
      "INFO:root:Querying bitcoin since:2017-06-27 until:2017-06-28\n",
      "INFO:root:Querying bitcoin since:2017-06-25 until:2017-06-26\n",
      "INFO:root:Got 0 tweets for bitcoin%20since%3A2017-06-25%20until%3A2017-06-26.\n",
      "INFO:root:Got 0 tweets (0 new).\n",
      "INFO:root:Got 261 tweets for bitcoin%20since%3A2017-06-24%20until%3A2017-06-25.\n",
      "INFO:root:Got 261 tweets (261 new).\n",
      "INFO:root:Got 343 tweets for bitcoin%20since%3A2017-06-26%20until%3A2017-06-27.\n",
      "INFO:root:Got 604 tweets (343 new).\n",
      "INFO:root:Got 352 tweets for bitcoin%20since%3A2017-06-27%20until%3A2017-06-28.\n",
      "INFO:root:Got 956 tweets (352 new).\n"
     ]
    },
    {
     "name": "stdout",
     "output_type": "stream",
     "text": [
      "2017-07-19 to 2017-07-23\n"
     ]
    },
    {
     "name": "stderr",
     "output_type": "stream",
     "text": [
      "INFO:root:Querying bitcoin since:2017-07-20 until:2017-07-21\n",
      "INFO:root:Querying bitcoin since:2017-07-19 until:2017-07-20\n",
      "INFO:root:Querying bitcoin since:2017-07-21 until:2017-07-22\n",
      "INFO:root:Querying bitcoin since:2017-07-22 until:2017-07-23\n",
      "ERROR:root:Failed to parse JSON \"Expecting value: line 1 column 1 (char 0)\" while requesting \"https://twitter.com/i/search/timeline?vertical=default&include_available_features=1&include_entities=1&reset_error_state=false&src=typd&max_position=TWEET-888399320982183936-888532542567071744-BD1UO2FFu9QAAAAAAAAVfAAAAAcAAABWAAAAAAAAAAAAAAAAAAAAAAAAAAAAAAAAAAAAAAAAAAAAAAAAAAAAAAAAAAAAAAAAAAAAAAAAAAAAAAAAAAAAAAAAAAAAAAAAAAAAAAAAAAAAAAAAAAAAAAAAAAAAAAAAAAAAAAAAAAAAAAAAAAAAAAAAAAAAAAAAAAAAAAAAAAAAAAAAAAAAAAAAAAAAAAAAAAAAAAAAAAAAAAAAAAAAAAAAAAAAAAAAAAAAAAAAAAAAAAAAAAAAAAAAAAAAAAAAAAAAAAAAAAAAAAAAAAAAAAAAAAAAAAAAAAAAAAAAAAAAAAAAAAAAAAAAAAAAAAAAAAAAAAAAAAAAAAAAAAAAAAAAAAAAAAAAAAAAAAAAAAAAAAAAAAAAAAAAAAAAAAAAAAAAAAAAAAAAAAAAAAAAAAAAAAAAAAAAAAAAAAAAAAAAAAAAAAAAAAAAAAAAAAAAAAAAAAAAAAAAAAAAAAAAAAAAAAAAAAAAAAAAAAAAAAAAAAAAAAAAAAAAAAAAAAAAAAAAAAAAAAAAAAAAAAAAAAAAAAAAAAAAAAAAAAAAAAAAAAAAAAAAAAAAAAAAAAAAAAAAAAAAAAAAAAAAAAAAAAAAAAAAAAAAAAAAAAAAAAAAAAAAAAAAAAAAAAAAAAAAAAAAAAAAAAAAAAAAAAAAAAAAAAAAAAAAAAAAAAAAAAAAAAAAAAAAAAAAAAAAAAAAAAAAAAAAAAAAAAAAAAAAAAAAAAAAAAAAAAAAAAAAAAAAAAAAAAAAAAAAAAAAAAAAAAAAAAAAAAAAAAAAAAAAAAAAAAAAAAAAAAAAAAAAAAAAAAAAAAAAAAAAAAAAAAAAAAAAAAAAAAAAAAAAAAAAAAAAAAAAAAAAAAAAAAAAAAAAAAAAAAAAAAAAAAAAAAAAAAAAAAAAAAAAAAAAAAAAAA==-T-0-6&q=bitcoin%20since%3A2017-07-21%20until%3A2017-07-22&l=\".\n",
      "Traceback (most recent call last):\n",
      "  File \"/home/shresthanikesh23/jupyter/CryptoTraderRemote/CryptoTrader/data_utils/twitter_data/twitterscraper/query.py\", line 54, in query_single_page\n",
      "    json_resp = json.loads(response.text)\n",
      "  File \"/usr/lib/python3.5/json/__init__.py\", line 319, in loads\n",
      "    return _default_decoder.decode(s)\n",
      "  File \"/usr/lib/python3.5/json/decoder.py\", line 339, in decode\n",
      "    obj, end = self.raw_decode(s, idx=_w(s, 0).end())\n",
      "  File \"/usr/lib/python3.5/json/decoder.py\", line 357, in raw_decode\n",
      "    raise JSONDecodeError(\"Expecting value\", s, err.value) from None\n",
      "json.decoder.JSONDecodeError: Expecting value: line 1 column 1 (char 0)\n",
      "INFO:root:Retrying... (Attempts left: 10)\n",
      "ERROR:root:Failed to parse JSON \"Expecting value: line 1 column 1 (char 0)\" while requesting \"https://twitter.com/i/search/timeline?vertical=default&include_available_features=1&include_entities=1&reset_error_state=false&src=typd&max_position=TWEET-888010066540068868-888180203670966273-BD1UO2FFu9QAAAAAAAAVfAAAAAcAAABWAAAAAAAAAAAAAAAAAAAAAAAAAAAAAAAAAAAAAAAAAAAAAAAAAAAAAAAAAAAAAAAAAAAAAAAAAAAAAAAAAAAAAAAAAAAAAAAAAAAAAAAAAAAAAAAAAAAAAAAAAAAAAAAAAAAAAAAAAAAAAAAAAAAAAAAAAAAAAAAAAAAAAAAAAAAAAAAAAAAAAAAAAAAAAAAAAAAAAAAAAAAAAAAAAAAAAAAAAAAAAAAAAAAAAAAAAAAAAAAAAAAAAAAAAAAAAAAAAAAAAAAAAAAAAAAAAAAAAAAAAAAAAAAAAAAAAAAAAAAAAAAAAAAAAAAAAAAAAAAAAAAAAAAAAAAAAAAAAAAAAAAAAAAAAAAAAAAAAAAAAAAAAAAAAAAAAAAAAAAAAAAAAAAAAAAAAAAAAAAAAAAAAAAAAAAAAAAAAAAAAAAAAAAAAAAAAAAAAAAAAAAAAAAAAAAAAAAAAAAAAAAAAAAAAAAAAAAAAAAAAAAAAAAAAAAAAAAAAAAAAAAAAAAAAAAAAAAAAAAAAAAAAAAAAAAAAAAAAAAAAAAAAAAAAAAAAAAAAAAAAAAAAAAAAAAAAAAAAAAAAAAAAAAAAAAAAAAAAAAAAAAAAAAAAAAAAAAAAAAAAAAAAAAAAAAAAAAAAAAAAAAAAAAAAAAAAAAAAAAAAAAAAAAAAAAAAAAAAAAAAAAAAAAAAAAAAAAAAAAAAAAAAAAAAAAAAAAAAAAAAAAAAAAAAAAAAAAAAAAAAAAAAAAAAAAAAAAAAAAAAAAAAAAAAAAAAAAAAAAAAAAAAAAAAAAAAAAAAAAAAAAAAAAAAAAAAAAAAAAAAAAAAAAAAAAAAAAAAAAAAAAAAAAAAAAAAAAAAAAAAAAAAAAAAAAAAAAAAAAAAAAAAAAAAAAAAAAAAAAAAAAAAAAAAAAAAAAAAA==-T-0-9&q=bitcoin%20since%3A2017-07-20%20until%3A2017-07-21&l=\".\n",
      "Traceback (most recent call last):\n",
      "  File \"/home/shresthanikesh23/jupyter/CryptoTraderRemote/CryptoTrader/data_utils/twitter_data/twitterscraper/query.py\", line 54, in query_single_page\n",
      "    json_resp = json.loads(response.text)\n",
      "  File \"/usr/lib/python3.5/json/__init__.py\", line 319, in loads\n",
      "    return _default_decoder.decode(s)\n",
      "  File \"/usr/lib/python3.5/json/decoder.py\", line 339, in decode\n",
      "    obj, end = self.raw_decode(s, idx=_w(s, 0).end())\n",
      "  File \"/usr/lib/python3.5/json/decoder.py\", line 357, in raw_decode\n",
      "    raise JSONDecodeError(\"Expecting value\", s, err.value) from None\n",
      "json.decoder.JSONDecodeError: Expecting value: line 1 column 1 (char 0)\n",
      "INFO:root:Retrying... (Attempts left: 10)\n",
      "INFO:root:Got 297 tweets for bitcoin%20since%3A2017-07-22%20until%3A2017-07-23.\n",
      "INFO:root:Got 297 tweets (297 new).\n",
      "INFO:root:Got 375 tweets for bitcoin%20since%3A2017-07-20%20until%3A2017-07-21.\n",
      "INFO:root:Got 672 tweets (375 new).\n",
      "INFO:root:Got 359 tweets for bitcoin%20since%3A2017-07-21%20until%3A2017-07-22.\n",
      "INFO:root:Got 1031 tweets (359 new).\n",
      "INFO:root:Got 353 tweets for bitcoin%20since%3A2017-07-19%20until%3A2017-07-20.\n",
      "INFO:root:Got 1384 tweets (353 new).\n"
     ]
    }
   ],
   "source": [
    "fill_missing_days()"
   ]
  },
  {
   "cell_type": "code",
   "execution_count": 247,
   "metadata": {},
   "outputs": [],
   "source": [
    "def merge_missing():\n",
    "    for fullPath in get_paths():\n",
    "        coinName = fullPath.split(\"/\")[-2]\n",
    "        \n",
    "        df = pd.read_csv('{}/combined.csv'.format(fullPath), engine='python')\n",
    "        missing = pd.read_csv('{}/missing.csv'.format(fullPath), engine='python')[['ID', 'Tweet', 'Time', 'User', 'Likes', 'Replies', 'Retweet', 'in_response_to']]\n",
    "        \n",
    "        combined = pd.concat([df,missing])\n",
    "        newDf = clean_data(combined)\n",
    "        \n",
    "        newDf.to_csv('{}/combined.csv'.format(fullPath), index=False)\n",
    "        print(\"New Data Written to combined.csv\")\n",
    "        os.remove('{}/missing.csv'.format(fullPath))\n",
    "        print(\"missing.csv removed\")"
   ]
  },
  {
   "cell_type": "code",
   "execution_count": 248,
   "metadata": {},
   "outputs": [
    {
     "name": "stdout",
     "output_type": "stream",
     "text": [
      "New Data Written to combined.csv\n",
      "missing.csv removed\n",
      "New Data Written to combined.csv\n",
      "missing.csv removed\n",
      "New Data Written to combined.csv\n",
      "missing.csv removed\n",
      "New Data Written to combined.csv\n",
      "missing.csv removed\n",
      "New Data Written to combined.csv\n",
      "missing.csv removed\n",
      "New Data Written to combined.csv\n",
      "missing.csv removed\n",
      "New Data Written to combined.csv\n",
      "missing.csv removed\n",
      "New Data Written to combined.csv\n",
      "missing.csv removed\n"
     ]
    }
   ],
   "source": [
    "merge_missing()"
   ]
  },
  {
   "cell_type": "code",
   "execution_count": 253,
   "metadata": {},
   "outputs": [],
   "source": [
    "def print_missing(freq=24):\n",
    "    for fullPath in get_paths():\n",
    "        coinName = fullPath.split(\"/\")[-2]\n",
    "        \n",
    "        df = pd.read_csv('{}/combined.csv'.format(fullPath), engine='python')\n",
    "        coinName = fullPath.split(\"/\")[-2]\n",
    "        \n",
    "        print(coinName)\n",
    "        print(get_missing_days(df, freq=freq))"
   ]
  },
  {
   "cell_type": "code",
   "execution_count": 254,
   "metadata": {},
   "outputs": [
    {
     "name": "stdout",
     "output_type": "stream",
     "text": [
      "ripple\n",
      "DatetimeIndex(['2015-01-01', '2016-02-02', '2016-02-29'], dtype='datetime64[ns]', name='Time', freq=None)\n",
      "dogecoin\n",
      "DatetimeIndex([], dtype='datetime64[ns]', name='Time', freq='12H')\n",
      "monero\n",
      "DatetimeIndex(['2017-02-13'], dtype='datetime64[ns]', name='Time', freq='12H')\n",
      "stellar\n",
      "DatetimeIndex([], dtype='datetime64[ns]', name='Time', freq='12H')\n",
      "litecoin\n",
      "DatetimeIndex([], dtype='datetime64[ns]', name='Time', freq='12H')\n",
      "ethereum\n",
      "DatetimeIndex(['2018-05-06 00:00:00', '2018-05-06 12:00:00'], dtype='datetime64[ns]', name='Time', freq='12H')\n",
      "dash\n",
      "DatetimeIndex([], dtype='datetime64[ns]', name='Time', freq='12H')\n",
      "bitcoin\n",
      "DatetimeIndex([], dtype='datetime64[ns]', name='Time', freq='12H')\n"
     ]
    }
   ],
   "source": [
    "print_missing(freq=12)"
   ]
  },
  {
   "cell_type": "code",
   "execution_count": null,
   "metadata": {},
   "outputs": [],
   "source": []
  }
 ],
 "metadata": {
  "kernelspec": {
   "display_name": "Python 3",
   "language": "python",
   "name": "python3"
  },
  "language_info": {
   "codemirror_mode": {
    "name": "ipython",
    "version": 3
   },
   "file_extension": ".py",
   "mimetype": "text/x-python",
   "name": "python",
   "nbconvert_exporter": "python",
   "pygments_lexer": "ipython3",
   "version": "3.5.2"
  }
 },
 "nbformat": 4,
 "nbformat_minor": 2
}
