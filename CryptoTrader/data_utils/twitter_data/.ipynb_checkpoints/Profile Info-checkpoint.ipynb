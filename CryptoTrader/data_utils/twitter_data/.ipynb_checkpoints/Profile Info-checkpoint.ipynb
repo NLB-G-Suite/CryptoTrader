{
 "cells": [
  {
   "cell_type": "code",
   "execution_count": 1,
   "metadata": {},
   "outputs": [],
   "source": [
    "from profilescraper import query_profile"
   ]
  },
  {
   "cell_type": "code",
   "execution_count": 2,
   "metadata": {},
   "outputs": [],
   "source": [
    "import logging\n",
    "logger = logging.getLogger()\n",
    "logger.setLevel(logging.INFO)\n",
    "\n",
    "%load_ext autoreload\n",
    "%autoreload 2"
   ]
  },
  {
   "cell_type": "code",
   "execution_count": 4,
   "metadata": {},
   "outputs": [
    {
     "name": "stderr",
     "output_type": "stream",
     "text": [
      "INFO:root:Querying https://twitter.com/warproxxx\n",
      "INFO:root:Querying https://twitter.com/brainsmoke\n",
      "INFO:root:Querying https://twitter.com/elonmusk\n",
      "INFO:root:Querying https://twitter.com/realDonaldTrump\n",
      "INFO:root:Got 1 profiles (1 new).\n",
      "INFO:root:Querying https://twitter.com/eric\n",
      "INFO:root:Got 2 profiles (1 new).\n",
      "INFO:root:Querying https://twitter.com/peterthiel\n",
      "INFO:root:Got 3 profiles (1 new).\n",
      "INFO:root:Querying https://twitter.com/jimmysong\n",
      "INFO:root:Got 4 profiles (1 new).\n",
      "INFO:root:Querying https://twitter.com/nosunkcost\n",
      "INFO:root:Got 4 profiles (0 new).\n",
      "INFO:root:Querying https://twitter.com/safenetforum\n",
      "INFO:root:Got 5 profiles (1 new).\n",
      "INFO:root:Querying https://twitter.com/ojha_anjal\n",
      "INFO:root:Got 5 profiles (0 new).\n",
      "INFO:root:Querying https://twitter.com/waitbutwhy\n",
      "INFO:root:Got 6 profiles (1 new).\n",
      "INFO:root:Got 7 profiles (1 new).\n",
      "INFO:root:Got 8 profiles (1 new).\n",
      "INFO:root:Got 9 profiles (1 new).\n"
     ]
    }
   ],
   "source": [
    "profiles = query_profile([\"tao_lin\", \"verge\", \"malala\", \"newscientist\", \"cgpgrey\", \"Liv_Boeree\", \"Grimezsz\"], poolsize=4)"
   ]
  },
  {
   "cell_type": "code",
   "execution_count": 10,
   "metadata": {},
   "outputs": [
    {
     "name": "stdout",
     "output_type": "stream",
     "text": [
      "26\n",
      "1099\n",
      "25\n",
      "2\n",
      "3098\n",
      "12674\n"
     ]
    }
   ],
   "source": [
    "for profile in profiles:\n",
    "    print(profile.total_likes)"
   ]
  },
  {
   "cell_type": "code",
   "execution_count": null,
   "metadata": {},
   "outputs": [],
   "source": []
  }
 ],
 "metadata": {
  "kernelspec": {
   "display_name": "Python 3",
   "language": "python",
   "name": "python3"
  },
  "language_info": {
   "codemirror_mode": {
    "name": "ipython",
    "version": 3
   },
   "file_extension": ".py",
   "mimetype": "text/x-python",
   "name": "python",
   "nbconvert_exporter": "python",
   "pygments_lexer": "ipython3",
   "version": "3.5.3"
  }
 },
 "nbformat": 4,
 "nbformat_minor": 2
}
