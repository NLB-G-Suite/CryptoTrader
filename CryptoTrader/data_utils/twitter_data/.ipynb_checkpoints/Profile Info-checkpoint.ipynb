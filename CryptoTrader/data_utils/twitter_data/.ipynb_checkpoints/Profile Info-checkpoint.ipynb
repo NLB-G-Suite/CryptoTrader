{
 "cells": [
  {
   "cell_type": "code",
   "execution_count": 115,
   "metadata": {},
   "outputs": [],
   "source": [
    "from multiprocessing.pool import Pool\n",
    "import requests\n",
    "import json\n",
    "import random\n",
    "import logging\n",
    "\n",
    "from datetime import datetime\n",
    "from bs4 import BeautifulSoup\n",
    "\n",
    "from datetime import datetime"
   ]
  },
  {
   "cell_type": "code",
   "execution_count": 4,
   "metadata": {},
   "outputs": [],
   "source": [
    "HEADERS_LIST = ['Mozilla/5.0 (Windows NT 10.0; Win64; x64) AppleWebKit/537.36 (KHTML, like Gecko) Chrome/67.0.3396.79 Safari/537.36', 'Mozilla/5.0 (Windows NT 10.0; Win64; x64; rv:60.0) Gecko/20100101 Firefox/60.0', 'Mozilla/5.0 (X11; Linux x86_64; rv:58.0) Gecko/20100101 Firefox/58.0']"
   ]
  },
  {
   "cell_type": "code",
   "execution_count": 162,
   "metadata": {},
   "outputs": [],
   "source": [
    "def get_profile_data(soup):\n",
    "    sideBar = soup.find('div', 'ProfileHeaderCard')\n",
    "    \n",
    "    location = sideBar.find('div', 'ProfileHeaderCard-location').get_text().strip() or 0\n",
    "    print(location)\n",
    "    \n",
    "    joined = sideBar.find('span', 'ProfileHeaderCard-joinDateText')['title']\n",
    "    \n",
    "    try:\n",
    "        age = (datetime.now() - datetime.strptime(joined, \"%I:%M %p - %d %b %Y\")).days\n",
    "    except:\n",
    "        age = 0\n",
    "        \n",
    "    print(age)\n",
    "    \n",
    "    verified = 0 if sideBar.find('span', 'Icon--verified') == None else 1\n",
    "    print(verified)\n",
    "    \n",
    "    topBar = soup.find('ul',  'ProfileNav-list')\n",
    "    \n",
    "    tweets = topBar.find('li', 'ProfileNav-item--tweets').find('span', 'ProfileNav-value')['data-count']\n",
    "    print(tweets)\n",
    "    \n",
    "    following = topBar.find('li', 'ProfileNav-item--following').find('span', 'ProfileNav-value')['data-count']\n",
    "    print(following)\n",
    "    \n",
    "    followers = topBar.find('li', 'ProfileNav-item--followers').find('span', 'ProfileNav-value')['data-count']\n",
    "    print(followers)\n",
    "    \n",
    "    likes = topBar.find('li', 'ProfileNav-item--favorites').find('span', 'ProfileNav-value')['data-count']\n",
    "    print(likes)\n",
    "    \n",
    "    #also ProfileNav-item--moments\n",
    "    \n",
    "    try:\n",
    "        listCount = topBar.find('li', 'ProfileNav-item--lists').find('span', 'ProfileNav-value')['data-count']\n",
    "    except:\n",
    "        listCount = 0\n",
    "        \n",
    "    print(listCount)\n",
    "    \n",
    "    has_avatar = 0 if 'default_profile_images' in soup.find('img', 'ProfileAvatar-image')['src'] else 1\n",
    "    print(has_avatar)\n",
    "    \n",
    "    try:\n",
    "        soup.find('div', 'ProfileCanopy-headerBg').find('img')['src']\n",
    "        has_background = 1\n",
    "    except:\n",
    "        has_background = 0\n",
    "    \n",
    "    print(has_background)\n",
    "    \n",
    "    try:\n",
    "        a = soup.find('h2', 'ProtectedTimeline-heading')\n",
    "        protected = 1\n",
    "    except:\n",
    "        protected = 0\n",
    "        \n",
    "    print(protected)"
   ]
  },
  {
   "cell_type": "code",
   "execution_count": 168,
   "metadata": {},
   "outputs": [],
   "source": [
    "def get_soup(username):\n",
    "    url = \"https://twitter.com/{}\"\n",
    "    headers = {'User-Agent': random.choice(HEADERS_LIST)}\n",
    "    response = requests.get(url.format(username), headers=headers)\n",
    "\n",
    "    html = response.text\n",
    "    soup = BeautifulSoup(html, \"lxml\")\n",
    "    return soup"
   ]
  },
  {
   "cell_type": "code",
   "execution_count": 170,
   "metadata": {},
   "outputs": [],
   "source": [
    "soup = get_soup('elonmusk')"
   ]
  },
  {
   "cell_type": "code",
   "execution_count": 178,
   "metadata": {
    "scrolled": true
   },
   "outputs": [
    {
     "ename": "AttributeError",
     "evalue": "'NoneType' object has no attribute 'find'",
     "output_type": "error",
     "traceback": [
      "\u001b[1;31m---------------------------------------------------------------------------\u001b[0m",
      "\u001b[1;31mAttributeError\u001b[0m                            Traceback (most recent call last)",
      "\u001b[1;32m<ipython-input-178-d46e5cf46475>\u001b[0m in \u001b[0;36m<module>\u001b[1;34m()\u001b[0m\n\u001b[1;32m----> 1\u001b[1;33m \u001b[0mjoined\u001b[0m \u001b[1;33m=\u001b[0m \u001b[0mget_profile_data\u001b[0m\u001b[1;33m(\u001b[0m\u001b[0msoup\u001b[0m\u001b[1;33m)\u001b[0m\u001b[1;33m\u001b[0m\u001b[0m\n\u001b[0m",
      "\u001b[1;32m<ipython-input-162-7cf7ff0d8158>\u001b[0m in \u001b[0;36mget_profile_data\u001b[1;34m(username)\u001b[0m\n\u001b[0;32m      9\u001b[0m     \u001b[0msideBar\u001b[0m \u001b[1;33m=\u001b[0m \u001b[0msoup\u001b[0m\u001b[1;33m.\u001b[0m\u001b[0mfind\u001b[0m\u001b[1;33m(\u001b[0m\u001b[1;34m'div'\u001b[0m\u001b[1;33m,\u001b[0m \u001b[1;34m'ProfileHeaderCard'\u001b[0m\u001b[1;33m)\u001b[0m\u001b[1;33m\u001b[0m\u001b[0m\n\u001b[0;32m     10\u001b[0m \u001b[1;33m\u001b[0m\u001b[0m\n\u001b[1;32m---> 11\u001b[1;33m     \u001b[0mlocation\u001b[0m \u001b[1;33m=\u001b[0m \u001b[0msideBar\u001b[0m\u001b[1;33m.\u001b[0m\u001b[0mfind\u001b[0m\u001b[1;33m(\u001b[0m\u001b[1;34m'div'\u001b[0m\u001b[1;33m,\u001b[0m \u001b[1;34m'ProfileHeaderCard-location'\u001b[0m\u001b[1;33m)\u001b[0m\u001b[1;33m.\u001b[0m\u001b[0mget_text\u001b[0m\u001b[1;33m(\u001b[0m\u001b[1;33m)\u001b[0m\u001b[1;33m.\u001b[0m\u001b[0mstrip\u001b[0m\u001b[1;33m(\u001b[0m\u001b[1;33m)\u001b[0m \u001b[1;32mor\u001b[0m \u001b[1;36m0\u001b[0m\u001b[1;33m\u001b[0m\u001b[0m\n\u001b[0m\u001b[0;32m     12\u001b[0m     \u001b[0mprint\u001b[0m\u001b[1;33m(\u001b[0m\u001b[0mlocation\u001b[0m\u001b[1;33m)\u001b[0m\u001b[1;33m\u001b[0m\u001b[0m\n\u001b[0;32m     13\u001b[0m \u001b[1;33m\u001b[0m\u001b[0m\n",
      "\u001b[1;31mAttributeError\u001b[0m: 'NoneType' object has no attribute 'find'"
     ]
    }
   ],
   "source": [
    "joined = get_profile_data(soup)"
   ]
  },
  {
   "cell_type": "code",
   "execution_count": 72,
   "metadata": {},
   "outputs": [],
   "source": [
    "#default profile settings or customized?"
   ]
  }
 ],
 "metadata": {
  "kernelspec": {
   "display_name": "Python 3",
   "language": "python",
   "name": "python3"
  },
  "language_info": {
   "codemirror_mode": {
    "name": "ipython",
    "version": 3
   },
   "file_extension": ".py",
   "mimetype": "text/x-python",
   "name": "python",
   "nbconvert_exporter": "python",
   "pygments_lexer": "ipython3",
   "version": "3.6.5"
  }
 },
 "nbformat": 4,
 "nbformat_minor": 2
}
