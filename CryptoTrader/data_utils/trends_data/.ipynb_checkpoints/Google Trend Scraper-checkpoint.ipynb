{
 "cells": [
  {
   "cell_type": "code",
   "execution_count": 1,
   "metadata": {},
   "outputs": [],
   "source": [
    "from selenium import webdriver\n",
    "from selenium.webdriver.common.keys import Keys\n",
    "from selenium.webdriver.support import expected_conditions as EC\n",
    "from selenium.webdriver.common.by import By\n",
    "from selenium.webdriver.common.action_chains import ActionChains\n",
    "from selenium.webdriver.support.ui import Select, WebDriverWait\n",
    "from selenium.common.exceptions import TimeoutException\n",
    "\n",
    "from bs4 import BeautifulSoup\n",
    "\n",
    "import pandas as pd\n",
    "\n",
    "import time\n",
    "\n",
    "from datetime import date\n",
    "from dateutil.rrule import rrule, DAILY, MONTHLY\n",
    "\n",
    "import os.path\n",
    "import os"
   ]
  },
  {
   "cell_type": "code",
   "execution_count": 2,
   "metadata": {},
   "outputs": [],
   "source": [
    "detailsList = []\n",
    "\n",
    "coinDetails = {}\n",
    "coinDetails['name'] = 'Bitcoin'\n",
    "coinDetails['start'] = date(2013, 1, 1)\n",
    "coinDetails['end'] = date(2018, 5, 12)\n",
    "detailsList.append(coinDetails)\n",
    "\n",
    "coinDetails = {}\n",
    "coinDetails['name'] = 'Dashpay'\n",
    "coinDetails['start'] = date(2013, 12, 15)\n",
    "coinDetails['end'] = date(2018, 5, 12)\n",
    "detailsList.append(coinDetails)\n",
    "\n",
    "coinDetails = {}\n",
    "coinDetails['name'] = 'Dogecoin'\n",
    "coinDetails['start'] = date(2013, 1, 1)\n",
    "coinDetails['end'] = date(2018, 5, 12)\n",
    "detailsList.append(coinDetails)\n",
    "\n",
    "coinDetails = {}\n",
    "coinDetails['name'] = 'Ethereum'\n",
    "coinDetails['start'] = date(2015, 8, 8)\n",
    "coinDetails['end'] = date(2018, 5, 12)\n",
    "detailsList.append(coinDetails)\n",
    "\n",
    "coinDetails = {}\n",
    "coinDetails['name'] = 'Litecoin'\n",
    "coinDetails['start'] = date(2013, 5, 5)\n",
    "coinDetails['end'] = date(2018, 5, 12)\n",
    "detailsList.append(coinDetails)\n",
    "\n",
    "coinDetails = {}\n",
    "coinDetails['name'] = 'Monero'\n",
    "coinDetails['start'] = date(2014, 5, 21)\n",
    "coinDetails['end'] = date(2018, 5, 12)\n",
    "detailsList.append(coinDetails)\n",
    "\n",
    "coinDetails = {}\n",
    "coinDetails['name'] = 'Ripple'\n",
    "coinDetails['start'] = date(2013, 8, 5)\n",
    "coinDetails['end'] = date(2018, 5, 12)\n",
    "detailsList.append(coinDetails)\n",
    "\n",
    "coinDetails = {}\n",
    "coinDetails['name'] = 'Stellar'\n",
    "coinDetails['start'] = date(2014, 8, 5)\n",
    "coinDetails['end'] = date(2018, 5, 12)\n",
    "detailsList.append(coinDetails)"
   ]
  },
  {
   "cell_type": "code",
   "execution_count": 4,
   "metadata": {},
   "outputs": [],
   "source": [
    "profile = webdriver.FirefoxProfile()\n",
    "profile.set_preference(\"browser.download.folderList\", 2)\n",
    "profile.set_preference(\"browser.download.manager.showWhenStarting\", False)\n",
    "profile.set_preference(\"browser.download.dir\", 'C:\\trendsData')\n",
    "profile.set_preference(\"browser.helperApps.neverAsk.saveToDisk\", \"application/json, application/x-download\")\n",
    "\n",
    "driver = webdriver.Firefox(firefox_profile=profile)\n",
    "\n",
    "url = 'https://trends.google.com/trends/explore?date={}%20{}&q={}'"
   ]
  },
  {
   "cell_type": "code",
   "execution_count": 5,
   "metadata": {},
   "outputs": [
    {
     "name": "stdout",
     "output_type": "stream",
     "text": [
      "Scraping Bitcoin monthly from Google Trends\n",
      "Scraping Dashpay monthly from Google Trends\n",
      "Scraping Dogecoin monthly from Google Trends\n",
      "Scraping Ethereum monthly from Google Trends\n",
      "Scraping Litecoin monthly from Google Trends\n",
      "Scraping Monero monthly from Google Trends\n",
      "Scraping Ripple monthly from Google Trends\n",
      "Scraping Stellar monthly from Google Trends\n"
     ]
    }
   ],
   "source": [
    "for coinDetail in detailsList:\n",
    "    print(\"Scraping {} monthly from Google Trends\".format(coinDetail['name']))\n",
    "    \n",
    "    "
   ]
  },
  {
   "cell_type": "code",
   "execution_count": null,
   "metadata": {},
   "outputs": [],
   "source": []
  }
 ],
 "metadata": {
  "kernelspec": {
   "display_name": "Python 3",
   "language": "python",
   "name": "python3"
  },
  "language_info": {
   "codemirror_mode": {
    "name": "ipython",
    "version": 3
   },
   "file_extension": ".py",
   "mimetype": "text/x-python",
   "name": "python",
   "nbconvert_exporter": "python",
   "pygments_lexer": "ipython3",
   "version": "3.6.1"
  }
 },
 "nbformat": 4,
 "nbformat_minor": 2
}
