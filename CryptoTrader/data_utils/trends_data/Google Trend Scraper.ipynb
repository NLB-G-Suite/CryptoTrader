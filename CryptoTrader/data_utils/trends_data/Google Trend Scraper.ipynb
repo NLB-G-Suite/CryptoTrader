{
 "cells": [
  {
   "cell_type": "code",
   "execution_count": 6,
   "metadata": {},
   "outputs": [],
   "source": [
    "from selenium import webdriver\n",
    "from selenium.webdriver.common.keys import Keys\n",
    "from selenium.webdriver.support import expected_conditions as EC\n",
    "from selenium.webdriver.common.by import By\n",
    "from selenium.webdriver.common.action_chains import ActionChains\n",
    "from selenium.webdriver.support.ui import Select, WebDriverWait\n",
    "from selenium.common.exceptions import TimeoutException\n",
    "\n",
    "from bs4 import BeautifulSoup\n",
    "\n",
    "import pandas as pd\n",
    "\n",
    "import time\n",
    "\n",
    "from datetime import date\n",
    "from dateutil.rrule import rrule, DAILY, MONTHLY\n",
    "from dateutil.relativedelta import relativedelta\n",
    "\n",
    "import os.path\n",
    "import os\n",
    "\n",
    "import sys"
   ]
  },
  {
   "cell_type": "code",
   "execution_count": 2,
   "metadata": {},
   "outputs": [],
   "source": [
    "detailsList = []\n",
    "\n",
    "coinDetails = {}\n",
    "coinDetails['name'] = 'Bitcoin'\n",
    "coinDetails['start'] = date(2013, 1, 1)\n",
    "coinDetails['end'] = date(2018, 5, 12)\n",
    "detailsList.append(coinDetails)\n",
    "\n",
    "coinDetails = {}\n",
    "coinDetails['name'] = 'Dashpay'\n",
    "coinDetails['start'] = date(2013, 12, 15)\n",
    "coinDetails['end'] = date(2018, 5, 12)\n",
    "detailsList.append(coinDetails)\n",
    "\n",
    "coinDetails = {}\n",
    "coinDetails['name'] = 'Dogecoin'\n",
    "coinDetails['start'] = date(2013, 1, 1)\n",
    "coinDetails['end'] = date(2018, 5, 12)\n",
    "detailsList.append(coinDetails)\n",
    "\n",
    "coinDetails = {}\n",
    "coinDetails['name'] = 'Ethereum'\n",
    "coinDetails['start'] = date(2015, 8, 8)\n",
    "coinDetails['end'] = date(2018, 5, 12)\n",
    "detailsList.append(coinDetails)\n",
    "\n",
    "coinDetails = {}\n",
    "coinDetails['name'] = 'Litecoin'\n",
    "coinDetails['start'] = date(2013, 5, 5)\n",
    "coinDetails['end'] = date(2018, 5, 12)\n",
    "detailsList.append(coinDetails)\n",
    "\n",
    "coinDetails = {}\n",
    "coinDetails['name'] = 'Monero'\n",
    "coinDetails['start'] = date(2014, 5, 21)\n",
    "coinDetails['end'] = date(2018, 5, 12)\n",
    "detailsList.append(coinDetails)\n",
    "\n",
    "coinDetails = {}\n",
    "coinDetails['name'] = 'Ripple'\n",
    "coinDetails['start'] = date(2013, 8, 5)\n",
    "coinDetails['end'] = date(2018, 5, 12)\n",
    "detailsList.append(coinDetails)\n",
    "\n",
    "coinDetails = {}\n",
    "coinDetails['name'] = 'Stellar'\n",
    "coinDetails['start'] = date(2014, 8, 5)\n",
    "coinDetails['end'] = date(2018, 5, 12)\n",
    "detailsList.append(coinDetails)"
   ]
  },
  {
   "cell_type": "code",
   "execution_count": 3,
   "metadata": {},
   "outputs": [],
   "source": [
    "profile = webdriver.FirefoxProfile()\n",
    "profile.set_preference(\"browser.download.folderList\", 2)\n",
    "profile.set_preference(\"browser.download.manager.showWhenStarting\", False)\n",
    "profile.set_preference(\"browser.download.dir\", os.getcwd())\n",
    "profile.set_preference(\"browser.helperApps.neverAsk.saveToDisk\", \"application/json, application/x-download\")\n",
    "\n",
    "driver = webdriver.Firefox(firefox_profile=profile)\n",
    "\n",
    "url = 'https://trends.google.com/trends/explore?date={}%20{}&q={}'"
   ]
  },
  {
   "cell_type": "code",
   "execution_count": 5,
   "metadata": {},
   "outputs": [
    {
     "name": "stdout",
     "output_type": "stream",
     "text": [
      "Scraping Bitcoin monthly from Google Trends\n",
      "https://trends.google.com/trends/explore?date=2013-02-01%202013-03-01&q=Bitcoin\n",
      "https://trends.google.com/trends/explore?date=2013-03-01%202013-04-01&q=Bitcoin\n",
      "https://trends.google.com/trends/explore?date=2013-04-01%202013-05-01&q=Bitcoin\n",
      "https://trends.google.com/trends/explore?date=2013-05-01%202013-06-01&q=Bitcoin\n",
      "https://trends.google.com/trends/explore?date=2013-06-01%202013-07-01&q=Bitcoin"
     ]
    },
    {
     "ename": "KeyboardInterrupt",
     "evalue": "",
     "output_type": "error",
     "traceback": [
      "\u001b[1;31m---------------------------------------------------------------------------\u001b[0m",
      "\u001b[1;31mKeyboardInterrupt\u001b[0m                         Traceback (most recent call last)",
      "\u001b[1;32m<ipython-input-5-86a3d8347036>\u001b[0m in \u001b[0;36m<module>\u001b[1;34m()\u001b[0m\n\u001b[0;32m      6\u001b[0m \u001b[1;33m\u001b[0m\u001b[0m\n\u001b[0;32m      7\u001b[0m     \u001b[1;32mfor\u001b[0m \u001b[0mdt\u001b[0m \u001b[1;32min\u001b[0m \u001b[0mrrule\u001b[0m\u001b[1;33m(\u001b[0m\u001b[0mMONTHLY\u001b[0m\u001b[1;33m,\u001b[0m \u001b[0mdtstart\u001b[0m\u001b[1;33m=\u001b[0m\u001b[0mcoinDetail\u001b[0m\u001b[1;33m[\u001b[0m\u001b[1;34m'start'\u001b[0m\u001b[1;33m]\u001b[0m\u001b[1;33m,\u001b[0m \u001b[0muntil\u001b[0m\u001b[1;33m=\u001b[0m\u001b[0mcoinDetail\u001b[0m\u001b[1;33m[\u001b[0m\u001b[1;34m'end'\u001b[0m\u001b[1;33m]\u001b[0m\u001b[1;33m)\u001b[0m\u001b[1;33m:\u001b[0m\u001b[1;33m\u001b[0m\u001b[0m\n\u001b[1;32m----> 8\u001b[1;33m         \u001b[0mprint\u001b[0m\u001b[1;33m(\u001b[0m\u001b[0murl\u001b[0m\u001b[1;33m.\u001b[0m\u001b[0mformat\u001b[0m\u001b[1;33m(\u001b[0m\u001b[0mold\u001b[0m\u001b[1;33m.\u001b[0m\u001b[0mstrftime\u001b[0m\u001b[1;33m(\u001b[0m\u001b[1;34m'%Y-%m-%d'\u001b[0m\u001b[1;33m)\u001b[0m\u001b[1;33m,\u001b[0m \u001b[0mdt\u001b[0m\u001b[1;33m.\u001b[0m\u001b[0mstrftime\u001b[0m\u001b[1;33m(\u001b[0m\u001b[1;34m'%Y-%m-%d'\u001b[0m\u001b[1;33m)\u001b[0m\u001b[1;33m,\u001b[0m \u001b[0mcoinDetail\u001b[0m\u001b[1;33m[\u001b[0m\u001b[1;34m'name'\u001b[0m\u001b[1;33m]\u001b[0m\u001b[1;33m)\u001b[0m\u001b[1;33m)\u001b[0m\u001b[1;33m\u001b[0m\u001b[0m\n\u001b[0m\u001b[0;32m      9\u001b[0m         \u001b[0mtime\u001b[0m\u001b[1;33m.\u001b[0m\u001b[0msleep\u001b[0m\u001b[1;33m(\u001b[0m\u001b[1;36m1\u001b[0m\u001b[1;33m)\u001b[0m\u001b[1;33m\u001b[0m\u001b[0m\n\u001b[0;32m     10\u001b[0m \u001b[1;33m\u001b[0m\u001b[0m\n",
      "\u001b[1;32mc:\\programdata\\anaconda3\\lib\\site-packages\\ipykernel\\iostream.py\u001b[0m in \u001b[0;36mwrite\u001b[1;34m(self, string)\u001b[0m\n\u001b[0;32m    374\u001b[0m             \u001b[0mis_child\u001b[0m \u001b[1;33m=\u001b[0m \u001b[1;33m(\u001b[0m\u001b[1;32mnot\u001b[0m \u001b[0mself\u001b[0m\u001b[1;33m.\u001b[0m\u001b[0m_is_master_process\u001b[0m\u001b[1;33m(\u001b[0m\u001b[1;33m)\u001b[0m\u001b[1;33m)\u001b[0m\u001b[1;33m\u001b[0m\u001b[0m\n\u001b[0;32m    375\u001b[0m             \u001b[1;31m# only touch the buffer in the IO thread to avoid races\u001b[0m\u001b[1;33m\u001b[0m\u001b[1;33m\u001b[0m\u001b[0m\n\u001b[1;32m--> 376\u001b[1;33m             \u001b[0mself\u001b[0m\u001b[1;33m.\u001b[0m\u001b[0mpub_thread\u001b[0m\u001b[1;33m.\u001b[0m\u001b[0mschedule\u001b[0m\u001b[1;33m(\u001b[0m\u001b[1;32mlambda\u001b[0m \u001b[1;33m:\u001b[0m \u001b[0mself\u001b[0m\u001b[1;33m.\u001b[0m\u001b[0m_buffer\u001b[0m\u001b[1;33m.\u001b[0m\u001b[0mwrite\u001b[0m\u001b[1;33m(\u001b[0m\u001b[0mstring\u001b[0m\u001b[1;33m)\u001b[0m\u001b[1;33m)\u001b[0m\u001b[1;33m\u001b[0m\u001b[0m\n\u001b[0m\u001b[0;32m    377\u001b[0m             \u001b[1;32mif\u001b[0m \u001b[0mis_child\u001b[0m\u001b[1;33m:\u001b[0m\u001b[1;33m\u001b[0m\u001b[0m\n\u001b[0;32m    378\u001b[0m                 \u001b[1;31m# newlines imply flush in subprocesses\u001b[0m\u001b[1;33m\u001b[0m\u001b[1;33m\u001b[0m\u001b[0m\n",
      "\u001b[1;32mc:\\programdata\\anaconda3\\lib\\site-packages\\ipykernel\\iostream.py\u001b[0m in \u001b[0;36mschedule\u001b[1;34m(self, f)\u001b[0m\n\u001b[0;32m    201\u001b[0m             \u001b[0mself\u001b[0m\u001b[1;33m.\u001b[0m\u001b[0m_events\u001b[0m\u001b[1;33m.\u001b[0m\u001b[0mappend\u001b[0m\u001b[1;33m(\u001b[0m\u001b[0mf\u001b[0m\u001b[1;33m)\u001b[0m\u001b[1;33m\u001b[0m\u001b[0m\n\u001b[0;32m    202\u001b[0m             \u001b[1;31m# wake event thread (message content is ignored)\u001b[0m\u001b[1;33m\u001b[0m\u001b[1;33m\u001b[0m\u001b[0m\n\u001b[1;32m--> 203\u001b[1;33m             \u001b[0mself\u001b[0m\u001b[1;33m.\u001b[0m\u001b[0m_event_pipe\u001b[0m\u001b[1;33m.\u001b[0m\u001b[0msend\u001b[0m\u001b[1;33m(\u001b[0m\u001b[1;34mb''\u001b[0m\u001b[1;33m)\u001b[0m\u001b[1;33m\u001b[0m\u001b[0m\n\u001b[0m\u001b[0;32m    204\u001b[0m         \u001b[1;32melse\u001b[0m\u001b[1;33m:\u001b[0m\u001b[1;33m\u001b[0m\u001b[0m\n\u001b[0;32m    205\u001b[0m             \u001b[0mf\u001b[0m\u001b[1;33m(\u001b[0m\u001b[1;33m)\u001b[0m\u001b[1;33m\u001b[0m\u001b[0m\n",
      "\u001b[1;32mzmq\\backend\\cython\\socket.pyx\u001b[0m in \u001b[0;36mzmq.backend.cython.socket.Socket.send\u001b[1;34m()\u001b[0m\n",
      "\u001b[1;32mzmq\\backend\\cython\\socket.pyx\u001b[0m in \u001b[0;36mzmq.backend.cython.socket.Socket.send\u001b[1;34m()\u001b[0m\n",
      "\u001b[1;32mzmq\\backend\\cython\\socket.pyx\u001b[0m in \u001b[0;36mzmq.backend.cython.socket._send_copy\u001b[1;34m()\u001b[0m\n",
      "\u001b[1;32mc:\\programdata\\anaconda3\\lib\\site-packages\\zmq\\backend\\cython\\checkrc.pxd\u001b[0m in \u001b[0;36mzmq.backend.cython.checkrc._check_rc\u001b[1;34m()\u001b[0m\n",
      "\u001b[1;31mKeyboardInterrupt\u001b[0m: "
     ]
    }
   ],
   "source": [
    "for coinDetail in detailsList:\n",
    "    print(\"Scraping {} monthly from Google Trends\".format(coinDetail['name']))\n",
    "    \n",
    "    old = coinDetail['start']\n",
    "    coinDetail['start'] = coinDetail['start'] + relativedelta(months=1)\n",
    "    \n",
    "    for dt in rrule(MONTHLY, dtstart=coinDetail['start'], until=coinDetail['end']):\n",
    "        goURL = url.format(old.strftime('%Y-%m-%d'), dt.strftime('%Y-%m-%d'), coinDetail['name'])\n",
    "        time.sleep(3)\n",
    "        \n",
    "        driver.get(goURL)\n",
    "        \n",
    "        try:\n",
    "            elem = WebDriverWait(driver, 2).until(EC.presence_of_element_located((By.CSS, 'i.material-icons-extended.gray')))\n",
    "        except TimeoutException:\n",
    "            sys.exit(\"Too much time\")\n",
    "        \n",
    "        driver.find_elements_by_css_selector('i.material-icons-extended.gray').click()\n",
    "        time.sleep(2)\n",
    "        \n",
    "        os.rename('{}/multiTimeline.csv'.format(os.getcwd()), '{}/{}-{}-{}.csv'.format(os.getcwd(), old.strftime('%Y-%m-%d'), dt.strftime('%Y-%m-%d'), coinDetail['name']))\n",
    "        \n",
    "        old  = dt"
   ]
  },
  {
   "cell_type": "code",
   "execution_count": 8,
   "metadata": {},
   "outputs": [
    {
     "data": {
      "text/plain": [
       "'C:\\\\Users\\\\User\\\\Desktop\\\\Algo Trading\\\\CryptoTraderRemote\\\\CryptoTrader\\\\data_utils\\\\trends_data'"
      ]
     },
     "execution_count": 8,
     "metadata": {},
     "output_type": "execute_result"
    }
   ],
   "source": []
  },
  {
   "cell_type": "code",
   "execution_count": null,
   "metadata": {},
   "outputs": [],
   "source": []
  }
 ],
 "metadata": {
  "kernelspec": {
   "display_name": "Python 3",
   "language": "python",
   "name": "python3"
  },
  "language_info": {
   "codemirror_mode": {
    "name": "ipython",
    "version": 3
   },
   "file_extension": ".py",
   "mimetype": "text/x-python",
   "name": "python",
   "nbconvert_exporter": "python",
   "pygments_lexer": "ipython3",
   "version": "3.6.1"
  }
 },
 "nbformat": 4,
 "nbformat_minor": 2
}
