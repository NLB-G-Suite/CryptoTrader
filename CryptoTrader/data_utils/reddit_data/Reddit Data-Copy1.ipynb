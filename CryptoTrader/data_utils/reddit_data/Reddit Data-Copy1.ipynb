{
 "cells": [
  {
   "cell_type": "code",
   "execution_count": 2,
   "metadata": {
    "scrolled": true
   },
   "outputs": [],
   "source": [
    "from redditManager import redditManager\n",
    "from timesearch import timesearch\n",
    "%load_ext autoreload\n",
    "%autoreload 2"
   ]
  },
  {
   "cell_type": "code",
   "execution_count": 3,
   "metadata": {},
   "outputs": [],
   "source": [
    "rm = redditManager()"
   ]
  },
  {
   "cell_type": "code",
   "execution_count": 4,
   "metadata": {},
   "outputs": [],
   "source": [
    "rm.downloader()"
   ]
  },
  {
   "cell_type": "code",
   "execution_count": 5,
   "metadata": {},
   "outputs": [],
   "source": [
    "import pandas as pd"
   ]
  },
  {
   "cell_type": "code",
   "execution_count": 43,
   "metadata": {},
   "outputs": [],
   "source": [
    "ripple = rm.sql_to_pandas(\"Ripple\")"
   ]
  },
  {
   "cell_type": "code",
   "execution_count": 44,
   "metadata": {},
   "outputs": [
    {
     "data": {
      "text/html": [
       "<div>\n",
       "<style scoped>\n",
       "    .dataframe tbody tr th:only-of-type {\n",
       "        vertical-align: middle;\n",
       "    }\n",
       "\n",
       "    .dataframe tbody tr th {\n",
       "        vertical-align: top;\n",
       "    }\n",
       "\n",
       "    .dataframe thead th {\n",
       "        text-align: right;\n",
       "    }\n",
       "</style>\n",
       "<table border=\"1\" class=\"dataframe\">\n",
       "  <thead>\n",
       "    <tr style=\"text-align: right;\">\n",
       "      <th></th>\n",
       "      <th>created</th>\n",
       "      <th>author</th>\n",
       "      <th>title</th>\n",
       "      <th>url</th>\n",
       "      <th>score</th>\n",
       "      <th>num_comments</th>\n",
       "      <th>flair_text</th>\n",
       "      <th>selftext</th>\n",
       "    </tr>\n",
       "  </thead>\n",
       "  <tbody>\n",
       "    <tr>\n",
       "      <th>0</th>\n",
       "      <td>1255535455</td>\n",
       "      <td>KISteam</td>\n",
       "      <td>Aegon releases $650m of capital</td>\n",
       "      <td>http://www.insuranceerm.com/news-comment/aegon...</td>\n",
       "      <td>1</td>\n",
       "      <td>0</td>\n",
       "      <td>None</td>\n",
       "      <td></td>\n",
       "    </tr>\n",
       "    <tr>\n",
       "      <th>1</th>\n",
       "      <td>1316695135</td>\n",
       "      <td>[deleted]</td>\n",
       "      <td>On Ripple</td>\n",
       "      <td>http://newmeraire.blogspot.com/2011/09/on-ripp...</td>\n",
       "      <td>1</td>\n",
       "      <td>0</td>\n",
       "      <td>None</td>\n",
       "      <td></td>\n",
       "    </tr>\n",
       "    <tr>\n",
       "      <th>2</th>\n",
       "      <td>1346189292</td>\n",
       "      <td>60177756</td>\n",
       "      <td>If you're looking for the Ripple payment syste...</td>\n",
       "      <td>http://www.reddit.com/r/ripplers</td>\n",
       "      <td>3</td>\n",
       "      <td>1</td>\n",
       "      <td>None</td>\n",
       "      <td></td>\n",
       "    </tr>\n",
       "    <tr>\n",
       "      <th>3</th>\n",
       "      <td>1361459583</td>\n",
       "      <td>HostFat</td>\n",
       "      <td>Ripple Giveaway!</td>\n",
       "      <td>https://bitcointalk.org/index.php?topic=145506</td>\n",
       "      <td>4</td>\n",
       "      <td>12</td>\n",
       "      <td>None</td>\n",
       "      <td></td>\n",
       "    </tr>\n",
       "    <tr>\n",
       "      <th>4</th>\n",
       "      <td>1363923139</td>\n",
       "      <td>ahbritto</td>\n",
       "      <td>Ripple Meetup</td>\n",
       "      <td>http://www.meetup.com/ripple/</td>\n",
       "      <td>11</td>\n",
       "      <td>0</td>\n",
       "      <td>None</td>\n",
       "      <td></td>\n",
       "    </tr>\n",
       "  </tbody>\n",
       "</table>\n",
       "</div>"
      ],
      "text/plain": [
       "      created     author                                              title  \\\n",
       "0  1255535455    KISteam                    Aegon releases $650m of capital   \n",
       "1  1316695135  [deleted]                                          On Ripple   \n",
       "2  1346189292   60177756  If you're looking for the Ripple payment syste...   \n",
       "3  1361459583    HostFat                                   Ripple Giveaway!   \n",
       "4  1363923139   ahbritto                                      Ripple Meetup   \n",
       "\n",
       "                                                 url  score  num_comments  \\\n",
       "0  http://www.insuranceerm.com/news-comment/aegon...      1             0   \n",
       "1  http://newmeraire.blogspot.com/2011/09/on-ripp...      1             0   \n",
       "2                   http://www.reddit.com/r/ripplers      3             1   \n",
       "3     https://bitcointalk.org/index.php?topic=145506      4            12   \n",
       "4                      http://www.meetup.com/ripple/     11             0   \n",
       "\n",
       "  flair_text selftext  \n",
       "0       None           \n",
       "1       None           \n",
       "2       None           \n",
       "3       None           \n",
       "4       None           "
      ]
     },
     "execution_count": 44,
     "metadata": {},
     "output_type": "execute_result"
    }
   ],
   "source": [
    "ripple.head()"
   ]
  },
  {
   "cell_type": "code",
   "execution_count": 45,
   "metadata": {},
   "outputs": [],
   "source": [
    "xrp = pd.read_csv('../../CryptoScraper/cache/XRP.csv')"
   ]
  },
  {
   "cell_type": "code",
   "execution_count": null,
   "metadata": {},
   "outputs": [],
   "source": []
  },
  {
   "cell_type": "code",
   "execution_count": 47,
   "metadata": {},
   "outputs": [],
   "source": [
    "ripple = ripple[ripple['created'] >= xrp['Date'][0]].reset_index(drop=True)"
   ]
  },
  {
   "cell_type": "code",
   "execution_count": null,
   "metadata": {},
   "outputs": [],
   "source": []
  }
 ],
 "metadata": {
  "kernelspec": {
   "display_name": "Python 3",
   "language": "python",
   "name": "python3"
  },
  "language_info": {
   "codemirror_mode": {
    "name": "ipython",
    "version": 3
   },
   "file_extension": ".py",
   "mimetype": "text/x-python",
   "name": "python",
   "nbconvert_exporter": "python",
   "pygments_lexer": "ipython3",
   "version": "3.5.3"
  }
 },
 "nbformat": 4,
 "nbformat_minor": 2
}
