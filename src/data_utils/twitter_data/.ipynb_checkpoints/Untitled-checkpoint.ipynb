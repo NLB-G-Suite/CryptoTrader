{
 "cells": [
  {
   "cell_type": "code",
   "execution_count": 2,
   "metadata": {},
   "outputs": [],
   "source": [
    "import threading\n",
    "import os\n",
    "\n",
    "import time\n",
    "import datetime\n",
    "from dateutil.relativedelta import relativedelta\n",
    "\n",
    "import pandas as pd\n",
    "import numpy as np\n",
    "\n",
    "from libs.reading_utils import get_keywords, get_proxies, get_custom_keywords\n",
    "from libs.writing_utils import get_logger, get_locations\n",
    "from processor import historicProcessor, profileProcessor\n",
    "\n",
    "from twitterscraper import query_historic_tweets\n",
    "from livescraper import query_live_tweets\n",
    "\n",
    "import tweepy"
   ]
  },
  {
   "cell_type": "code",
   "execution_count": 3,
   "metadata": {},
   "outputs": [],
   "source": [
    "def download_live(keywords, logger):\n",
    "    qt = query_live_tweets(keywords)\n",
    "    listener, auth = qt.get_listener(create=True)\n",
    "\n",
    "    while True:\n",
    "        try:\n",
    "            qt.perform_search()\n",
    "        except KeyboardInterrupt:\n",
    "            logger.warning(\"Keyboard interrupted. Saving whatever has been collected\")\n",
    "            df, userData, start_time = listener.get_data()\n",
    "            t1 = threading.Thread(target=qt.save_data, args=[df, userData, start_time, int(time.time())])\n",
    "            t1.start()\n",
    "            break\n",
    "        except Exception as e:\n",
    "            logger.warning(('Got an exception. Error is: {}. Saving whatever exists').format(str(e)))    \n",
    "            df, userData, start_time = listener.get_data()\n",
    "            t1 = threading.Thread(target=qt.save_data, args=[df, userData, start_time, int(time.time())])\n",
    "            t1.start()\n",
    "\n",
    "liveKeywords, historicList = get_keywords()\n",
    "proxies = get_proxies()\n",
    "\n",
    "_, currRoot_dir = get_locations() \n",
    "logger = get_logger(currRoot_dir + '/logs/run_live.txt')"
   ]
  },
  {
   "cell_type": "code",
   "execution_count": 4,
   "metadata": {},
   "outputs": [],
   "source": [
    "auth = tweepy.OAuthHandler(\"95fyXonGGIHKgfothfbOOAM7p\", \"6KWDuC87go4CbFE6jLdRnHWGFcj2Fl9hQvdizfaiwCOdZliv49\")\n",
    "auth.set_access_token(\"852009551876431872-OfvYX17eqrPz9eERGaRVxKfkBPVALyO\", \"koQa3hgW22EsgdvseQVsj3KnYbzHc564xEVfr7lYiPGhy\")\n",
    "\n",
    "api = tweepy.API(auth)"
   ]
  },
  {
   "cell_type": "code",
   "execution_count": null,
   "metadata": {},
   "outputs": [],
   "source": [
    "api.search(q=\"Bitcoin\", from=\"\", count=100)"
   ]
  }
 ],
 "metadata": {
  "kernelspec": {
   "display_name": "Python 3.7",
   "language": "python",
   "name": "python3.7"
  },
  "language_info": {
   "codemirror_mode": {
    "name": "ipython",
    "version": 3
   },
   "file_extension": ".py",
   "mimetype": "text/x-python",
   "name": "python",
   "nbconvert_exporter": "python",
   "pygments_lexer": "ipython3",
   "version": "3.7.1"
  }
 },
 "nbformat": 4,
 "nbformat_minor": 2
}
