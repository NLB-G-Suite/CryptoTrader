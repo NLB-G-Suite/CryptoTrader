{
 "cells": [
  {
   "cell_type": "code",
   "execution_count": 10,
   "metadata": {},
   "outputs": [],
   "source": [
    "from libs.reading_utils import get_keywords\n",
    "from glob import glob\n",
    "from datetime import datetime"
   ]
  },
  {
   "cell_type": "code",
   "execution_count": 11,
   "metadata": {},
   "outputs": [],
   "source": [
    "keywords, historicList = get_keywords()\n"
   ]
  },
  {
   "cell_type": "code",
   "execution_count": 12,
   "metadata": {
    "scrolled": true
   },
   "outputs": [
    {
     "name": "stdout",
     "output_type": "stream",
     "text": [
      "{'keyword': 'bitcoin OR BTC', 'coinname': 'bitcoin', 'start': datetime.date(2015, 1, 1), 'end': datetime.date(2018, 9, 10)}\n",
      "{'keyword': 'dashcoin OR DASH OR darkcoin', 'coinname': 'dashcoin', 'start': datetime.date(2015, 5, 1), 'end': datetime.date(2018, 9, 10)}\n",
      "{'keyword': 'dogecoin OR DOGE', 'coinname': 'dogecoin', 'start': datetime.date(2015, 1, 1), 'end': datetime.date(2018, 9, 10)}\n",
      "{'keyword': 'ethereum OR ETH', 'coinname': 'ethereum', 'start': datetime.date(2015, 12, 1), 'end': datetime.date(2018, 9, 10)}\n",
      "{'keyword': 'litecoin OR LTC', 'coinname': 'litecoin', 'start': datetime.date(2015, 1, 1), 'end': datetime.date(2018, 9, 10)}\n",
      "{'keyword': 'monero OR XMR', 'coinname': 'monero', 'start': datetime.date(2015, 1, 1), 'end': datetime.date(2018, 9, 10)}\n",
      "{'keyword': 'ripple OR XRP', 'coinname': 'ripple', 'start': datetime.date(2015, 1, 1), 'end': datetime.date(2018, 9, 10)}\n",
      "{'keyword': 'stellar OR STR', 'coinname': 'stellar', 'start': datetime.date(2015, 1, 1), 'end': datetime.date(2018, 9, 10)}\n"
     ]
    }
   ],
   "source": [
    "for dic in historicList:\n",
    "    print(dic)"
   ]
  },
  {
   "cell_type": "code",
   "execution_count": 15,
   "metadata": {},
   "outputs": [],
   "source": [
    "def test_get_latest():\n",
    "    fnames = ['2018-01-01_2018-02-01.csv', '2017-01-01_2017-02-01.csv', '2018-05-01_2018-06-01.csv']\n",
    "    assert get_latest(fnames) == datetime(2018, 6, 1)"
   ]
  },
  {
   "cell_type": "code",
   "execution_count": 16,
   "metadata": {},
   "outputs": [],
   "source": [
    "test_get_latest()"
   ]
  },
  {
   "cell_type": "code",
   "execution_count": 8,
   "metadata": {},
   "outputs": [],
   "source": [
    "def get_latest(files):\n",
    "    if (len(files) >= 1):\n",
    "        endings = [datetime.strptime(file.split(\"_\")[1].replace('.csv', ''), '%Y-%m-%d') for file in files]\n",
    "        final_date = max(d for d in endings)\n",
    "        return final_date\n",
    "    else:\n",
    "        return None"
   ]
  },
  {
   "cell_type": "code",
   "execution_count": null,
   "metadata": {},
   "outputs": [],
   "source": []
  }
 ],
 "metadata": {
  "kernelspec": {
   "display_name": "Python 3.6 CryptoTrader",
   "language": "python",
   "name": "venv_cryptotrader"
  },
  "language_info": {
   "codemirror_mode": {
    "name": "ipython",
    "version": 3
   },
   "file_extension": ".py",
   "mimetype": "text/x-python",
   "name": "python",
   "nbconvert_exporter": "python",
   "pygments_lexer": "ipython3",
   "version": "3.6.5"
  }
 },
 "nbformat": 4,
 "nbformat_minor": 2
}
